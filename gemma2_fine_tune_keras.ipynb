{
 "cells": [
  {
   "cell_type": "markdown",
   "id": "3a3b37fd",
   "metadata": {
    "papermill": {
     "duration": 0.012269,
     "end_time": "2025-01-14T13:27:09.179092",
     "exception": false,
     "start_time": "2025-01-14T13:27:09.166823",
     "status": "completed"
    },
    "tags": []
   },
   "source": [
    "# Table of Contents\n",
    "- [Goal](#Goal)\n",
    "- [Problem](#problem)\n",
    "- [Dataset](#dataset)\n",
    "- [Model](#model)\n",
    "  - [Train](#train)\n",
    "  - [Test(Evaluate)](#testevaluate)\n",
    "  - [Comparing scores before and after fine-tuning](#comparing-scores-before-and-after-fine-tuning)\n",
    "  - [How to use the trained model](#how-to-use-the-trained-model)\n",
    "  - [Publishing the trained model to Kaggle](#publishing-the-trained-model-to-kaggle)\n",
    "- [Checking if the problem has been solved](#chekcing-if-the-problem-has-been-solved)\n",
    "- [Limitations](#limitations)\n",
    "- [Contact and Githup](#contact-and-github)"
   ]
  },
  {
   "cell_type": "markdown",
   "id": "aa0125cd",
   "metadata": {
    "papermill": {
     "duration": 0.009625,
     "end_time": "2025-01-14T13:27:09.198872",
     "exception": false,
     "start_time": "2025-01-14T13:27:09.189247",
     "status": "completed"
    },
    "tags": []
   },
   "source": [
    "# Goal\n",
    "- The goal of this project is to enhance gemma2 so that it can be used for the `study of Korean History` by enabling it to translate `hanja(Traditional Korean Chinese characters)` into `hangul(modern Korean characters)`.\n",
    "  - A Hanja (한자, 漢字) is a very traditional Chinese character that was historically adopted into the Korean writing system, used to represent meanings or sounds, and is still employed today for clarity, academic purposes, and cultural heritage, often complementing Hangul in certain contexts. Almost of all traditional Korean scholar books were written in Hanja.\n",
    "  - A Hangul (한글) is the Korean alphabet, a phonetic writing system invented in 1443 by King Sejong and his scholars during the Joseon Dynasty, designed to be simple and logical, enabling people of all social classes to easily learn and express the Korean language.\n",
    "- In order to do this, I will show you\n",
    "  - the `problem` of gemma2 is that it cannot translate `hanja` into `Korean` properly, whereas chatgpt-4o can.\n",
    "  - how to collect the data(silok) for training - it takes about three weeks to crawl the whole data without multiprocessing.\n",
    "    - Question: Which one is bigger, (a) the number of characters in [Silok(Korea)](https://en.wikipedia.org/wiki/Veritable_Records_of_the_Joseon_Dynasty), (b) the number of characters in [Twenty-Four Historis(China)](https://en.wikipedia.org/wiki/Twenty-Four_Histories)\n",
    "    - Hint: `Silok` refers to the raw data of the Joseon Dynasties, whereas the `Twenty-Four Histories` are more like summarized versions. The total size of the Silok is just under 1GB.\n",
    "  - how to publish the data to Kaggle\n",
    "  - how to fine-tunning the gemma2\n",
    "  - how to evaluate and use the model\n",
    "  - how to publish the model to Kaggle\n",
    "- Still working on it."
   ]
  },
  {
   "cell_type": "markdown",
   "id": "cf2df641",
   "metadata": {
    "papermill": {
     "duration": 0.009411,
     "end_time": "2025-01-14T13:27:09.218030",
     "exception": false,
     "start_time": "2025-01-14T13:27:09.208619",
     "status": "completed"
    },
    "tags": []
   },
   "source": [
    "# Problem\n",
    "- Gemma2 cannot translate `hanja(Korean Chinese)` into `modern Korean` properly without or with a few-shot prompt.\n",
    "- Run the following code and check its result to identify the problem."
   ]
  },
  {
   "cell_type": "markdown",
   "id": "5d49da13",
   "metadata": {
    "papermill": {
     "duration": 0.009288,
     "end_time": "2025-01-14T13:27:09.236833",
     "exception": false,
     "start_time": "2025-01-14T13:27:09.227545",
     "status": "completed"
    },
    "tags": []
   },
   "source": [
    "## Prepare to run gemma2"
   ]
  },
  {
   "cell_type": "code",
   "execution_count": 3,
   "id": "531faa9f",
   "metadata": {
    "execution": {
     "iopub.execute_input": "2025-01-14T13:28:21.757933Z",
     "iopub.status.busy": "2025-01-14T13:28:21.757455Z",
     "iopub.status.idle": "2025-01-14T13:28:21.762399Z",
     "shell.execute_reply": "2025-01-14T13:28:21.761604Z"
    },
    "papermill": {
     "duration": 0.018145,
     "end_time": "2025-01-14T13:28:21.764420",
     "exception": false,
     "start_time": "2025-01-14T13:28:21.746275",
     "status": "completed"
    },
    "tags": []
   },
   "outputs": [
    {
     "name": "stderr",
     "output_type": "stream",
     "text": [
      "/tmp/ipykernel_23/3861638892.py:2: DeprecationWarning: Importing display from IPython.core.display is deprecated since IPython 7.14, please import from IPython display\n",
      "  from IPython.core.display import display, HTML\n"
     ]
    }
   ],
   "source": [
    "import os\n",
    "from IPython.core.display import display, HTML\n",
    "\n",
    "# Set the backbend before importing Keras\n",
    "# os.environ[\"KERAS_BACKEND\"] = \"jax\"\n",
    "# Avoid memory fragmentation on JAX backend.\n",
    "os.environ[\"XLA_PYTHON_CLIENT_MEM_FRACTION\"] = \"1.00\"\n",
    "\n",
    "model_id = \"gemma2_instruct_2b_en\""
   ]
  },
  {
   "cell_type": "markdown",
   "id": "f454028a",
   "metadata": {
    "papermill": {
     "duration": 0.009928,
     "end_time": "2025-01-14T13:28:21.784372",
     "exception": false,
     "start_time": "2025-01-14T13:28:21.774444",
     "status": "completed"
    },
    "tags": []
   },
   "source": [
    "## Check the problem\n",
    "- The `input` data was extracted from `태조실록1권 태조1년 7월 17일 병신 2번째기사(Korean Dynasty First King's records)`. The answer should be `answer`, but the result(model's best output among five different attempts) is `output`, indicating that the meanings of the answer and the output are very different(and actually wrong).\n",
    "- `input`: `'上在潛邸, 夢有神人執金尺自天而降, 授之曰: \"慶侍中 復興, 淸矣而已老; 崔都統 瑩, 直矣而少戇。 持此正國, 非公而誰!\"'`\n",
    "- `answer`: `'임금이 잠저(潛邸)에 있을 때, 꿈에 신인(神人)이 금자[金尺]를 가지고 하늘에서 내려와 주면서 말하기를, \"시중(侍中) 경복흥(慶復興)은 청렴하기는 하나 이미 늙었으며, 도통(都統) 최영(崔瑩)은 강직하기는 하나 조금 고지식하니, 이것을 가지고 나라를 바룰 사람은 공(公)이 아니고 누구이겠는가?\" 하였다.'`\n",
    "- `output`(model's output): `상을 잠들고, 꿈에 신인이 돈을 잡아 천장에서 내려왔다. 그에게 말했다: \"정실 중, 복흥을 이루고, 깨끗해졌다. 崔都통 瑩, 곧 똑똑해졌지만, 멍청해졌다. 이 정권을 지키는 것은 공적인 일이 아니야!\"`"
   ]
  },
  {
   "cell_type": "markdown",
   "id": "f3389acc",
   "metadata": {
    "papermill": {
     "duration": 0.009945,
     "end_time": "2025-01-14T13:28:21.804229",
     "exception": false,
     "start_time": "2025-01-14T13:28:21.794284",
     "status": "completed"
    },
    "tags": []
   },
   "source": [
    "## ChatGPT(4o)'s Output\n",
    "- prompt: `한국의 한자로 된 고어 문서를 현대 한국어로 번역해줘. 영어나 중국어를 쓰지 말고 한글로 답변해줘. '上在潛邸, 夢有神人執金尺自天而降, 授之曰: \"慶侍中 復興, 淸矣而已老; 崔都統 瑩, 直矣而少戇。 持此正國, 非公而誰!\"'`\n",
    "- output:\n",
    "다음은 고어로 된 문장을 현대 한국어로 번역한 내용입니다.\n",
    "\n",
    "`\"임금께서 잠시 머물던 곳에서 꿈을 꾸었는데, 신령스러운 사람이 금자(금으로 만든 자)를 들고 하늘에서 내려와 말하기를, '경 시중(慶侍中)은 나라를 다시 일으킬 만하나, 맑기는 하지만 나이가 많다. 최 도통(崔都統)은 정직하지만 조금 우둔하다. 이 자로 나라를 바로잡을 사람이 공(公)이 아니면 누가 있겠는가!'라고 하였다.\"`\n",
    "\n",
    "배경 설명:\n",
    "\n",
    "\"상재잠저(上在潛邸)\": 임금이 왕위에 오르기 전 거처하던 곳.\n",
    "\"시중(侍中)\": 고려나 조선시대의 고위 관직.\n",
    "\"도통(都統)\": 군사 직위나 관직.\n",
    "\"공(公)\": 존칭으로, 높은 관직이나 인물을 지칭.\n",
    "문맥에서 신령이 왕에게 꿈에서 금자를 주며 나라를 바로잡을 임무를 맡기는 장면으로 보입니다."
   ]
  },
  {
   "cell_type": "code",
   "execution_count": 4,
   "id": "48d527e5",
   "metadata": {
    "_kg_hide-input": true,
    "_kg_hide-output": true,
    "execution": {
     "iopub.execute_input": "2025-01-14T13:28:21.825719Z",
     "iopub.status.busy": "2025-01-14T13:28:21.825359Z",
     "iopub.status.idle": "2025-01-14T13:29:12.230578Z",
     "shell.execute_reply": "2025-01-14T13:29:12.229734Z"
    },
    "papermill": {
     "duration": 50.418187,
     "end_time": "2025-01-14T13:29:12.232370",
     "exception": false,
     "start_time": "2025-01-14T13:28:21.814183",
     "status": "completed"
    },
    "tags": []
   },
   "outputs": [
    {
     "name": "stderr",
     "output_type": "stream",
     "text": [
      "normalizer.cc(51) LOG(INFO) precompiled_charsmap is empty. use identity normalization.\n"
     ]
    },
    {
     "data": {
      "text/html": [
       "<pre style=\"white-space:pre;overflow-x:auto;line-height:normal;font-family:Menlo,'DejaVu Sans Mono',consolas,'Courier New',monospace\"><span style=\"font-weight: bold\">Preprocessor: \"gemma_causal_lm_preprocessor\"</span>\n",
       "</pre>\n"
      ],
      "text/plain": [
       "\u001b[1mPreprocessor: \"gemma_causal_lm_preprocessor\"\u001b[0m\n"
      ]
     },
     "metadata": {},
     "output_type": "display_data"
    },
    {
     "data": {
      "text/html": [
       "<pre style=\"white-space:pre;overflow-x:auto;line-height:normal;font-family:Menlo,'DejaVu Sans Mono',consolas,'Courier New',monospace\">┏━━━━━━━━━━━━━━━━━━━━━━━━━━━━━━━━━━━━━━━━━━━━━━━━━━━━━━━━━━━━━━━┳━━━━━━━━━━━━━━━━━━━━━━━━━━━━━━━━━━━━━━━━━━┓\n",
       "┃<span style=\"font-weight: bold\"> Layer (type)                                                  </span>┃<span style=\"font-weight: bold\">                                   Config </span>┃\n",
       "┡━━━━━━━━━━━━━━━━━━━━━━━━━━━━━━━━━━━━━━━━━━━━━━━━━━━━━━━━━━━━━━━╇━━━━━━━━━━━━━━━━━━━━━━━━━━━━━━━━━━━━━━━━━━┩\n",
       "│ gemma_tokenizer (<span style=\"color: #0087ff; text-decoration-color: #0087ff\">GemmaTokenizer</span>)                              │                      Vocab size: <span style=\"color: #00af00; text-decoration-color: #00af00\">256,000</span> │\n",
       "└───────────────────────────────────────────────────────────────┴──────────────────────────────────────────┘\n",
       "</pre>\n"
      ],
      "text/plain": [
       "┏━━━━━━━━━━━━━━━━━━━━━━━━━━━━━━━━━━━━━━━━━━━━━━━━━━━━━━━━━━━━━━━┳━━━━━━━━━━━━━━━━━━━━━━━━━━━━━━━━━━━━━━━━━━┓\n",
       "┃\u001b[1m \u001b[0m\u001b[1mLayer (type)                                                 \u001b[0m\u001b[1m \u001b[0m┃\u001b[1m \u001b[0m\u001b[1m                                  Config\u001b[0m\u001b[1m \u001b[0m┃\n",
       "┡━━━━━━━━━━━━━━━━━━━━━━━━━━━━━━━━━━━━━━━━━━━━━━━━━━━━━━━━━━━━━━━╇━━━━━━━━━━━━━━━━━━━━━━━━━━━━━━━━━━━━━━━━━━┩\n",
       "│ gemma_tokenizer (\u001b[38;5;33mGemmaTokenizer\u001b[0m)                              │                      Vocab size: \u001b[38;5;34m256,000\u001b[0m │\n",
       "└───────────────────────────────────────────────────────────────┴──────────────────────────────────────────┘\n"
      ]
     },
     "metadata": {},
     "output_type": "display_data"
    },
    {
     "data": {
      "text/html": [
       "<pre style=\"white-space:pre;overflow-x:auto;line-height:normal;font-family:Menlo,'DejaVu Sans Mono',consolas,'Courier New',monospace\"><span style=\"font-weight: bold\">Model: \"gemma_causal_lm\"</span>\n",
       "</pre>\n"
      ],
      "text/plain": [
       "\u001b[1mModel: \"gemma_causal_lm\"\u001b[0m\n"
      ]
     },
     "metadata": {},
     "output_type": "display_data"
    },
    {
     "data": {
      "text/html": [
       "<pre style=\"white-space:pre;overflow-x:auto;line-height:normal;font-family:Menlo,'DejaVu Sans Mono',consolas,'Courier New',monospace\">┏━━━━━━━━━━━━━━━━━━━━━━━━━━━━━━━┳━━━━━━━━━━━━━━━━━━━━━━━━━━━┳━━━━━━━━━━━━━━━━━┳━━━━━━━━━━━━━━━━━━━━━━━━━━━━┓\n",
       "┃<span style=\"font-weight: bold\"> Layer (type)                  </span>┃<span style=\"font-weight: bold\"> Output Shape              </span>┃<span style=\"font-weight: bold\">         Param # </span>┃<span style=\"font-weight: bold\"> Connected to               </span>┃\n",
       "┡━━━━━━━━━━━━━━━━━━━━━━━━━━━━━━━╇━━━━━━━━━━━━━━━━━━━━━━━━━━━╇━━━━━━━━━━━━━━━━━╇━━━━━━━━━━━━━━━━━━━━━━━━━━━━┩\n",
       "│ padding_mask (<span style=\"color: #0087ff; text-decoration-color: #0087ff\">InputLayer</span>)     │ (<span style=\"color: #00d7ff; text-decoration-color: #00d7ff\">None</span>, <span style=\"color: #00d7ff; text-decoration-color: #00d7ff\">None</span>)              │               <span style=\"color: #00af00; text-decoration-color: #00af00\">0</span> │ -                          │\n",
       "├───────────────────────────────┼───────────────────────────┼─────────────────┼────────────────────────────┤\n",
       "│ token_ids (<span style=\"color: #0087ff; text-decoration-color: #0087ff\">InputLayer</span>)        │ (<span style=\"color: #00d7ff; text-decoration-color: #00d7ff\">None</span>, <span style=\"color: #00d7ff; text-decoration-color: #00d7ff\">None</span>)              │               <span style=\"color: #00af00; text-decoration-color: #00af00\">0</span> │ -                          │\n",
       "├───────────────────────────────┼───────────────────────────┼─────────────────┼────────────────────────────┤\n",
       "│ gemma_backbone                │ (<span style=\"color: #00d7ff; text-decoration-color: #00d7ff\">None</span>, <span style=\"color: #00d7ff; text-decoration-color: #00d7ff\">None</span>, <span style=\"color: #00af00; text-decoration-color: #00af00\">2304</span>)        │   <span style=\"color: #00af00; text-decoration-color: #00af00\">2,614,341,888</span> │ padding_mask[<span style=\"color: #00af00; text-decoration-color: #00af00\">0</span>][<span style=\"color: #00af00; text-decoration-color: #00af00\">0</span>],        │\n",
       "│ (<span style=\"color: #0087ff; text-decoration-color: #0087ff\">GemmaBackbone</span>)               │                           │                 │ token_ids[<span style=\"color: #00af00; text-decoration-color: #00af00\">0</span>][<span style=\"color: #00af00; text-decoration-color: #00af00\">0</span>]            │\n",
       "├───────────────────────────────┼───────────────────────────┼─────────────────┼────────────────────────────┤\n",
       "│ token_embedding               │ (<span style=\"color: #00d7ff; text-decoration-color: #00d7ff\">None</span>, <span style=\"color: #00d7ff; text-decoration-color: #00d7ff\">None</span>, <span style=\"color: #00af00; text-decoration-color: #00af00\">256000</span>)      │     <span style=\"color: #00af00; text-decoration-color: #00af00\">589,824,000</span> │ gemma_backbone[<span style=\"color: #00af00; text-decoration-color: #00af00\">0</span>][<span style=\"color: #00af00; text-decoration-color: #00af00\">0</span>]       │\n",
       "│ (<span style=\"color: #0087ff; text-decoration-color: #0087ff\">ReversibleEmbedding</span>)         │                           │                 │                            │\n",
       "└───────────────────────────────┴───────────────────────────┴─────────────────┴────────────────────────────┘\n",
       "</pre>\n"
      ],
      "text/plain": [
       "┏━━━━━━━━━━━━━━━━━━━━━━━━━━━━━━━┳━━━━━━━━━━━━━━━━━━━━━━━━━━━┳━━━━━━━━━━━━━━━━━┳━━━━━━━━━━━━━━━━━━━━━━━━━━━━┓\n",
       "┃\u001b[1m \u001b[0m\u001b[1mLayer (type)                 \u001b[0m\u001b[1m \u001b[0m┃\u001b[1m \u001b[0m\u001b[1mOutput Shape             \u001b[0m\u001b[1m \u001b[0m┃\u001b[1m \u001b[0m\u001b[1m        Param #\u001b[0m\u001b[1m \u001b[0m┃\u001b[1m \u001b[0m\u001b[1mConnected to              \u001b[0m\u001b[1m \u001b[0m┃\n",
       "┡━━━━━━━━━━━━━━━━━━━━━━━━━━━━━━━╇━━━━━━━━━━━━━━━━━━━━━━━━━━━╇━━━━━━━━━━━━━━━━━╇━━━━━━━━━━━━━━━━━━━━━━━━━━━━┩\n",
       "│ padding_mask (\u001b[38;5;33mInputLayer\u001b[0m)     │ (\u001b[38;5;45mNone\u001b[0m, \u001b[38;5;45mNone\u001b[0m)              │               \u001b[38;5;34m0\u001b[0m │ -                          │\n",
       "├───────────────────────────────┼───────────────────────────┼─────────────────┼────────────────────────────┤\n",
       "│ token_ids (\u001b[38;5;33mInputLayer\u001b[0m)        │ (\u001b[38;5;45mNone\u001b[0m, \u001b[38;5;45mNone\u001b[0m)              │               \u001b[38;5;34m0\u001b[0m │ -                          │\n",
       "├───────────────────────────────┼───────────────────────────┼─────────────────┼────────────────────────────┤\n",
       "│ gemma_backbone                │ (\u001b[38;5;45mNone\u001b[0m, \u001b[38;5;45mNone\u001b[0m, \u001b[38;5;34m2304\u001b[0m)        │   \u001b[38;5;34m2,614,341,888\u001b[0m │ padding_mask[\u001b[38;5;34m0\u001b[0m][\u001b[38;5;34m0\u001b[0m],        │\n",
       "│ (\u001b[38;5;33mGemmaBackbone\u001b[0m)               │                           │                 │ token_ids[\u001b[38;5;34m0\u001b[0m][\u001b[38;5;34m0\u001b[0m]            │\n",
       "├───────────────────────────────┼───────────────────────────┼─────────────────┼────────────────────────────┤\n",
       "│ token_embedding               │ (\u001b[38;5;45mNone\u001b[0m, \u001b[38;5;45mNone\u001b[0m, \u001b[38;5;34m256000\u001b[0m)      │     \u001b[38;5;34m589,824,000\u001b[0m │ gemma_backbone[\u001b[38;5;34m0\u001b[0m][\u001b[38;5;34m0\u001b[0m]       │\n",
       "│ (\u001b[38;5;33mReversibleEmbedding\u001b[0m)         │                           │                 │                            │\n",
       "└───────────────────────────────┴───────────────────────────┴─────────────────┴────────────────────────────┘\n"
      ]
     },
     "metadata": {},
     "output_type": "display_data"
    },
    {
     "data": {
      "text/html": [
       "<pre style=\"white-space:pre;overflow-x:auto;line-height:normal;font-family:Menlo,'DejaVu Sans Mono',consolas,'Courier New',monospace\"><span style=\"font-weight: bold\"> Total params: </span><span style=\"color: #00af00; text-decoration-color: #00af00\">2,614,341,888</span> (9.74 GB)\n",
       "</pre>\n"
      ],
      "text/plain": [
       "\u001b[1m Total params: \u001b[0m\u001b[38;5;34m2,614,341,888\u001b[0m (9.74 GB)\n"
      ]
     },
     "metadata": {},
     "output_type": "display_data"
    },
    {
     "data": {
      "text/html": [
       "<pre style=\"white-space:pre;overflow-x:auto;line-height:normal;font-family:Menlo,'DejaVu Sans Mono',consolas,'Courier New',monospace\"><span style=\"font-weight: bold\"> Trainable params: </span><span style=\"color: #00af00; text-decoration-color: #00af00\">2,614,341,888</span> (9.74 GB)\n",
       "</pre>\n"
      ],
      "text/plain": [
       "\u001b[1m Trainable params: \u001b[0m\u001b[38;5;34m2,614,341,888\u001b[0m (9.74 GB)\n"
      ]
     },
     "metadata": {},
     "output_type": "display_data"
    },
    {
     "data": {
      "text/html": [
       "<pre style=\"white-space:pre;overflow-x:auto;line-height:normal;font-family:Menlo,'DejaVu Sans Mono',consolas,'Courier New',monospace\"><span style=\"font-weight: bold\"> Non-trainable params: </span><span style=\"color: #00af00; text-decoration-color: #00af00\">0</span> (0.00 B)\n",
       "</pre>\n"
      ],
      "text/plain": [
       "\u001b[1m Non-trainable params: \u001b[0m\u001b[38;5;34m0\u001b[0m (0.00 B)\n"
      ]
     },
     "metadata": {},
     "output_type": "display_data"
    }
   ],
   "source": [
    "import keras\n",
    "import keras_nlp\n",
    "import time\n",
    "import pandas as pd\n",
    "\n",
    "gemma = keras_nlp.models.GemmaCausalLM.from_preset(model_id)\n",
    "gemma.summary()"
   ]
  },
  {
   "cell_type": "code",
   "execution_count": 5,
   "id": "6ec5b60c",
   "metadata": {
    "execution": {
     "iopub.execute_input": "2025-01-14T13:29:12.254959Z",
     "iopub.status.busy": "2025-01-14T13:29:12.254436Z",
     "iopub.status.idle": "2025-01-14T13:29:12.258524Z",
     "shell.execute_reply": "2025-01-14T13:29:12.257692Z"
    },
    "papermill": {
     "duration": 0.017147,
     "end_time": "2025-01-14T13:29:12.260255",
     "exception": false,
     "start_time": "2025-01-14T13:29:12.243108",
     "status": "completed"
    },
    "tags": []
   },
   "outputs": [],
   "source": [
    "test_hanja = '上在潛邸, 夢有神人執金尺自天而降, 授之曰: \"慶侍中 復興, 淸矣而已老; 崔都統 瑩, 直矣而少戇。 持此正國, 非公而誰!\"'\n",
    "test_answer = '임금이 잠저(潛邸)에 있을 때, 꿈에 신인(神人)이 금자[金尺]를 가지고 하늘에서 내려와 주면서 말하기를, \"시중(侍中) 경복흥(慶復興)은 청렴하기는 하나 이미 늙었으며, 도통(都統) 최영(崔瑩)은 강직하기는 하나 조금 고지식하니, 이것을 가지고 나라를 바룰 사람은 공(公)이 아니고 누구이겠는가?\" 하였다.'"
   ]
  },
  {
   "cell_type": "code",
   "execution_count": 6,
   "id": "165f2fbe",
   "metadata": {
    "_kg_hide-input": true,
    "execution": {
     "iopub.execute_input": "2025-01-14T13:29:12.282881Z",
     "iopub.status.busy": "2025-01-14T13:29:12.282599Z",
     "iopub.status.idle": "2025-01-14T13:29:12.287804Z",
     "shell.execute_reply": "2025-01-14T13:29:12.287160Z"
    },
    "papermill": {
     "duration": 0.018067,
     "end_time": "2025-01-14T13:29:12.289399",
     "exception": false,
     "start_time": "2025-01-14T13:29:12.271332",
     "status": "completed"
    },
    "tags": []
   },
   "outputs": [],
   "source": [
    "tick_start = 0\n",
    "token_limit = 512 \n",
    "\n",
    "# https://www.kaggle.com/code/bebechien/translator-of-old-korean-literature\n",
    "def text_gen(prompt):\n",
    "    input = f\"<start_of_turn>user\\n{prompt}<end_of_turn>\\n<start_of_turn>model\\n\"\n",
    "    output = gemma.generate(input, max_length=token_limit)\n",
    "    return output \n",
    "\n",
    "\n",
    "# kcy4, 2025.01.04\n",
    "def text_gen_with_few_shot(prompt, few_shot):\n",
    "    few_shot_str = \"\"\n",
    "    for x, y in few_shot:\n",
    "        few_shot_str += f\"<start_of_turn>user\\n{x}<end_of_turn>\\n<start_of_turn>model\\n{y}<end_of_turn>\\n\"\n",
    "        \n",
    "    input = f\"{few_shot_str}<start_of_turn>user\\n{prompt}<end_of_turn>\\n<start_of_turn>model\\n\"\n",
    "    output = gemma.generate(input, max_length=token_limit)\n",
    "    # Get the last response from the model\n",
    "    last_index = output.rfind(\"<start_of_turn>user\")\n",
    "    output = output[last_index:]\n",
    "    return output "
   ]
  },
  {
   "cell_type": "code",
   "execution_count": 7,
   "id": "9c3ff262",
   "metadata": {
    "execution": {
     "iopub.execute_input": "2025-01-14T13:29:12.311623Z",
     "iopub.status.busy": "2025-01-14T13:29:12.311355Z",
     "iopub.status.idle": "2025-01-14T13:29:41.317118Z",
     "shell.execute_reply": "2025-01-14T13:29:41.316214Z"
    },
    "papermill": {
     "duration": 29.018812,
     "end_time": "2025-01-14T13:29:41.318912",
     "exception": false,
     "start_time": "2025-01-14T13:29:12.300100",
     "status": "completed"
    },
    "tags": []
   },
   "outputs": [
    {
     "data": {
      "text/plain": [
       "'<start_of_turn>user\\n上在潛邸, 夢有神人執金尺自天而降, 授之曰: \"慶侍中 復興, 淸矣而已老; 崔都統 瑩, 直矣而少戇。 持此正國, 非公而誰!\"<end_of_turn>\\n<start_of_turn>model\\nThis is a classic Chinese poem, likely from the Tang Dynasty, known for its poetic imagery and philosophical depth. Let\\'s break down its meaning:\\n\\n**The Context:**\\n\\n* **\"上在潛邸\"**:  This means the speaker is in a secluded, hidden place, possibly a mountaintop or a cave. This setting suggests a contemplative and introspective mood.\\n* **\"夢有神人執金尺自天而降\"**:  This is a dream. A divine person, possibly a god or a wise sage, descends from the sky with a golden ruler. \\n* **\"授之曰: \\'慶侍中 復興, 淸矣而已老; 崔都統 瑩, 直矣而少戇。 持此正國, 非公而誰!\\'\"**:  The divine person gives the speaker a golden ruler. The message is delivered in a series of pronouncements:\\n\\n    * **\"慶侍中 復興, 淸矣而已老\"**:  \"The Prime Minister, who is now in decline, can be revived. It is only a matter of time.\" This suggests a call for revitalization and renewal.\\n    * **\"崔都統 瑩, 直矣而少戇\"**: \"The Prime Minister, who is now in decline, can be revived. It is only a matter of time.\" This suggests a call for revitalization and renewal.\\n    * **\"持此正國, 非公而誰!\"**: \"Holding this ruler, it is not for the common man, but for the one who is truly worthy.\" This is the core message, emphasizing the need for a ruler who is not motivated by personal gain but by the well-being of the people.\\n\\n**Interpretation:**\\n\\nThe poem is a powerful allegory about leadership and the pursuit of justice. \\n\\n* **The Dream:** The dream symbolizes a vision of a better future, a time of prosperity and peace.\\n* **The Ruler:** The golden ruler represents a symbol of power and authority. It is given to the speaker, who is likely a leader or someone in a position of influence.\\n* **The Message:**'"
      ]
     },
     "execution_count": 7,
     "metadata": {},
     "output_type": "execute_result"
    }
   ],
   "source": [
    "# The output is totaly wrong, which says the input is a classic Chinese poem\n",
    "test_output = text_gen(test_hanja)\n",
    "test_output"
   ]
  },
  {
   "cell_type": "code",
   "execution_count": 8,
   "id": "686630d1",
   "metadata": {
    "execution": {
     "iopub.execute_input": "2025-01-14T13:29:41.342237Z",
     "iopub.status.busy": "2025-01-14T13:29:41.341942Z",
     "iopub.status.idle": "2025-01-14T13:29:55.884662Z",
     "shell.execute_reply": "2025-01-14T13:29:55.883759Z"
    },
    "papermill": {
     "duration": 14.556176,
     "end_time": "2025-01-14T13:29:55.886437",
     "exception": false,
     "start_time": "2025-01-14T13:29:41.330261",
     "status": "completed"
    },
    "tags": []
   },
   "outputs": [
    {
     "data": {
      "text/plain": [
       "'<start_of_turn>user\\n한국의 한자로 된 고어 문서를 현대 한국어로 번역해줘. 上在潛邸, 夢有神人執金尺自天而降, 授之曰: \"慶侍中 復興, 淸矣而已老; 崔都統 瑩, 直矣而少戇。 持此正國, 非公而誰!\"<end_of_turn>\\n<start_of_turn>model\\n## Translation of the Korean Hanja Text:\\n\\n**\"Above the subterranean dwelling, there was a dream of a divine man holding a golden ruler that descended from heaven. He said, \\'This is the way to restore the country, to revive it. It is only old; the Prime Minister of the Imperial Court, Choi, is wise and intelligent. Holding this, one can restore the country, not for the sake of the public, but for whom?\\'\"**\\n\\n\\n**Explanation:**\\n\\nThis text is a fragment of a historical document, likely a conversation between a powerful figure and a subordinate. \\n\\n* **\"Above the subterranean dwelling\"**: This likely refers to a hidden or secret location, possibly a palace or a place of power.\\n* **\"there was a dream of a divine man holding a golden ruler that descended from heaven\"**: This suggests a vision or prophecy, possibly about a future leader or a divine intervention.\\n* **\"He said, \\'This is the way to restore the country, to revive it. It is only old; the Prime Minister of the Imperial Court, Choi, is wise and intelligent. Holding this, one can restore the country, not for the sake of the public, but for whom?\\'\"**: This is a complex statement with multiple layers of meaning. \\n    * **\"This is the way to restore the country, to revive it\"**: This suggests a plan or strategy for restoring the country to its former glory.\\n    * **\"It is only old\"**: This could refer to the current state of the country, which is considered outdated or stagnant.\\n    * **\"The Prime Minister of the Imperial Court, Choi, is wise and intelligent\"**: This praises the Prime Minister\\'s wisdom and intelligence.\\n    * **\"Holding this, one can restore the country, not for the sake of the public, but for whom?\"**: This is a rhetorical question, implying that the restoration of the country is not for the benefit of the public, but for a specific individual or group.\\n\\n\\n**Note:** \\n\\nThis text'"
      ]
     },
     "execution_count": 8,
     "metadata": {},
     "output_type": "execute_result"
    }
   ],
   "source": [
    "text_gen(f'한국의 한자로 된 고어 문서를 현대 한국어로 번역해줘. {test_hanja}')"
   ]
  },
  {
   "cell_type": "code",
   "execution_count": 9,
   "id": "5fa6ee60",
   "metadata": {
    "execution": {
     "iopub.execute_input": "2025-01-14T13:29:55.909671Z",
     "iopub.status.busy": "2025-01-14T13:29:55.909041Z",
     "iopub.status.idle": "2025-01-14T13:29:59.387305Z",
     "shell.execute_reply": "2025-01-14T13:29:59.386372Z"
    },
    "papermill": {
     "duration": 3.491552,
     "end_time": "2025-01-14T13:29:59.388945",
     "exception": false,
     "start_time": "2025-01-14T13:29:55.897393",
     "status": "completed"
    },
    "tags": []
   },
   "outputs": [
    {
     "data": {
      "text/plain": [
       "'<start_of_turn>user\\n한국의 한자로 된 고어 문서를 현대 한국어로 번역해줘. 영어나 중국어를 쓰지 말고 한글로 답변해줘. 上在潛邸, 夢有神人執金尺自天而降, 授之曰: \"慶侍中 復興, 淸矣而已老; 崔都統 瑩, 直矣而少戇。 持此正國, 非公而誰!\"<end_of_turn>\\n<start_of_turn>model\\n**상을 잠들고, 꿈에 신인이 돈을 잡아 천장에서 내려왔다. 그에게 말했다: \"정실 중, 복흥을 이루고, 깨끗해졌다. 崔都통 瑩, 곧 똑똑해졌지만, 멍청해졌다. 이 정권을 지키는 것은 공적인 일이 아니야!\"** \\n<end_of_turn>'"
      ]
     },
     "execution_count": 9,
     "metadata": {},
     "output_type": "execute_result"
    }
   ],
   "source": [
    "text_gen(f'한국의 한자로 된 고어 문서를 현대 한국어로 번역해줘. 영어나 중국어를 쓰지 말고 한글로 답변해줘. {test_hanja}')"
   ]
  },
  {
   "cell_type": "markdown",
   "id": "ff3628fb",
   "metadata": {
    "papermill": {
     "duration": 0.010488,
     "end_time": "2025-01-14T13:29:59.410482",
     "exception": false,
     "start_time": "2025-01-14T13:29:59.399994",
     "status": "completed"
    },
    "tags": []
   },
   "source": [
    "## Few-shot prompt"
   ]
  },
  {
   "cell_type": "code",
   "execution_count": 10,
   "id": "850da7a3",
   "metadata": {
    "execution": {
     "iopub.execute_input": "2025-01-14T13:29:59.433989Z",
     "iopub.status.busy": "2025-01-14T13:29:59.433022Z",
     "iopub.status.idle": "2025-01-14T13:30:07.809407Z",
     "shell.execute_reply": "2025-01-14T13:30:07.808473Z"
    },
    "papermill": {
     "duration": 8.390284,
     "end_time": "2025-01-14T13:30:07.811471",
     "exception": false,
     "start_time": "2025-01-14T13:29:59.421187",
     "status": "completed"
    },
    "tags": []
   },
   "outputs": [
    {
     "data": {
      "text/plain": [
       "'<start_of_turn>user\\n上在潛邸, 夢有神人執金尺自天而降, 授之曰: \"慶侍中 復興, 淸矣而已老; 崔都統 瑩, 直矣而少戇。 持此正國, 非公而誰!\"<end_of_turn>\\n<start_of_turn>model\\n왕은 잠자리에 있었는데, 꿈에서 신성한 인물이 금 척을 땅에서 떨어뜨렸고, 그에게 말했다: \"정신을 갖추고, 옛날의 힘을 되찾아, 깨끗하게 만들어야 한다. 옛날의 힘을 되찾아, 깨끗하게 만들어야 한다. 옛날의 힘을 되찾아, 깨끗하게 만들어야 한다. 옛날의 힘을 되찾아, 깨끗하게 만들어야 한다. 옛날의 힘을 되찾아, 깨끗하게 만들어야 한다. 옛날의 힘을 되찾아, 깨끗하게 만들어야 한다. 옛날의 힘을 되찾아, 깨끗하게 만들어야 한다. 옛날의 힘을 되찾아, 깨끗하게 만들어야 한다. 옛날의 힘을 되찾아, 깨끗하게 만들어야 한다. 옛날의 힘을 되찾아, 깨'"
      ]
     },
     "execution_count": 10,
     "metadata": {},
     "output_type": "execute_result"
    }
   ],
   "source": [
    "few_shot = [\n",
    "    ('庚午朔/隕霜。', '경오삭(庚午朔)에 서리가 내리었다.'),\n",
    "    ('壬申/上坐東涼廳, 召閱擲石軍, 命中樞趙琦領之。', '임금이 동량청(東涼廳)에 앉아 척석군(擲石軍)을 불러 사열하고, 중추(中樞) 조기(趙琦)에게 명하여 이들을 거느리게 하였다.'),\n",
    "    ('都評議使司具戶曹給田司田制, 狀申, 上允之。', '도평의사사에서 호조 급전사(戶曹給田司)의 전제(田制)를 갖추어 장계(狀啓)로 아뢰니, 임금이 그대로 윤허하였다.')\n",
    "]\n",
    "\n",
    "text_gen_with_few_shot(test_hanja, few_shot)"
   ]
  },
  {
   "cell_type": "code",
   "execution_count": 11,
   "id": "abbfc0ad",
   "metadata": {
    "execution": {
     "iopub.execute_input": "2025-01-14T13:30:07.834757Z",
     "iopub.status.busy": "2025-01-14T13:30:07.834492Z",
     "iopub.status.idle": "2025-01-14T13:30:09.032515Z",
     "shell.execute_reply": "2025-01-14T13:30:09.031650Z"
    },
    "papermill": {
     "duration": 1.211731,
     "end_time": "2025-01-14T13:30:09.034453",
     "exception": false,
     "start_time": "2025-01-14T13:30:07.822722",
     "status": "completed"
    },
    "tags": []
   },
   "outputs": [
    {
     "data": {
      "text/plain": [
       "'<start_of_turn>user\\n詣懿陵, 親祭, 仍詣貞陵, 親祭。<end_of_turn>\\n<start_of_turn>model\\n이성릉(懿陵)에 가서 숭배하고, 다시 숭배를 했다. \\n<end_of_turn>'"
      ]
     },
     "execution_count": 11,
     "metadata": {},
     "output_type": "execute_result"
    }
   ],
   "source": [
    "test_hanja = '詣懿陵, 親祭, 仍詣貞陵, 親祭。'\n",
    "text_gen_with_few_shot(test_hanja, few_shot)  # https://sillok.history.go.kr/id/kza_10608010_001\n",
    "# Answer: 의릉(懿陵)에 나아가 친히 제사를 지냈다. 이어 정릉(貞陵)에 나아가 친히 제사를 지냈다."
   ]
  },
  {
   "cell_type": "code",
   "execution_count": 12,
   "id": "5780bcd2",
   "metadata": {
    "execution": {
     "iopub.execute_input": "2025-01-14T13:30:09.058872Z",
     "iopub.status.busy": "2025-01-14T13:30:09.058229Z",
     "iopub.status.idle": "2025-01-14T13:30:09.063477Z",
     "shell.execute_reply": "2025-01-14T13:30:09.062668Z"
    },
    "papermill": {
     "duration": 0.018886,
     "end_time": "2025-01-14T13:30:09.064963",
     "exception": false,
     "start_time": "2025-01-14T13:30:09.046077",
     "status": "completed"
    },
    "tags": []
   },
   "outputs": [
    {
     "data": {
      "text/plain": [
       "'임금이 잠저(潛邸)에 있을 때, 꿈에 신인(神人)이 금자[金尺]를 가지고 하늘에서 내려와 주면서 말하기를, \"시중(侍中) 경복흥(慶復興)은 청렴하기는 하나 이미 늙었으며, 도통(都統) 최영(崔瑩)은 강직하기는 하나 조금 고지식하니, 이것을 가지고 나라를 바룰 사람은 공(公)이 아니고 누구이겠는가?\" 하였다.'"
      ]
     },
     "execution_count": 12,
     "metadata": {},
     "output_type": "execute_result"
    }
   ],
   "source": [
    "test_answer"
   ]
  },
  {
   "cell_type": "markdown",
   "id": "04d84224",
   "metadata": {
    "papermill": {
     "duration": 0.010675,
     "end_time": "2025-01-14T13:30:09.086561",
     "exception": false,
     "start_time": "2025-01-14T13:30:09.075886",
     "status": "completed"
    },
    "tags": []
   },
   "source": [
    "# Environment\n",
    "- To understand the flow(or concept) of this program, this Kaggle notebook(environment) is sufficient.\n",
    "- However, if you want to crawl the entire data and fully train gemma2 on your own, you will need\n",
    "  - A PC with at least a RTX-3090 or more or better GPUs for fast training\n",
    "  - python(>= 3.10) and conda installed\n",
    "  - ```python -m pip install -r ./requirements```\n",
    "  - to check my [github](https://github.com/cy4ego/google-unlock-global-communicateion-with-gemma)"
   ]
  },
  {
   "cell_type": "markdown",
   "id": "a3946d8e",
   "metadata": {
    "papermill": {
     "duration": 0.011198,
     "end_time": "2025-01-14T13:30:09.108498",
     "exception": false,
     "start_time": "2025-01-14T13:30:09.097300",
     "status": "completed"
    },
    "tags": []
   },
   "source": [
    "# Dataset"
   ]
  },
  {
   "cell_type": "markdown",
   "id": "9762d532",
   "metadata": {
    "papermill": {
     "duration": 0.012203,
     "end_time": "2025-01-14T13:30:09.247802",
     "exception": false,
     "start_time": "2025-01-14T13:30:09.235599",
     "status": "completed"
    },
    "tags": []
   },
   "source": [
    "## Prepare data to train"
   ]
  },
  {
   "cell_type": "markdown",
   "id": "d161b1fe",
   "metadata": {
    "papermill": {
     "duration": 0.010769,
     "end_time": "2025-01-14T13:30:09.269481",
     "exception": false,
     "start_time": "2025-01-14T13:30:09.258712",
     "status": "completed"
    },
    "tags": []
   },
   "source": [
    "### Get all json filepaths"
   ]
  },
  {
   "cell_type": "code",
   "execution_count": 14,
   "id": "e6aa5b56",
   "metadata": {
    "_kg_hide-input": true,
    "execution": {
     "iopub.execute_input": "2025-01-14T13:30:09.293523Z",
     "iopub.status.busy": "2025-01-14T13:30:09.292895Z",
     "iopub.status.idle": "2025-01-14T13:30:09.305393Z",
     "shell.execute_reply": "2025-01-14T13:30:09.304403Z"
    },
    "papermill": {
     "duration": 0.02667,
     "end_time": "2025-01-14T13:30:09.307075",
     "exception": false,
     "start_time": "2025-01-14T13:30:09.280405",
     "status": "completed"
    },
    "tags": []
   },
   "outputs": [
    {
     "name": "stdout",
     "output_type": "stream",
     "text": [
      "total number of train data: 21\n",
      "total number of valid data: 2\n",
      "total number of test data: 2\n"
     ]
    }
   ],
   "source": [
    "import json\n",
    "import glob \n",
    "\n",
    "filepaths = sorted(glob.glob('/kaggle/input/joseon-dynasty-silok/*.jsonl'))\n",
    "train_filepaths = filepaths[:21]\n",
    "valid_filepaths = filepaths[21:23]\n",
    "test_filepaths = filepaths[23:]\n",
    "\n",
    "print(f\"total number of train data: {len(train_filepaths)}\\ntotal number of valid data: {len(valid_filepaths)}\\ntotal number of test data: {len(test_filepaths)}\")"
   ]
  },
  {
   "cell_type": "markdown",
   "id": "30b71558",
   "metadata": {
    "papermill": {
     "duration": 0.010678,
     "end_time": "2025-01-14T13:30:09.328796",
     "exception": false,
     "start_time": "2025-01-14T13:30:09.318118",
     "status": "completed"
    },
    "tags": []
   },
   "source": [
    "### Json to TFRecord utils"
   ]
  },
  {
   "cell_type": "code",
   "execution_count": 15,
   "id": "ed4b9a86",
   "metadata": {
    "execution": {
     "iopub.execute_input": "2025-01-14T13:30:09.352617Z",
     "iopub.status.busy": "2025-01-14T13:30:09.352331Z",
     "iopub.status.idle": "2025-01-14T13:30:09.357682Z",
     "shell.execute_reply": "2025-01-14T13:30:09.356635Z"
    },
    "papermill": {
     "duration": 0.019543,
     "end_time": "2025-01-14T13:30:09.359366",
     "exception": false,
     "start_time": "2025-01-14T13:30:09.339823",
     "status": "completed"
    },
    "tags": []
   },
   "outputs": [
    {
     "data": {
      "text/plain": [
       "'2.16.1'"
      ]
     },
     "execution_count": 15,
     "metadata": {},
     "output_type": "execute_result"
    }
   ],
   "source": [
    "import tensorflow as tf \n",
    "tf.__version__"
   ]
  },
  {
   "cell_type": "code",
   "execution_count": 16,
   "id": "98127194",
   "metadata": {
    "execution": {
     "iopub.execute_input": "2025-01-14T13:30:09.383066Z",
     "iopub.status.busy": "2025-01-14T13:30:09.382794Z",
     "iopub.status.idle": "2025-01-14T13:30:09.390276Z",
     "shell.execute_reply": "2025-01-14T13:30:09.389669Z"
    },
    "papermill": {
     "duration": 0.02091,
     "end_time": "2025-01-14T13:30:09.391721",
     "exception": false,
     "start_time": "2025-01-14T13:30:09.370811",
     "status": "completed"
    },
    "tags": []
   },
   "outputs": [],
   "source": [
    "# 1. Convert JSONL to TFRecords\n",
    "def jsonl_to_tfrecord(jsonl_files, tfrecord_file):\n",
    "    def serialize_example(data):\n",
    "        feature = {\n",
    "            \"hanja\": tf.train.Feature(bytes_list=tf.train.BytesList(value=[data[\"hanja\"].encode(\"utf-8\")])),\n",
    "            \"hangul\": tf.train.Feature(bytes_list=tf.train.BytesList(value=[data[\"hangul\"].encode(\"utf-8\")])),\n",
    "        }\n",
    "        return tf.train.Example(features=tf.train.Features(feature=feature)).SerializeToString()\n",
    "\n",
    "    with tf.io.TFRecordWriter(tfrecord_file) as writer:\n",
    "        for file in jsonl_files:\n",
    "            with open(file, \"r\") as f:\n",
    "                for line in f:\n",
    "                    data = json.loads(line.strip())\n",
    "                    tf_example = serialize_example(data)\n",
    "                    writer.write(tf_example)\n",
    "\n",
    "# 2. Create a TFRecord dataset loader\n",
    "def parse_tfrecord_fn(example_proto):\n",
    "    feature_description = {\n",
    "        \"hanja\": tf.io.FixedLenFeature([], tf.string),\n",
    "        \"hangul\": tf.io.FixedLenFeature([], tf.string),\n",
    "    }\n",
    "    parsed_example = tf.io.parse_single_example(example_proto, feature_description)\n",
    "    return parsed_example[\"hanja\"], parsed_example[\"hangul\"]\n",
    "\n",
    "def create_dataset(tfrecord_files, batch_size):\n",
    "    raw_dataset = tf.data.TFRecordDataset(tfrecord_files)\n",
    "\n",
    "    dataset = (raw_dataset\n",
    "               .map(parse_tfrecord_fn, num_parallel_calls=tf.data.AUTOTUNE)\n",
    "               # .map(tf_preprocess, num_parallel_calls=tf.data.AUTOTUNE)\n",
    "               .shuffle(buffer_size=1_000)\n",
    "               .batch(batch_size)\n",
    "               .repeat()\n",
    "               .prefetch(buffer_size=tf.data.AUTOTUNE))\n",
    "    return dataset"
   ]
  },
  {
   "cell_type": "markdown",
   "id": "61cb7178",
   "metadata": {
    "papermill": {
     "duration": 0.011126,
     "end_time": "2025-01-14T13:30:09.414059",
     "exception": false,
     "start_time": "2025-01-14T13:30:09.402933",
     "status": "completed"
    },
    "tags": []
   },
   "source": [
    "### Create a TFRecord file from json filepaths"
   ]
  },
  {
   "cell_type": "code",
   "execution_count": 17,
   "id": "48a7001c",
   "metadata": {
    "execution": {
     "iopub.execute_input": "2025-01-14T13:30:09.437477Z",
     "iopub.status.busy": "2025-01-14T13:30:09.437234Z",
     "iopub.status.idle": "2025-01-14T13:30:12.092573Z",
     "shell.execute_reply": "2025-01-14T13:30:12.091619Z"
    },
    "papermill": {
     "duration": 2.669238,
     "end_time": "2025-01-14T13:30:12.094442",
     "exception": false,
     "start_time": "2025-01-14T13:30:09.425204",
     "status": "completed"
    },
    "tags": []
   },
   "outputs": [
    {
     "name": "stdout",
     "output_type": "stream",
     "text": [
      "Transforming jsonl files into tfrecord_file\n",
      "num_transformed_files=2, tfrecord_file=train_data.tfrecord\n",
      "Transforming jsonl files into tfrecord_file\n",
      "num_transformed_files=2, tfrecord_file=valid_data.tfrecord\n"
     ]
    }
   ],
   "source": [
    "num_train_files = 2\n",
    "\n",
    "train_filepaths = train_filepaths[:num_train_files] \n",
    "\n",
    "# File paths and parameters\n",
    "train_tfrecord_file = \"train_data.tfrecord\"\n",
    "valid_tfrecord_file = \"valid_data.tfrecord\"\n",
    "test_tfrecord_file = \"test_data.tfrecord\"\n",
    "\n",
    "# Convert JSONL files to TFRecord\n",
    "filepaths = (train_filepaths, valid_filepaths, test_filepaths)[:-1]\n",
    "tfrecord_files = (train_tfrecord_file, valid_tfrecord_file, test_tfrecord_file)[:-1]\n",
    "\n",
    "for jsonl_files, tfrecord_file in zip(filepaths, tfrecord_files):\n",
    "    print('Transforming jsonl files into tfrecord_file')\n",
    "    jsonl_to_tfrecord(jsonl_files, tfrecord_file) \n",
    "    print(f\"num_transformed_files={len(jsonl_files)}, tfrecord_file={tfrecord_file}\")"
   ]
  },
  {
   "cell_type": "markdown",
   "id": "99f63a84",
   "metadata": {
    "papermill": {
     "duration": 0.012087,
     "end_time": "2025-01-14T13:30:12.118429",
     "exception": false,
     "start_time": "2025-01-14T13:30:12.106342",
     "status": "completed"
    },
    "tags": []
   },
   "source": [
    "### Evaluate before fine-tuning"
   ]
  },
  {
   "cell_type": "code",
   "execution_count": 18,
   "id": "5899efb5",
   "metadata": {
    "execution": {
     "iopub.execute_input": "2025-01-14T13:30:12.143625Z",
     "iopub.status.busy": "2025-01-14T13:30:12.142740Z",
     "iopub.status.idle": "2025-01-14T13:30:12.335632Z",
     "shell.execute_reply": "2025-01-14T13:30:12.334783Z"
    },
    "papermill": {
     "duration": 0.207307,
     "end_time": "2025-01-14T13:30:12.337599",
     "exception": false,
     "start_time": "2025-01-14T13:30:12.130292",
     "status": "completed"
    },
    "tags": []
   },
   "outputs": [
    {
     "name": "stdout",
     "output_type": "stream",
     "text": [
      "num test files: 2\n",
      "num test sample: 9743\n"
     ]
    }
   ],
   "source": [
    "print(f\"num test files: {len(test_filepaths)}\")\n",
    "# Load test data\n",
    "test_data = []\n",
    "for filepath in test_filepaths:\n",
    "    with open(filepath, \"r\") as f:\n",
    "        test_data.extend([json.loads(line.strip()) for line in f])\n",
    "print(f\"num test sample: {len(test_data)}\")\n",
    "\n",
    "# Use partial data in Kaggle environment\n",
    "test_data = test_data[:30]\n",
    "\n",
    "test_hanja = [e[\"hanja\"] for e in test_data]\n",
    "test_hangul = [e[\"hangul\"] for e in test_data]\n",
    "test_data = pd.DataFrame({\"hanja\": test_hanja, \"answer\": test_hangul})"
   ]
  },
  {
   "cell_type": "code",
   "execution_count": 19,
   "id": "854c14e8",
   "metadata": {
    "execution": {
     "iopub.execute_input": "2025-01-14T13:30:12.362720Z",
     "iopub.status.busy": "2025-01-14T13:30:12.362153Z",
     "iopub.status.idle": "2025-01-14T13:30:12.365991Z",
     "shell.execute_reply": "2025-01-14T13:30:12.365297Z"
    },
    "papermill": {
     "duration": 0.017941,
     "end_time": "2025-01-14T13:30:12.367520",
     "exception": false,
     "start_time": "2025-01-14T13:30:12.349579",
     "status": "completed"
    },
    "tags": []
   },
   "outputs": [],
   "source": [
    "from nltk.translate.bleu_score import sentence_bleu\n",
    "from rouge_score import rouge_scorer\n",
    "from nltk.translate.meteor_score import meteor_score"
   ]
  },
  {
   "cell_type": "code",
   "execution_count": 20,
   "id": "070d9a52",
   "metadata": {
    "execution": {
     "iopub.execute_input": "2025-01-14T13:30:12.392110Z",
     "iopub.status.busy": "2025-01-14T13:30:12.391774Z",
     "iopub.status.idle": "2025-01-14T13:30:12.400256Z",
     "shell.execute_reply": "2025-01-14T13:30:12.399470Z"
    },
    "jupyter": {
     "source_hidden": true
    },
    "papermill": {
     "duration": 0.022654,
     "end_time": "2025-01-14T13:30:12.401820",
     "exception": false,
     "start_time": "2025-01-14T13:30:12.379166",
     "status": "completed"
    },
    "tags": []
   },
   "outputs": [],
   "source": [
    "# Trần Văn Nhân's notebooke\n",
    "def extract_response(output):\n",
    "    start_marker = \"<start_of_turn>model\\n\"\n",
    "    end_marker = \"<end_of_turn>\"\n",
    "    \n",
    "    start_idx = output.rfind(start_marker) + len(start_marker)  # kcy4, find > rfind due to few-shot\n",
    "    end_idx = output.rfind(end_marker, start_idx)               # kcy4, find > rfind due to few-shot\n",
    "    \n",
    "    if start_idx != -1 and end_idx != -1:\n",
    "        return output[start_idx:end_idx].strip()\n",
    "    return output \n",
    "\n",
    "\n",
    "def gemma_score(df: pd.DataFrame, score_fn):\n",
    "    scores = []\n",
    "    try:\n",
    "        function_name = score_fn.__name__\n",
    "    except AttributeError:\n",
    "        function_name = score_fn.__class__.__name__ \n",
    "    finally:\n",
    "        is_rouge = function_name.lower().startswith('rouge')\n",
    "            \n",
    "    for _, row in df.iterrows():\n",
    "        answer = row['answer']\n",
    "        prediction = row['predict']\n",
    "        if is_rouge:\n",
    "            score = score_fn.score(answer, prediction)\n",
    "        else:\n",
    "            score = score_fn([answer.split()], prediction.split())\n",
    "        \n",
    "        scores.append(score)\n",
    "\n",
    "    if is_rouge:\n",
    "        rouge1_avg = sum([score['rouge1'].fmeasure for score in scores]) / len(scores)\n",
    "        rouge2_avg = sum([score['rouge2'].fmeasure for score in scores]) / len(scores)\n",
    "        rougeL_avg = sum([score['rougeL'].fmeasure for score in scores]) / len(scores)\n",
    "        return rouge1_avg, rouge2_avg, rougeL_avg \n",
    "    else:\n",
    "        return sum(scores) / len(scores)\n",
    "\n",
    "\n",
    "def meteor_score_eval(df: pd.DataFrame):\n",
    "    meteor_scores = []\n",
    "\n",
    "    for i, row in df.iterrows():\n",
    "        answer = row['answer']\n",
    "        prediction = row['predict']\n",
    "        score = meteor_score([answer.split()], prediction.split())\n",
    "        meteor_scores.append(score)\n",
    "\n",
    "    return sum(meteor_scores) / len(meteor_scores)"
   ]
  },
  {
   "cell_type": "code",
   "execution_count": 21,
   "id": "93b8fdd8",
   "metadata": {
    "execution": {
     "iopub.execute_input": "2025-01-14T13:30:12.426185Z",
     "iopub.status.busy": "2025-01-14T13:30:12.425833Z",
     "iopub.status.idle": "2025-01-14T13:31:42.422407Z",
     "shell.execute_reply": "2025-01-14T13:31:42.421643Z"
    },
    "papermill": {
     "duration": 90.011192,
     "end_time": "2025-01-14T13:31:42.424588",
     "exception": false,
     "start_time": "2025-01-14T13:30:12.413396",
     "status": "completed"
    },
    "tags": []
   },
   "outputs": [],
   "source": [
    "test_data[\"predict\"] = test_data[\"hanja\"].apply(lambda x: extract_response(text_gen_with_few_shot(x, few_shot)))"
   ]
  },
  {
   "cell_type": "code",
   "execution_count": 22,
   "id": "ee84abb9",
   "metadata": {
    "execution": {
     "iopub.execute_input": "2025-01-14T13:31:42.449600Z",
     "iopub.status.busy": "2025-01-14T13:31:42.449308Z",
     "iopub.status.idle": "2025-01-14T13:31:42.460658Z",
     "shell.execute_reply": "2025-01-14T13:31:42.459935Z"
    },
    "papermill": {
     "duration": 0.025435,
     "end_time": "2025-01-14T13:31:42.462471",
     "exception": false,
     "start_time": "2025-01-14T13:31:42.437036",
     "status": "completed"
    },
    "tags": []
   },
   "outputs": [
    {
     "data": {
      "text/html": [
       "<div>\n",
       "<style scoped>\n",
       "    .dataframe tbody tr th:only-of-type {\n",
       "        vertical-align: middle;\n",
       "    }\n",
       "\n",
       "    .dataframe tbody tr th {\n",
       "        vertical-align: top;\n",
       "    }\n",
       "\n",
       "    .dataframe thead th {\n",
       "        text-align: right;\n",
       "    }\n",
       "</style>\n",
       "<table border=\"1\" class=\"dataframe\">\n",
       "  <thead>\n",
       "    <tr style=\"text-align: right;\">\n",
       "      <th></th>\n",
       "      <th>hanja</th>\n",
       "      <th>answer</th>\n",
       "      <th>predict</th>\n",
       "    </tr>\n",
       "  </thead>\n",
       "  <tbody>\n",
       "    <tr>\n",
       "      <th>0</th>\n",
       "      <td>○己卯/上卽位于崇政門。 奉王大妃, 行垂簾聽政禮于興政堂, 受朝賀頒敎, 大赦。</td>\n",
       "      <td>임금이 숭정문(崇政門)에서 즉위하였다. 왕대비(王大妃)를 받들어 수렴 청정(垂簾聽政...</td>\n",
       "      <td>&lt;start_of_turn&gt;user\\n○己卯/上卽位于崇政門。 奉王大妃, 行垂簾聽政禮...</td>\n",
       "    </tr>\n",
       "    <tr>\n",
       "      <th>1</th>\n",
       "      <td>○王大妃敎曰:主上旣登大位, 追崇應行典禮。 該曹擇日擧行。</td>\n",
       "      <td>왕대비가 하교(下敎)하기를,\"주상(主上)이 이미 대위(大位)에 올랐으니, 추숭(追崇...</td>\n",
       "      <td>왕대비(王大妃)는 \"주상이 이미 대위에 올랐을 때, 숭배하는 행위를 갖추어야 한다....</td>\n",
       "    </tr>\n",
       "  </tbody>\n",
       "</table>\n",
       "</div>"
      ],
      "text/plain": [
       "                                       hanja  \\\n",
       "0  ○己卯/上卽位于崇政門。 奉王大妃, 行垂簾聽政禮于興政堂, 受朝賀頒敎, 大赦。   \n",
       "1             ○王大妃敎曰:主上旣登大位, 追崇應行典禮。 該曹擇日擧行。   \n",
       "\n",
       "                                              answer  \\\n",
       "0  임금이 숭정문(崇政門)에서 즉위하였다. 왕대비(王大妃)를 받들어 수렴 청정(垂簾聽政...   \n",
       "1  왕대비가 하교(下敎)하기를,\"주상(主上)이 이미 대위(大位)에 올랐으니, 추숭(追崇...   \n",
       "\n",
       "                                             predict  \n",
       "0  <start_of_turn>user\\n○己卯/上卽位于崇政門。 奉王大妃, 行垂簾聽政禮...  \n",
       "1  왕대비(王大妃)는 \"주상이 이미 대위에 올랐을 때, 숭배하는 행위를 갖추어야 한다....  "
      ]
     },
     "execution_count": 22,
     "metadata": {},
     "output_type": "execute_result"
    }
   ],
   "source": [
    "test_data.head(2)"
   ]
  },
  {
   "cell_type": "code",
   "execution_count": 23,
   "id": "c853c7d0",
   "metadata": {
    "execution": {
     "iopub.execute_input": "2025-01-14T13:31:42.489277Z",
     "iopub.status.busy": "2025-01-14T13:31:42.489018Z",
     "iopub.status.idle": "2025-01-14T13:31:46.079486Z",
     "shell.execute_reply": "2025-01-14T13:31:46.078770Z"
    },
    "papermill": {
     "duration": 3.606025,
     "end_time": "2025-01-14T13:31:46.081359",
     "exception": false,
     "start_time": "2025-01-14T13:31:42.475334",
     "status": "completed"
    },
    "tags": []
   },
   "outputs": [
    {
     "name": "stderr",
     "output_type": "stream",
     "text": [
      "/opt/conda/lib/python3.10/site-packages/nltk/translate/bleu_score.py:577: UserWarning: \n",
      "The hypothesis contains 0 counts of 2-gram overlaps.\n",
      "Therefore the BLEU score evaluates to 0, independently of\n",
      "how many N-gram overlaps of lower order it contains.\n",
      "Consider using lower n-gram order or use SmoothingFunction()\n",
      "  warnings.warn(_msg)\n",
      "/opt/conda/lib/python3.10/site-packages/nltk/translate/bleu_score.py:577: UserWarning: \n",
      "The hypothesis contains 0 counts of 3-gram overlaps.\n",
      "Therefore the BLEU score evaluates to 0, independently of\n",
      "how many N-gram overlaps of lower order it contains.\n",
      "Consider using lower n-gram order or use SmoothingFunction()\n",
      "  warnings.warn(_msg)\n",
      "/opt/conda/lib/python3.10/site-packages/nltk/translate/bleu_score.py:577: UserWarning: \n",
      "The hypothesis contains 0 counts of 4-gram overlaps.\n",
      "Therefore the BLEU score evaluates to 0, independently of\n",
      "how many N-gram overlaps of lower order it contains.\n",
      "Consider using lower n-gram order or use SmoothingFunction()\n",
      "  warnings.warn(_msg)\n"
     ]
    },
    {
     "data": {
      "text/html": [
       "<div>\n",
       "<style scoped>\n",
       "    .dataframe tbody tr th:only-of-type {\n",
       "        vertical-align: middle;\n",
       "    }\n",
       "\n",
       "    .dataframe tbody tr th {\n",
       "        vertical-align: top;\n",
       "    }\n",
       "\n",
       "    .dataframe thead th {\n",
       "        text-align: right;\n",
       "    }\n",
       "</style>\n",
       "<table border=\"1\" class=\"dataframe\">\n",
       "  <thead>\n",
       "    <tr style=\"text-align: right;\">\n",
       "      <th></th>\n",
       "      <th>metric</th>\n",
       "      <th>before</th>\n",
       "    </tr>\n",
       "  </thead>\n",
       "  <tbody>\n",
       "    <tr>\n",
       "      <th>0</th>\n",
       "      <td>BLEU</td>\n",
       "      <td>4.207556e-156</td>\n",
       "    </tr>\n",
       "    <tr>\n",
       "      <th>1</th>\n",
       "      <td>ROUGE-1</td>\n",
       "      <td>4.444444e-03</td>\n",
       "    </tr>\n",
       "    <tr>\n",
       "      <th>2</th>\n",
       "      <td>ROUGE-2</td>\n",
       "      <td>0.000000e+00</td>\n",
       "    </tr>\n",
       "    <tr>\n",
       "      <th>3</th>\n",
       "      <td>ROUGE-L</td>\n",
       "      <td>4.444444e-03</td>\n",
       "    </tr>\n",
       "    <tr>\n",
       "      <th>4</th>\n",
       "      <td>METEOR</td>\n",
       "      <td>4.359667e-02</td>\n",
       "    </tr>\n",
       "  </tbody>\n",
       "</table>\n",
       "</div>"
      ],
      "text/plain": [
       "    metric         before\n",
       "0     BLEU  4.207556e-156\n",
       "1  ROUGE-1   4.444444e-03\n",
       "2  ROUGE-2   0.000000e+00\n",
       "3  ROUGE-L   4.444444e-03\n",
       "4   METEOR   4.359667e-02"
      ]
     },
     "execution_count": 23,
     "metadata": {},
     "output_type": "execute_result"
    }
   ],
   "source": [
    "score_names = ('BLEU', 'ROUGE-1', 'ROUGE-2', 'ROUGE-L', 'METEOR')\n",
    "before_scores = []\n",
    "before_scores.append(gemma_score(test_data, score_fn=sentence_bleu))\n",
    "scorer = rouge_scorer.RougeScorer(['rouge1', 'rouge2', 'rougeL'], use_stemmer=True)\n",
    "before_scores.extend(list(gemma_score(test_data, score_fn=scorer)))\n",
    "before_scores.append(gemma_score(test_data, score_fn=meteor_score))\n",
    "before_scores_df = pd.DataFrame({'metric': score_names, 'before': before_scores})\n",
    "before_scores_df"
   ]
  },
  {
   "cell_type": "markdown",
   "id": "53f1b2da",
   "metadata": {
    "papermill": {
     "duration": 0.01175,
     "end_time": "2025-01-14T13:31:46.105548",
     "exception": false,
     "start_time": "2025-01-14T13:31:46.093798",
     "status": "completed"
    },
    "tags": []
   },
   "source": [
    "# Model\n",
    "- `google/gemma-2-2b-it`\n",
    "\n",
    "## Train\n",
    "- reference : "
   ]
  },
  {
   "cell_type": "markdown",
   "id": "98ac2424",
   "metadata": {
    "papermill": {
     "duration": 0.011523,
     "end_time": "2025-01-14T13:31:46.128766",
     "exception": false,
     "start_time": "2025-01-14T13:31:46.117243",
     "status": "completed"
    },
    "tags": []
   },
   "source": [
    "### Configuration"
   ]
  },
  {
   "cell_type": "code",
   "execution_count": 24,
   "id": "1965af6c",
   "metadata": {
    "execution": {
     "iopub.execute_input": "2025-01-14T13:31:46.153374Z",
     "iopub.status.busy": "2025-01-14T13:31:46.152573Z",
     "iopub.status.idle": "2025-01-14T13:31:46.156933Z",
     "shell.execute_reply": "2025-01-14T13:31:46.156135Z"
    },
    "papermill": {
     "duration": 0.018388,
     "end_time": "2025-01-14T13:31:46.158573",
     "exception": false,
     "start_time": "2025-01-14T13:31:46.140185",
     "status": "completed"
    },
    "tags": []
   },
   "outputs": [],
   "source": [
    "# Training Configurations\n",
    "debug = True\n",
    "lora_name = \"hanja2hangul\"\n",
    "lora_rank = 4\n",
    "lr_value = 1e-4\n",
    "train_epoch = 4 if debug else 5\n",
    "batch_size = 1  # 2 throws OOM error\n",
    "max_length = 512"
   ]
  },
  {
   "cell_type": "markdown",
   "id": "d2ee58bc",
   "metadata": {
    "papermill": {
     "duration": 0.011499,
     "end_time": "2025-01-14T13:31:46.181715",
     "exception": false,
     "start_time": "2025-01-14T13:31:46.170216",
     "status": "completed"
    },
    "tags": []
   },
   "source": [
    "### Tokenizer"
   ]
  },
  {
   "cell_type": "code",
   "execution_count": 25,
   "id": "b8dc80e9",
   "metadata": {
    "execution": {
     "iopub.execute_input": "2025-01-14T13:31:46.208235Z",
     "iopub.status.busy": "2025-01-14T13:31:46.207971Z",
     "iopub.status.idle": "2025-01-14T13:31:47.315186Z",
     "shell.execute_reply": "2025-01-14T13:31:47.314400Z"
    },
    "papermill": {
     "duration": 1.122651,
     "end_time": "2025-01-14T13:31:47.317164",
     "exception": false,
     "start_time": "2025-01-14T13:31:46.194513",
     "status": "completed"
    },
    "tags": []
   },
   "outputs": [],
   "source": [
    "tokenizer = keras_nlp.models.GemmaTokenizer.from_preset(model_id)"
   ]
  },
  {
   "cell_type": "markdown",
   "id": "cca7ae2a",
   "metadata": {
    "papermill": {
     "duration": 0.011964,
     "end_time": "2025-01-14T13:31:47.341473",
     "exception": false,
     "start_time": "2025-01-14T13:31:47.329509",
     "status": "completed"
    },
    "tags": []
   },
   "source": [
    "### Compile model"
   ]
  },
  {
   "cell_type": "code",
   "execution_count": 26,
   "id": "0d6dc267",
   "metadata": {
    "execution": {
     "iopub.execute_input": "2025-01-14T13:31:47.366541Z",
     "iopub.status.busy": "2025-01-14T13:31:47.366209Z",
     "iopub.status.idle": "2025-01-14T13:31:47.713463Z",
     "shell.execute_reply": "2025-01-14T13:31:47.712492Z"
    },
    "jupyter": {
     "source_hidden": true
    },
    "papermill": {
     "duration": 0.362304,
     "end_time": "2025-01-14T13:31:47.715624",
     "exception": false,
     "start_time": "2025-01-14T13:31:47.353320",
     "status": "completed"
    },
    "tags": []
   },
   "outputs": [
    {
     "data": {
      "text/html": [
       "<pre style=\"white-space:pre;overflow-x:auto;line-height:normal;font-family:Menlo,'DejaVu Sans Mono',consolas,'Courier New',monospace\"><span style=\"font-weight: bold\">Preprocessor: \"gemma_causal_lm_preprocessor\"</span>\n",
       "</pre>\n"
      ],
      "text/plain": [
       "\u001b[1mPreprocessor: \"gemma_causal_lm_preprocessor\"\u001b[0m\n"
      ]
     },
     "metadata": {},
     "output_type": "display_data"
    },
    {
     "data": {
      "text/html": [
       "<pre style=\"white-space:pre;overflow-x:auto;line-height:normal;font-family:Menlo,'DejaVu Sans Mono',consolas,'Courier New',monospace\">┏━━━━━━━━━━━━━━━━━━━━━━━━━━━━━━━━━━━━━━━━━━━━━━━━━━━━━━━━━━━━━━━┳━━━━━━━━━━━━━━━━━━━━━━━━━━━━━━━━━━━━━━━━━━┓\n",
       "┃<span style=\"font-weight: bold\"> Layer (type)                                                  </span>┃<span style=\"font-weight: bold\">                                   Config </span>┃\n",
       "┡━━━━━━━━━━━━━━━━━━━━━━━━━━━━━━━━━━━━━━━━━━━━━━━━━━━━━━━━━━━━━━━╇━━━━━━━━━━━━━━━━━━━━━━━━━━━━━━━━━━━━━━━━━━┩\n",
       "│ gemma_tokenizer (<span style=\"color: #0087ff; text-decoration-color: #0087ff\">GemmaTokenizer</span>)                              │                      Vocab size: <span style=\"color: #00af00; text-decoration-color: #00af00\">256,000</span> │\n",
       "└───────────────────────────────────────────────────────────────┴──────────────────────────────────────────┘\n",
       "</pre>\n"
      ],
      "text/plain": [
       "┏━━━━━━━━━━━━━━━━━━━━━━━━━━━━━━━━━━━━━━━━━━━━━━━━━━━━━━━━━━━━━━━┳━━━━━━━━━━━━━━━━━━━━━━━━━━━━━━━━━━━━━━━━━━┓\n",
       "┃\u001b[1m \u001b[0m\u001b[1mLayer (type)                                                 \u001b[0m\u001b[1m \u001b[0m┃\u001b[1m \u001b[0m\u001b[1m                                  Config\u001b[0m\u001b[1m \u001b[0m┃\n",
       "┡━━━━━━━━━━━━━━━━━━━━━━━━━━━━━━━━━━━━━━━━━━━━━━━━━━━━━━━━━━━━━━━╇━━━━━━━━━━━━━━━━━━━━━━━━━━━━━━━━━━━━━━━━━━┩\n",
       "│ gemma_tokenizer (\u001b[38;5;33mGemmaTokenizer\u001b[0m)                              │                      Vocab size: \u001b[38;5;34m256,000\u001b[0m │\n",
       "└───────────────────────────────────────────────────────────────┴──────────────────────────────────────────┘\n"
      ]
     },
     "metadata": {},
     "output_type": "display_data"
    },
    {
     "data": {
      "text/html": [
       "<pre style=\"white-space:pre;overflow-x:auto;line-height:normal;font-family:Menlo,'DejaVu Sans Mono',consolas,'Courier New',monospace\"><span style=\"font-weight: bold\">Model: \"gemma_causal_lm\"</span>\n",
       "</pre>\n"
      ],
      "text/plain": [
       "\u001b[1mModel: \"gemma_causal_lm\"\u001b[0m\n"
      ]
     },
     "metadata": {},
     "output_type": "display_data"
    },
    {
     "data": {
      "text/html": [
       "<pre style=\"white-space:pre;overflow-x:auto;line-height:normal;font-family:Menlo,'DejaVu Sans Mono',consolas,'Courier New',monospace\">┏━━━━━━━━━━━━━━━━━━━━━━━━━━━━━━━┳━━━━━━━━━━━━━━━━━━━━━━━━━━━┳━━━━━━━━━━━━━━━━━┳━━━━━━━━━━━━━━━━━━━━━━━━━━━━┓\n",
       "┃<span style=\"font-weight: bold\"> Layer (type)                  </span>┃<span style=\"font-weight: bold\"> Output Shape              </span>┃<span style=\"font-weight: bold\">         Param # </span>┃<span style=\"font-weight: bold\"> Connected to               </span>┃\n",
       "┡━━━━━━━━━━━━━━━━━━━━━━━━━━━━━━━╇━━━━━━━━━━━━━━━━━━━━━━━━━━━╇━━━━━━━━━━━━━━━━━╇━━━━━━━━━━━━━━━━━━━━━━━━━━━━┩\n",
       "│ padding_mask (<span style=\"color: #0087ff; text-decoration-color: #0087ff\">InputLayer</span>)     │ (<span style=\"color: #00d7ff; text-decoration-color: #00d7ff\">None</span>, <span style=\"color: #00d7ff; text-decoration-color: #00d7ff\">None</span>)              │               <span style=\"color: #00af00; text-decoration-color: #00af00\">0</span> │ -                          │\n",
       "├───────────────────────────────┼───────────────────────────┼─────────────────┼────────────────────────────┤\n",
       "│ token_ids (<span style=\"color: #0087ff; text-decoration-color: #0087ff\">InputLayer</span>)        │ (<span style=\"color: #00d7ff; text-decoration-color: #00d7ff\">None</span>, <span style=\"color: #00d7ff; text-decoration-color: #00d7ff\">None</span>)              │               <span style=\"color: #00af00; text-decoration-color: #00af00\">0</span> │ -                          │\n",
       "├───────────────────────────────┼───────────────────────────┼─────────────────┼────────────────────────────┤\n",
       "│ gemma_backbone                │ (<span style=\"color: #00d7ff; text-decoration-color: #00d7ff\">None</span>, <span style=\"color: #00d7ff; text-decoration-color: #00d7ff\">None</span>, <span style=\"color: #00af00; text-decoration-color: #00af00\">2304</span>)        │   <span style=\"color: #00af00; text-decoration-color: #00af00\">2,617,270,528</span> │ padding_mask[<span style=\"color: #00af00; text-decoration-color: #00af00\">0</span>][<span style=\"color: #00af00; text-decoration-color: #00af00\">0</span>],        │\n",
       "│ (<span style=\"color: #0087ff; text-decoration-color: #0087ff\">GemmaBackbone</span>)               │                           │                 │ token_ids[<span style=\"color: #00af00; text-decoration-color: #00af00\">0</span>][<span style=\"color: #00af00; text-decoration-color: #00af00\">0</span>]            │\n",
       "├───────────────────────────────┼───────────────────────────┼─────────────────┼────────────────────────────┤\n",
       "│ token_embedding               │ (<span style=\"color: #00d7ff; text-decoration-color: #00d7ff\">None</span>, <span style=\"color: #00d7ff; text-decoration-color: #00d7ff\">None</span>, <span style=\"color: #00af00; text-decoration-color: #00af00\">256000</span>)      │     <span style=\"color: #00af00; text-decoration-color: #00af00\">589,824,000</span> │ gemma_backbone[<span style=\"color: #00af00; text-decoration-color: #00af00\">0</span>][<span style=\"color: #00af00; text-decoration-color: #00af00\">0</span>]       │\n",
       "│ (<span style=\"color: #0087ff; text-decoration-color: #0087ff\">ReversibleEmbedding</span>)         │                           │                 │                            │\n",
       "└───────────────────────────────┴───────────────────────────┴─────────────────┴────────────────────────────┘\n",
       "</pre>\n"
      ],
      "text/plain": [
       "┏━━━━━━━━━━━━━━━━━━━━━━━━━━━━━━━┳━━━━━━━━━━━━━━━━━━━━━━━━━━━┳━━━━━━━━━━━━━━━━━┳━━━━━━━━━━━━━━━━━━━━━━━━━━━━┓\n",
       "┃\u001b[1m \u001b[0m\u001b[1mLayer (type)                 \u001b[0m\u001b[1m \u001b[0m┃\u001b[1m \u001b[0m\u001b[1mOutput Shape             \u001b[0m\u001b[1m \u001b[0m┃\u001b[1m \u001b[0m\u001b[1m        Param #\u001b[0m\u001b[1m \u001b[0m┃\u001b[1m \u001b[0m\u001b[1mConnected to              \u001b[0m\u001b[1m \u001b[0m┃\n",
       "┡━━━━━━━━━━━━━━━━━━━━━━━━━━━━━━━╇━━━━━━━━━━━━━━━━━━━━━━━━━━━╇━━━━━━━━━━━━━━━━━╇━━━━━━━━━━━━━━━━━━━━━━━━━━━━┩\n",
       "│ padding_mask (\u001b[38;5;33mInputLayer\u001b[0m)     │ (\u001b[38;5;45mNone\u001b[0m, \u001b[38;5;45mNone\u001b[0m)              │               \u001b[38;5;34m0\u001b[0m │ -                          │\n",
       "├───────────────────────────────┼───────────────────────────┼─────────────────┼────────────────────────────┤\n",
       "│ token_ids (\u001b[38;5;33mInputLayer\u001b[0m)        │ (\u001b[38;5;45mNone\u001b[0m, \u001b[38;5;45mNone\u001b[0m)              │               \u001b[38;5;34m0\u001b[0m │ -                          │\n",
       "├───────────────────────────────┼───────────────────────────┼─────────────────┼────────────────────────────┤\n",
       "│ gemma_backbone                │ (\u001b[38;5;45mNone\u001b[0m, \u001b[38;5;45mNone\u001b[0m, \u001b[38;5;34m2304\u001b[0m)        │   \u001b[38;5;34m2,617,270,528\u001b[0m │ padding_mask[\u001b[38;5;34m0\u001b[0m][\u001b[38;5;34m0\u001b[0m],        │\n",
       "│ (\u001b[38;5;33mGemmaBackbone\u001b[0m)               │                           │                 │ token_ids[\u001b[38;5;34m0\u001b[0m][\u001b[38;5;34m0\u001b[0m]            │\n",
       "├───────────────────────────────┼───────────────────────────┼─────────────────┼────────────────────────────┤\n",
       "│ token_embedding               │ (\u001b[38;5;45mNone\u001b[0m, \u001b[38;5;45mNone\u001b[0m, \u001b[38;5;34m256000\u001b[0m)      │     \u001b[38;5;34m589,824,000\u001b[0m │ gemma_backbone[\u001b[38;5;34m0\u001b[0m][\u001b[38;5;34m0\u001b[0m]       │\n",
       "│ (\u001b[38;5;33mReversibleEmbedding\u001b[0m)         │                           │                 │                            │\n",
       "└───────────────────────────────┴───────────────────────────┴─────────────────┴────────────────────────────┘\n"
      ]
     },
     "metadata": {},
     "output_type": "display_data"
    },
    {
     "data": {
      "text/html": [
       "<pre style=\"white-space:pre;overflow-x:auto;line-height:normal;font-family:Menlo,'DejaVu Sans Mono',consolas,'Courier New',monospace\"><span style=\"font-weight: bold\"> Total params: </span><span style=\"color: #00af00; text-decoration-color: #00af00\">2,617,270,528</span> (9.75 GB)\n",
       "</pre>\n"
      ],
      "text/plain": [
       "\u001b[1m Total params: \u001b[0m\u001b[38;5;34m2,617,270,528\u001b[0m (9.75 GB)\n"
      ]
     },
     "metadata": {},
     "output_type": "display_data"
    },
    {
     "data": {
      "text/html": [
       "<pre style=\"white-space:pre;overflow-x:auto;line-height:normal;font-family:Menlo,'DejaVu Sans Mono',consolas,'Courier New',monospace\"><span style=\"font-weight: bold\"> Trainable params: </span><span style=\"color: #00af00; text-decoration-color: #00af00\">2,928,640</span> (11.17 MB)\n",
       "</pre>\n"
      ],
      "text/plain": [
       "\u001b[1m Trainable params: \u001b[0m\u001b[38;5;34m2,928,640\u001b[0m (11.17 MB)\n"
      ]
     },
     "metadata": {},
     "output_type": "display_data"
    },
    {
     "data": {
      "text/html": [
       "<pre style=\"white-space:pre;overflow-x:auto;line-height:normal;font-family:Menlo,'DejaVu Sans Mono',consolas,'Courier New',monospace\"><span style=\"font-weight: bold\"> Non-trainable params: </span><span style=\"color: #00af00; text-decoration-color: #00af00\">2,614,341,888</span> (9.74 GB)\n",
       "</pre>\n"
      ],
      "text/plain": [
       "\u001b[1m Non-trainable params: \u001b[0m\u001b[38;5;34m2,614,341,888\u001b[0m (9.74 GB)\n"
      ]
     },
     "metadata": {},
     "output_type": "display_data"
    }
   ],
   "source": [
    "# https://www.kaggle.com/code/bebechien/translator-of-old-korean-literature\n",
    "# # Enable LoRA for the model and set the LoRA rank (4, 8 or 16).\n",
    "gemma.backbone.enable_lora(rank=lora_rank)\n",
    "gemma.summary()\n",
    "\n",
    "# Limit the input sequence length (to control memory usage).\n",
    "gemma.preprocessor.sequence_length = token_limit\n",
    "# Use AdamW (a common optimizer for transformer models).\n",
    "optimizer = keras.optimizers.AdamW(\n",
    "    learning_rate=lr_value,\n",
    "    weight_decay=0.01,\n",
    ")\n",
    "# Exclude layernorm and bias terms from decay.\n",
    "optimizer.exclude_from_weight_decay(var_names=[\"bias\", \"scale\"])\n",
    "\n",
    "gemma.compile(\n",
    "    loss=keras.losses.SparseCategoricalCrossentropy(from_logits=True),\n",
    "    optimizer=optimizer,\n",
    "    weighted_metrics=[keras.metrics.SparseCategoricalAccuracy()],\n",
    ")"
   ]
  },
  {
   "cell_type": "markdown",
   "id": "0bff9015",
   "metadata": {
    "papermill": {
     "duration": 0.013133,
     "end_time": "2025-01-14T13:31:47.741771",
     "exception": false,
     "start_time": "2025-01-14T13:31:47.728638",
     "status": "completed"
    },
    "tags": []
   },
   "source": [
    "### Train model"
   ]
  },
  {
   "cell_type": "code",
   "execution_count": 27,
   "id": "bf387a37",
   "metadata": {
    "execution": {
     "iopub.execute_input": "2025-01-14T13:31:47.769262Z",
     "iopub.status.busy": "2025-01-14T13:31:47.768925Z",
     "iopub.status.idle": "2025-01-14T13:31:47.880265Z",
     "shell.execute_reply": "2025-01-14T13:31:47.879358Z"
    },
    "papermill": {
     "duration": 0.12798,
     "end_time": "2025-01-14T13:31:47.882299",
     "exception": false,
     "start_time": "2025-01-14T13:31:47.754319",
     "status": "completed"
    },
    "tags": []
   },
   "outputs": [],
   "source": [
    "# dataset \n",
    "train_dataset = create_dataset(train_tfrecord_file, batch_size)\n",
    "valid_dataset = create_dataset(valid_tfrecord_file, batch_size)\n",
    "\n",
    "if debug:\n",
    "    train_dataset = train_dataset.take(1000)\n",
    "    valid_dataset = valid_dataset.take(100)\n",
    "    "
   ]
  },
  {
   "cell_type": "code",
   "execution_count": 28,
   "id": "342f034b",
   "metadata": {
    "execution": {
     "iopub.execute_input": "2025-01-14T13:31:47.908276Z",
     "iopub.status.busy": "2025-01-14T13:31:47.907999Z",
     "iopub.status.idle": "2025-01-14T13:31:47.912093Z",
     "shell.execute_reply": "2025-01-14T13:31:47.911304Z"
    },
    "papermill": {
     "duration": 0.018865,
     "end_time": "2025-01-14T13:31:47.913749",
     "exception": false,
     "start_time": "2025-01-14T13:31:47.894884",
     "status": "completed"
    },
    "tags": []
   },
   "outputs": [],
   "source": [
    "# callbacks\n",
    "checkpoint_filepath = f\"/kaggle/working/{lora_name}_{lora_rank}_best.lora.h5\"\n",
    "checkpoint_callback = tf.keras.callbacks.ModelCheckpoint(\n",
    "    filepath=checkpoint_filepath,\n",
    "    save_best_only=True,\n",
    "    monitor=\"val_loss\",\n",
    "    mode=\"min\",\n",
    "    verbose=1, \n",
    ")"
   ]
  },
  {
   "cell_type": "code",
   "execution_count": 29,
   "id": "0efc1267",
   "metadata": {
    "execution": {
     "iopub.execute_input": "2025-01-14T13:31:47.938989Z",
     "iopub.status.busy": "2025-01-14T13:31:47.938718Z",
     "iopub.status.idle": "2025-01-14T14:32:00.495498Z",
     "shell.execute_reply": "2025-01-14T14:32:00.494564Z"
    },
    "papermill": {
     "duration": 3612.817546,
     "end_time": "2025-01-14T14:32:00.743381",
     "exception": false,
     "start_time": "2025-01-14T13:31:47.925835",
     "status": "completed"
    },
    "tags": []
   },
   "outputs": [
    {
     "name": "stdout",
     "output_type": "stream",
     "text": [
      "Epoch 1/4\n",
      "\u001b[1m1000/1000\u001b[0m \u001b[32m━━━━━━━━━━━━━━━━━━━━\u001b[0m\u001b[37m\u001b[0m \u001b[1m0s\u001b[0m 838ms/step - loss: 0.8251 - sparse_categorical_accuracy: 0.2431\n",
      "Epoch 1: val_loss improved from inf to 1.38940, saving model to /kaggle/working/hanja2hangul_4_best.lora.h5\n",
      "\u001b[1m1000/1000\u001b[0m \u001b[32m━━━━━━━━━━━━━━━━━━━━\u001b[0m\u001b[37m\u001b[0m \u001b[1m969s\u001b[0m 938ms/step - loss: 0.8250 - sparse_categorical_accuracy: 0.2431 - val_loss: 1.3894 - val_sparse_categorical_accuracy: 0.2404\n",
      "Epoch 2/4\n",
      "\u001b[1m1000/1000\u001b[0m \u001b[32m━━━━━━━━━━━━━━━━━━━━\u001b[0m\u001b[37m\u001b[0m \u001b[1m0s\u001b[0m 819ms/step - loss: 0.6744 - sparse_categorical_accuracy: 0.2933\n",
      "Epoch 2: val_loss improved from 1.38940 to 1.38844, saving model to /kaggle/working/hanja2hangul_4_best.lora.h5\n",
      "\u001b[1m1000/1000\u001b[0m \u001b[32m━━━━━━━━━━━━━━━━━━━━\u001b[0m\u001b[37m\u001b[0m \u001b[1m928s\u001b[0m 910ms/step - loss: 0.6744 - sparse_categorical_accuracy: 0.2933 - val_loss: 1.3884 - val_sparse_categorical_accuracy: 0.2487\n",
      "Epoch 3/4\n",
      "\u001b[1m1000/1000\u001b[0m \u001b[32m━━━━━━━━━━━━━━━━━━━━\u001b[0m\u001b[37m\u001b[0m \u001b[1m0s\u001b[0m 820ms/step - loss: 0.6210 - sparse_categorical_accuracy: 0.3152\n",
      "Epoch 3: val_loss did not improve from 1.38844\n",
      "\u001b[1m1000/1000\u001b[0m \u001b[32m━━━━━━━━━━━━━━━━━━━━\u001b[0m\u001b[37m\u001b[0m \u001b[1m857s\u001b[0m 857ms/step - loss: 0.6209 - sparse_categorical_accuracy: 0.3152 - val_loss: 1.4007 - val_sparse_categorical_accuracy: 0.2548\n",
      "Epoch 4/4\n",
      "\u001b[1m1000/1000\u001b[0m \u001b[32m━━━━━━━━━━━━━━━━━━━━\u001b[0m\u001b[37m\u001b[0m \u001b[1m0s\u001b[0m 819ms/step - loss: 0.5732 - sparse_categorical_accuracy: 0.3398\n",
      "Epoch 4: val_loss did not improve from 1.38844\n",
      "\u001b[1m1000/1000\u001b[0m \u001b[32m━━━━━━━━━━━━━━━━━━━━\u001b[0m\u001b[37m\u001b[0m \u001b[1m857s\u001b[0m 856ms/step - loss: 0.5732 - sparse_categorical_accuracy: 0.3398 - val_loss: 1.3911 - val_sparse_categorical_accuracy: 0.2433\n"
     ]
    }
   ],
   "source": [
    "# train \n",
    "history = gemma.fit(train_dataset, validation_data=valid_dataset, epochs=train_epoch, callbacks=[checkpoint_callback])"
   ]
  },
  {
   "cell_type": "code",
   "execution_count": 30,
   "id": "410910e9",
   "metadata": {
    "execution": {
     "iopub.execute_input": "2025-01-14T14:32:01.134214Z",
     "iopub.status.busy": "2025-01-14T14:32:01.133838Z",
     "iopub.status.idle": "2025-01-14T14:32:01.475444Z",
     "shell.execute_reply": "2025-01-14T14:32:01.474535Z"
    },
    "papermill": {
     "duration": 0.539466,
     "end_time": "2025-01-14T14:32:01.477153",
     "exception": false,
     "start_time": "2025-01-14T14:32:00.937687",
     "status": "completed"
    },
    "tags": []
   },
   "outputs": [
    {
     "data": {
      "image/png": "[encoded data removed]",
      "text/plain": [
       "<Figure size 1000x500 with 1 Axes>"
      ]
     },
     "metadata": {},
     "output_type": "display_data"
    }
   ],
   "source": [
    "import matplotlib.pyplot as plt\n",
    "\n",
    "plt.figure(figsize=(10, 5))\n",
    "plt.plot(history.history['loss'], label='Training Loss')\n",
    "plt.plot(history.history['val_loss'], label='Validation Loss')\n",
    "plt.xlabel('Epochs')\n",
    "plt.ylabel('Loss')\n",
    "plt.title('Training & Validation Loss Over Time')\n",
    "plt.legend()\n",
    "plt.show()"
   ]
  },
  {
   "cell_type": "markdown",
   "id": "36df4d04",
   "metadata": {
    "papermill": {
     "duration": 0.196492,
     "end_time": "2025-01-14T14:32:01.875318",
     "exception": false,
     "start_time": "2025-01-14T14:32:01.678826",
     "status": "completed"
    },
    "tags": []
   },
   "source": [
    "## Test(Evaluate)\n",
    "- There are many evaluation methods. Refer to this [A list of metrics for evaluating LLM-generated content](https://learn.microsoft.com/en-us/ai/playbook/technology-guidance/generative-ai/working-with-llms/evaluation/list-of-eval-metrics) for more details.\n",
    "  - Check [Trần Văn Nhân's notebooke](https://www.kaggle.com/code/tranvannhan1911/gemma-2-fine-tuning-to-translate-old-vietnamese#Evaluate) to evaluate in a Kaggle notebook using basic metrics.\n",
    "- According to recent research, it is recommended to use `LLMs as a judge`. I will upload this to my github project.\n",
    "- I just check it manually in this environment."
   ]
  },
  {
   "cell_type": "markdown",
   "id": "c314a169",
   "metadata": {
    "papermill": {
     "duration": 0.193183,
     "end_time": "2025-01-14T14:32:02.311292",
     "exception": false,
     "start_time": "2025-01-14T14:32:02.118109",
     "status": "completed"
    },
    "tags": []
   },
   "source": [
    "### Evaluate manually"
   ]
  },
  {
   "cell_type": "code",
   "execution_count": 31,
   "id": "0c40188b",
   "metadata": {
    "execution": {
     "iopub.execute_input": "2025-01-14T14:32:02.700085Z",
     "iopub.status.busy": "2025-01-14T14:32:02.699383Z",
     "iopub.status.idle": "2025-01-14T14:32:02.705205Z",
     "shell.execute_reply": "2025-01-14T14:32:02.704468Z"
    },
    "papermill": {
     "duration": 0.202622,
     "end_time": "2025-01-14T14:32:02.706738",
     "exception": false,
     "start_time": "2025-01-14T14:32:02.504116",
     "status": "completed"
    },
    "tags": []
   },
   "outputs": [],
   "source": [
    "# 5. Test the model manually \n",
    "def test_model(test_data):\n",
    "    for count, entry in test_data.iterrows():\n",
    "        hanja = entry[\"hanja\"]\n",
    "        hangul_expected = entry[\"answer\"]\n",
    "\n",
    "        # Generate predictions\n",
    "        predicted_without_fewshot_prompt = text_gen(hanja) \n",
    "        predicted_with_fewshot_prompt = text_gen_with_few_shot(hanja, few_shot)\n",
    "\n",
    "        print(f\"Hanja: \\n{hanja}\")\n",
    "        print(' - ' * 30)\n",
    "        print(f\"Expected Hangul: \\n{hangul_expected}\")\n",
    "        print(' - ' * 30)\n",
    "        print(f\"Predicted Hangul(/wo fewshot): \\n{predicted_without_fewshot_prompt}\")\n",
    "        print(' - ' * 30)\n",
    "        print(f\"Predicted Hangul(/w fewshot): \\n{predicted_with_fewshot_prompt}\")\n",
    "        print(\"= \" * 50)\n",
    "\n",
    "        if count > 3:\n",
    "            break \n"
   ]
  },
  {
   "cell_type": "code",
   "execution_count": 32,
   "id": "1b07e293",
   "metadata": {
    "execution": {
     "iopub.execute_input": "2025-01-14T14:32:03.097040Z",
     "iopub.status.busy": "2025-01-14T14:32:03.096684Z",
     "iopub.status.idle": "2025-01-14T14:33:15.779210Z",
     "shell.execute_reply": "2025-01-14T14:33:15.778177Z"
    },
    "papermill": {
     "duration": 72.882403,
     "end_time": "2025-01-14T14:33:15.782944",
     "exception": false,
     "start_time": "2025-01-14T14:32:02.900541",
     "status": "completed"
    },
    "tags": []
   },
   "outputs": [],
   "source": [
    "# Load best weights\n",
    "gemma.load_weights(checkpoint_filepath)"
   ]
  },
  {
   "cell_type": "code",
   "execution_count": 33,
   "id": "e95775a8",
   "metadata": {
    "_kg_hide-output": true,
    "execution": {
     "iopub.execute_input": "2025-01-14T14:33:16.623632Z",
     "iopub.status.busy": "2025-01-14T14:33:16.622753Z",
     "iopub.status.idle": "2025-01-14T14:34:58.803183Z",
     "shell.execute_reply": "2025-01-14T14:34:58.802221Z"
    },
    "papermill": {
     "duration": 102.455175,
     "end_time": "2025-01-14T14:34:58.805144",
     "exception": false,
     "start_time": "2025-01-14T14:33:16.349969",
     "status": "completed"
    },
    "tags": []
   },
   "outputs": [
    {
     "name": "stdout",
     "output_type": "stream",
     "text": [
      "Hanja: \n",
      "○己卯/上卽位于崇政門。 奉王大妃, 行垂簾聽政禮于興政堂, 受朝賀頒敎, 大赦。\n",
      " -  -  -  -  -  -  -  -  -  -  -  -  -  -  -  -  -  -  -  -  -  -  -  -  -  -  -  -  -  - \n",
      "Expected Hangul: \n",
      "임금이 숭정문(崇政門)에서 즉위하였다. 왕대비(王大妃)를 받들어 수렴 청정(垂簾聽政)의 예(禮)를 흥정당(興政堂)에서 행하고, 조하(朝賀)를 받은 다음 교서(敎書)를 반포(頒布)하고 대사(大赦)를 베풀었다.\n",
      " -  -  -  -  -  -  -  -  -  -  -  -  -  -  -  -  -  -  -  -  -  -  -  -  -  -  -  -  -  - \n",
      "Predicted Hangul(/wo fewshot): \n",
      "<start_of_turn>user\n",
      "○己卯/上卽位于崇政門。 奉王大妃, 行垂簾聽政禮于興政堂, 受朝賀頒敎, 大赦。<end_of_turn>\n",
      "<start_of_turn>model\n",
      "This is a passage from a historical record, likely from a Chinese dynasty's official annals. Let's break down the meaning:\n",
      "\n",
      "**○己卯/上卽位于崇政門.**\n",
      "\n",
      "* **○己卯:** This refers to the date, which is the 10th day of the 5th month in the lunisolar calendar. \n",
      "* **上卽位于崇政門:** This means \"The Emperor ascended to the Chongzheng Gate.\" The Chongzheng Gate was a ceremonial entrance to the palace, and its use for the Emperor's ascension signifies a significant event.\n",
      "\n",
      "**奉王大妃, 行垂簾聽政禮于興政堂, 受朝賀頒敎, 大赦。**\n",
      "\n",
      "* **奉王大妃:** This translates to \"The Emperor received the Queen Dowager.\" The Queen Dowager was the wife of the Emperor's father, and was a powerful figure in the court.\n",
      "* **行垂簾聽政禮于興政堂:** This means \"The Queen Dowager received the court audience in the Xingzheng Hall.\" The Xingzheng Hall was a grand hall used for official ceremonies and meetings.\n",
      "* **受朝賀頒敎:** This means \"The Emperor received the court's congratulations and awards.\" This was a formal ceremony where the Emperor received gifts and tributes from the court officials.\n",
      "* **大赦:** This means \"The Emperor granted amnesty.\" This was a significant act of mercy, often used to pardon criminals or to ease tensions within the country.\n",
      "\n",
      "**Overall Meaning:**\n",
      "\n",
      "This passage records a significant event in the reign of the Emperor. The Emperor received the Queen Dowager, who was a powerful figure in the court, and held a formal ceremony of receiving congratulations and awards. The Emperor also granted amnesty to the people, signifying a period of peace and forgiveness. \n",
      "\n",
      "\n",
      "This passage is likely from a historical record, such as the Records of the Grand Historian (史記) or the Records of the Three Kingdoms (三國志). \n",
      "<end_of_turn>\n",
      " -  -  -  -  -  -  -  -  -  -  -  -  -  -  -  -  -  -  -  -  -  -  -  -  -  -  -  -  -  - \n",
      "Predicted Hangul(/w fewshot): \n",
      "<start_of_turn>user\n",
      "○己卯/上卽位于崇政門。 奉王大妃, 行垂簾聽政禮于興政堂, 受朝賀頒敎, 大赦。<end_of_turn>\n",
      "<start_of_turn>model\n",
      "○己卯/ 임금은 숭정문(崇政門)에 즉위하였다. 궁궐에 왕대비를 격려하여, 숭정(崇政)을 갖추어 궁궐에 앉아 궁궐을 숭정(崇政)으로 격려하였다. 궁궐에 궁궐을 숭정(崇政)으로 격려하여, 궁궐에 앉아 궁궐을 숭정(崇政)으로 격려하였다. 숭정(崇政)을 갖추어 궁궐에 앉아 궁궐을 숭정(崇政)으로 격려하였다. 숭정(崇政)을 갖추어 궁궐에 앉아 궁궐을 숭정(崇政)으로 격려하였다. 숭정(崇政)을 갖추어 궁궐에 앉아 궁궐을 숭정(崇政)으로 격려하였다. 숭정(崇政)을 갖추어 궁궐에 앉아 궁궐을 숭정(崇政)으로 격려하였다. 숭\n",
      "= = = = = = = = = = = = = = = = = = = = = = = = = = = = = = = = = = = = = = = = = = = = = = = = = = \n",
      "Hanja: \n",
      "○王大妃敎曰:主上旣登大位, 追崇應行典禮。 該曹擇日擧行。\n",
      " -  -  -  -  -  -  -  -  -  -  -  -  -  -  -  -  -  -  -  -  -  -  -  -  -  -  -  -  -  - \n",
      "Expected Hangul: \n",
      "왕대비가 하교(下敎)하기를,\"주상(主上)이 이미 대위(大位)에 올랐으니, 추숭(追崇)을 의당 행하여야 할 것이다. 그 전례(典禮)를 해조(該曹)에서 날을 가려 거행하라.\"하였다.\n",
      " -  -  -  -  -  -  -  -  -  -  -  -  -  -  -  -  -  -  -  -  -  -  -  -  -  -  -  -  -  - \n",
      "Predicted Hangul(/wo fewshot): \n",
      "<start_of_turn>user\n",
      "○王大妃敎曰:主上旣登大位, 追崇應行典禮。 該曹擇日擧行。<end_of_turn>\n",
      "<start_of_turn>model\n",
      "This is a passage from a historical record, likely a chronicle or official document, detailing the instructions given by the Queen Dowager, Wang Dafei, to the court officials regarding the coronation ceremony of the new emperor. \n",
      "\n",
      "Here's a breakdown of the meaning:\n",
      "\n",
      "* **○王大妃敎曰:** This means \"The Queen Dowager Wang Dafei instructed...\"\n",
      "* **主上旣登大位, 追崇應行典禮:** This translates to \"After the Emperor ascended the throne, he should follow the prescribed rituals of the coronation ceremony.\"\n",
      "* **該曹擇日擧行:** This means \"The officials should choose a day to hold the ceremony.\"\n",
      "\n",
      "The passage highlights the importance of following the established rituals and procedures for the coronation ceremony, emphasizing the need for a designated day for the event. \n",
      "\n",
      "\n",
      "This passage likely comes from a historical record of the Chinese imperial court, as it uses terms like \"主上\" (the Emperor) and \"該曹\" (the officials) which are common in historical documents of the Chinese dynasties. \n",
      "<end_of_turn>\n",
      " -  -  -  -  -  -  -  -  -  -  -  -  -  -  -  -  -  -  -  -  -  -  -  -  -  -  -  -  -  - \n",
      "Predicted Hangul(/w fewshot): \n",
      "<start_of_turn>user\n",
      "○王大妃敎曰:主上旣登大位, 追崇應行典禮。 該曹擇日擧行。<end_of_turn>\n",
      "<start_of_turn>model\n",
      "왕대비는 \"주상이 곧 즉위하였으니, 숭례를 갖추어 행하는 것이 바람직하다. 이 급전사는 날을 잡아 행하는 것이 바람직하다.\"라고 말했다. \n",
      "\n",
      "\n",
      "<end_of_turn>\n",
      "= = = = = = = = = = = = = = = = = = = = = = = = = = = = = = = = = = = = = = = = = = = = = = = = = = \n",
      "Hanja: \n",
      "○以朴宗薰爲告訃兼奏請使, 李羲準爲副使, 成遂默, 爲書狀官。\n",
      " -  -  -  -  -  -  -  -  -  -  -  -  -  -  -  -  -  -  -  -  -  -  -  -  -  -  -  -  -  - \n",
      "Expected Hangul: \n",
      "박종훈(朴宗薰)을 고부 겸 주청사(告訃兼奏請使)로, 이희준(李羲準)을 부사(副使)로, 성수묵(成遂默)을 서장관(書狀官)으로 삼았다.\n",
      " -  -  -  -  -  -  -  -  -  -  -  -  -  -  -  -  -  -  -  -  -  -  -  -  -  -  -  -  -  - \n",
      "Predicted Hangul(/wo fewshot): \n",
      "<start_of_turn>user\n",
      "○以朴宗薰爲告訃兼奏請使, 李羲準爲副使, 成遂默, 爲書狀官。<end_of_turn>\n",
      "<start_of_turn>model\n",
      "This is a Korean sentence from the Joseon Dynasty era, detailing the appointment of officials for a funeral. Let's break it down:\n",
      "\n",
      "* **○ 以朴宗薰爲告訃兼奏請使:** This part translates to \"Ordered that Park Sung-hun be appointed as both a messenger for the funeral and a request for a messenger.\" \n",
      "    * **○:** This is a particle indicating a command or order.\n",
      "    * **以:** meaning \"to appoint\" or \"to designate.\"\n",
      "    * **朴宗薰:**  Park Sung-hun, the official appointed.\n",
      "    * **爲告訃兼奏請使:**  A messenger for the funeral and a request for a messenger.\n",
      "* **李羲準爲副使:** This part translates to \"Lee Gi-ju was appointed as deputy messenger.\"\n",
      "    * **李羲準:** Lee Gi-ju, the deputy messenger.\n",
      "* **爲書狀官:** This part translates to \"to be in charge of writing the official letter.\"\n",
      "    * **爲書狀官:** A person in charge of writing official letters.\n",
      "\n",
      "\n",
      "**In summary:** This sentence is a formal announcement of the appointment of Park Sung-hun as both a messenger for the funeral and a request for a messenger, and Lee Gi-ju as the deputy messenger. It also states that Park Sung-hun will be in charge of writing the official letter. \n",
      "\n",
      "\n",
      "This type of announcement was common in the Joseon Dynasty, where official positions and responsibilities were clearly defined and documented. \n",
      "<end_of_turn>\n",
      " -  -  -  -  -  -  -  -  -  -  -  -  -  -  -  -  -  -  -  -  -  -  -  -  -  -  -  -  -  - \n",
      "Predicted Hangul(/w fewshot): \n",
      "<start_of_turn>user\n",
      "○以朴宗薰爲告訃兼奏請使, 李羲準爲副使, 成遂默, 爲書狀官。<end_of_turn>\n",
      "<start_of_turn>model\n",
      "○ 박성훈(朴宗薰)을 급전사(告訃兼奏請使)로 임명하고, 이 bootstrapcdn(李羲準)을 부사(副使)로 임명하여, 성순(成遂)을 겸직(書狀官)으로 임명하였다. \n",
      "\n",
      "\n",
      "<end_of_turn>\n",
      "= = = = = = = = = = = = = = = = = = = = = = = = = = = = = = = = = = = = = = = = = = = = = = = = = = \n",
      "Hanja: \n",
      "○命監軍巡將, 公除前仍番。\n",
      " -  -  -  -  -  -  -  -  -  -  -  -  -  -  -  -  -  -  -  -  -  -  -  -  -  -  -  -  -  - \n",
      "Expected Hangul: \n",
      "감군 순장(監軍巡將)에게 명하여 공제(公除)001) 전에는 그대로 번(番)을 들게 하였다.\n",
      " -  -  -  -  -  -  -  -  -  -  -  -  -  -  -  -  -  -  -  -  -  -  -  -  -  -  -  -  -  - \n",
      "Predicted Hangul(/wo fewshot): \n",
      "<start_of_turn>user\n",
      "○命監軍巡將, 公除前仍番。<end_of_turn>\n",
      "<start_of_turn>model\n",
      "This is a line from the Chinese historical text, *Records of the Grand Historian* (史記, Shiji), written by Sima Qian. \n",
      "\n",
      "Here's a breakdown:\n",
      "\n",
      "* **○命監軍巡將:** This means \"Ordered the governor of the military garrison to patrol the frontier.\" \n",
      "* **公除前仍番:** This means \"The governor of the military garrison was ordered to patrol the frontier, and to remain stationed there.\"\n",
      "\n",
      "**Translation:**\n",
      "\n",
      "\"Ordered the governor of the military garrison to patrol the frontier, and to remain stationed there.\"\n",
      "\n",
      "**Context:**\n",
      "\n",
      "This line is part of a passage describing the military organization and duties during the Warring States period in ancient China. It highlights the importance of maintaining a strong military presence along the borders to prevent invasions and maintain peace. \n",
      "\n",
      "\n",
      "Let me know if you'd like to know more about the Warring States period or the *Records of the Grand Historian*. \n",
      "<end_of_turn>\n",
      " -  -  -  -  -  -  -  -  -  -  -  -  -  -  -  -  -  -  -  -  -  -  -  -  -  -  -  -  -  - \n",
      "Predicted Hangul(/w fewshot): \n",
      "<start_of_turn>user\n",
      "○命監軍巡將, 公除前仍番。<end_of_turn>\n",
      "<start_of_turn>model\n",
      "○ 監軍巡將, 公除前仍番한다. \n",
      " \n",
      " (This is a Korean sentence, and it means: \"The military governor's patrol commander, Gong, is to remain on duty.\") \n",
      " \n",
      " It is a command from the Korean royal court, likely from a historical document. \n",
      "<end_of_turn>\n",
      "= = = = = = = = = = = = = = = = = = = = = = = = = = = = = = = = = = = = = = = = = = = = = = = = = = \n",
      "Hanja: \n",
      "○庚辰/議大行大王諡曰: \"文安武靖憲敬成孝大王魂殿曰孝成, 廟曰純宗, 陵曰仁陵, 追崇孝明世子諡曰敦文顯武仁懿孝明大王, 廟曰翼宗, 神殿曰孝和, 陵曰綏陵。\n",
      " -  -  -  -  -  -  -  -  -  -  -  -  -  -  -  -  -  -  -  -  -  -  -  -  -  -  -  -  -  - \n",
      "Expected Hangul: \n",
      "대행 대왕(大行大王)의 시호(諡號)를 의논하여 ‘문안 무정 헌경 성효 대왕(文安武靖憲敬成孝大王)’이라 하고, 혼전(魂殿)은 ‘효성(孝成)’, 묘호(廟號)는 ‘순종(純宗)’, 능호(陵號)는 ‘인릉(仁陵)’이라 하였다. 효명 세자(孝明世子)의 시호를 추숭(追崇)하여 ‘돈문 현무 인의 효명 대왕(敦文顯武仁懿孝明大王)’이라 하고, 묘호는 ‘익종(翼宗)’, 신전(神殿)은 ‘효화(孝和)’, 능호는 ‘수릉(綬陵)’이라 하였다.\n",
      " -  -  -  -  -  -  -  -  -  -  -  -  -  -  -  -  -  -  -  -  -  -  -  -  -  -  -  -  -  - \n",
      "Predicted Hangul(/wo fewshot): \n",
      "<start_of_turn>user\n",
      "○庚辰/議大行大王諡曰: \"文安武靖憲敬成孝大王魂殿曰孝成, 廟曰純宗, 陵曰仁陵, 追崇孝明世子諡曰敦文顯武仁懿孝明大王, 廟曰翼宗, 神殿曰孝和, 陵曰綏陵。<end_of_turn>\n",
      "<start_of_turn>model\n",
      "This is a passage from a historical document, likely a decree or edict, detailing the posthumous titles and burial rites for King Wanyan of the Later Jin dynasty. \n",
      "\n",
      "Here's a breakdown of the information:\n",
      "\n",
      "* **○庚辰:** This refers to the date, which is the 1st day of the 10th month of the lunar calendar, corresponding to 17th October 1387.\n",
      "* **議大行大王諡曰:** This means \"The decision to posthumously bestow the title of 'Great King' upon King Wanyan was made.\"\n",
      "* **文安武靖憲敬成孝大王魂殿曰孝成, 廟曰純宗, 陵曰仁陵:** This details the official titles and burial sites for King Wanyan:\n",
      "    * **孝成:** The name of the posthumous temple dedicated to his soul.\n",
      "    * **純宗:** The name of the posthumous temple dedicated to his spirit.\n",
      "    * **仁陵:** The name of the posthumous burial site.\n",
      "* **追崇孝明世子諡曰敦文顯武仁懿孝明大王, 廟曰翼宗, 神殿曰孝和, 陵曰綏陵:** This details the posthumous titles and burial sites for his son, King Wanyan's son:\n",
      "    * **敦文顯武仁懿孝明大王:** The posthumous title for his son.\n",
      "    * **翼宗:** The name of the posthumous temple dedicated to his spirit.\n",
      "    * **孝和:** The name of the posthumous temple dedicated to his spirit.\n",
      "    * **綏陵:** The name of the posthumous burial site.\n",
      "\n",
      "This passage is a testament to the importance placed on King Wanyan's legacy and his family's lineage. It highlights the respect and reverence shown towards the dynasty and its rulers. \n",
      "\n",
      "\n",
      "Let me know if you have any other questions about this passage or the Later Jin dynasty! \n",
      "<end_of_turn>\n",
      " -  -  -  -  -  -  -  -  -  -  -  -  -  -  -  -  -  -  -  -  -  -  -  -  -  -  -  -  -  - \n",
      "Predicted Hangul(/w fewshot): \n",
      "<start_of_turn>user\n",
      "○庚辰/議大行大王諡曰: \"文安武靖憲敬成孝大王魂殿曰孝成, 廟曰純宗, 陵曰仁陵, 追崇孝明世子諡曰敦文顯武仁懿孝明大王, 廟曰翼宗, 神殿曰孝和, 陵曰綏陵。<end_of_turn>\n",
      "<start_of_turn>model\n",
      "○庚辰/ 議大行大王諡曰: \"文安武靖憲敬成孝大王魂殿曰孝成, 廟曰純宗, 陵曰仁陵, 追崇孝明世子諡曰敦文顯武仁懿孝明大王, 廟曰翼宗, 神殿曰孝和, 陵曰綏陵。 \n",
      " \n",
      " \n",
      "<end_of_turn>\n",
      "= = = = = = = = = = = = = = = = = = = = = = = = = = = = = = = = = = = = = = = = = = = = = = = = = = \n"
     ]
    }
   ],
   "source": [
    "test_model(test_data)"
   ]
  },
  {
   "cell_type": "code",
   "execution_count": 34,
   "id": "64b70656",
   "metadata": {
    "execution": {
     "iopub.execute_input": "2025-01-14T14:34:59.220784Z",
     "iopub.status.busy": "2025-01-14T14:34:59.220434Z",
     "iopub.status.idle": "2025-01-14T14:35:05.150516Z",
     "shell.execute_reply": "2025-01-14T14:35:05.149558Z"
    },
    "papermill": {
     "duration": 6.135804,
     "end_time": "2025-01-14T14:35:05.152304",
     "exception": false,
     "start_time": "2025-01-14T14:34:59.016500",
     "status": "completed"
    },
    "tags": []
   },
   "outputs": [
    {
     "data": {
      "text/plain": [
       "'<start_of_turn>user\\n詣眞殿, 行茶禮。<end_of_turn>\\n<start_of_turn>model\\nThis is a line from a Chinese poem, and it translates to:\\n\\n**\"To the True Hall, I pay my respects with tea ceremony.\"**\\n\\nHere\\'s a breakdown:\\n\\n* **詣眞殿:**  \"To the True Hall\" - This refers to the main hall of a palace, often used for ceremonies and important events. \\n* **行茶禮:** \"To perform the tea ceremony\" - This refers to the traditional ritual of serving tea, which is a sign of respect and hospitality in Chinese culture. \\n\\nThe line is a poetic way of expressing the importance of the tea ceremony as a respectful act of visiting a place of power and importance. \\n<end_of_turn>'"
      ]
     },
     "execution_count": 34,
     "metadata": {},
     "output_type": "execute_result"
    }
   ],
   "source": [
    "test_hanja = '詣眞殿, 行茶禮。'\n",
    "text_gen(test_hanja)  # https://sillok.history.go.kr/id/kza_10201001_001\n",
    "# Answer: 진전(眞殿)에 가서 다례(茶禮)를 지냈다. (고종2년 1월)"
   ]
  },
  {
   "cell_type": "code",
   "execution_count": 35,
   "id": "1d71348e",
   "metadata": {
    "execution": {
     "iopub.execute_input": "2025-01-14T14:35:05.594550Z",
     "iopub.status.busy": "2025-01-14T14:35:05.594207Z",
     "iopub.status.idle": "2025-01-14T14:35:06.609042Z",
     "shell.execute_reply": "2025-01-14T14:35:06.608175Z"
    },
    "papermill": {
     "duration": 1.259748,
     "end_time": "2025-01-14T14:35:06.610733",
     "exception": false,
     "start_time": "2025-01-14T14:35:05.350985",
     "status": "completed"
    },
    "tags": []
   },
   "outputs": [
    {
     "data": {
      "text/plain": [
       "'<start_of_turn>user\\n詣眞殿, 行茶禮。<end_of_turn>\\n<start_of_turn>model\\n진궁에 詣하여 차례를 갖추었다. \\n<end_of_turn>'"
      ]
     },
     "execution_count": 35,
     "metadata": {},
     "output_type": "execute_result"
    }
   ],
   "source": [
    "text_gen_with_few_shot(test_hanja, few_shot)  # https://sillok.history.go.kr/id/kza_10201001_001\n",
    "# Answer: 진전(眞殿)에 가서 다례(茶禮)를 지냈다. (고종2년 1월)"
   ]
  },
  {
   "cell_type": "code",
   "execution_count": 36,
   "id": "2e03afba",
   "metadata": {
    "execution": {
     "iopub.execute_input": "2025-01-14T14:35:07.006602Z",
     "iopub.status.busy": "2025-01-14T14:35:07.005778Z",
     "iopub.status.idle": "2025-01-14T14:35:21.812885Z",
     "shell.execute_reply": "2025-01-14T14:35:21.811980Z"
    },
    "papermill": {
     "duration": 15.00581,
     "end_time": "2025-01-14T14:35:21.814769",
     "exception": false,
     "start_time": "2025-01-14T14:35:06.808959",
     "status": "completed"
    },
    "tags": []
   },
   "outputs": [
    {
     "data": {
      "text/plain": [
       "'<start_of_turn>user\\n凡我在廷, 咸須知悉, 諧底大道, 同此太平。 是予之望也。<end_of_turn>\\n<start_of_turn>model\\nThis is a powerful and evocative quote from the Chinese philosopher and statesman, **Confucius**. \\n\\nHere\\'s a breakdown of its meaning and significance:\\n\\n* **\"凡我在廷, 咸須知悉, 諧底大道, 同此太平。\"** \\n    * **凡我在廷:**  \"Wherever I am in the court.\" This emphasizes the importance of the ruler\\'s presence and influence.\\n    * **咸須知悉:** \"Must be aware of all things.\" This highlights the need for a ruler to be informed and attentive to all aspects of governance.\\n    * **諧底大道:** \"Harmonize the fundamental principles.\" This refers to the importance of adhering to the core principles of governance, ethics, and social order.\\n    * **同此太平:** \"To ensure peace and stability.\" This is the ultimate goal of a ruler who understands and upholds the principles of governance.\\n\\n**Translation:** \"Wherever I am in the court, I must be aware of all things, harmonize the fundamental principles, and ensure peace and stability.\"\\n\\n**Significance:**\\n\\nThis quote encapsulates the core principles of Confucianism, emphasizing the importance of:\\n\\n* **Moral Leadership:** The ruler must be knowledgeable, just, and ethical.\\n* **Social Harmony:** The ruler must maintain order and stability within the society.\\n* **Universal Principles:** The ruler must adhere to universal principles of governance and ethics.\\n* **Peace and Prosperity:** The ruler\\'s actions should lead to peace and prosperity for all.\\n\\nThis quote is a testament to Confucius\\'s belief that a just and virtuous ruler is essential for a harmonious and prosperous society. It emphasizes the importance of a ruler who is not only powerful but also wise, just, and compassionate. \\n<end_of_turn>'"
      ]
     },
     "execution_count": 36,
     "metadata": {},
     "output_type": "execute_result"
    }
   ],
   "source": [
    "test_hanja = '凡我在廷, 咸須知悉, 諧底大道, 同此太平。 是予之望也。'\n",
    "text_gen(test_hanja)  # https://sillok.history.go.kr/id/kza_10201001_003, end of the text \n",
    "# Answer: 우리 조정에 있는 모든 신료들은 다 잘 알아서 모두 대도(大道)에 이르고 함께 이 태평을 누리도록 하라. 이것이 나의 바람이다. (고종2년 1월)"
   ]
  },
  {
   "cell_type": "code",
   "execution_count": 37,
   "id": "c4bf7a1f",
   "metadata": {
    "execution": {
     "iopub.execute_input": "2025-01-14T14:35:22.211163Z",
     "iopub.status.busy": "2025-01-14T14:35:22.210256Z",
     "iopub.status.idle": "2025-01-14T14:35:33.375412Z",
     "shell.execute_reply": "2025-01-14T14:35:33.374387Z"
    },
    "papermill": {
     "duration": 11.363766,
     "end_time": "2025-01-14T14:35:33.377388",
     "exception": false,
     "start_time": "2025-01-14T14:35:22.013622",
     "status": "completed"
    },
    "tags": []
   },
   "outputs": [
    {
     "data": {
      "text/plain": [
       "'<start_of_turn>user\\n凡我在廷, 咸須知悉, 諧底大道, 同此太平。 是予之望也。<end_of_turn>\\n<start_of_turn>model\\n나는 궁궐에 있을 때, 혹은 혹은 혹은 혹은 혹은 혹은 혹은 혹은 혹은 혹은 혹은 혹은 혹은 혹은 혹은 혹은 혹은 혹은 혹은 혹은 혹은 혹은 혹은 혹은 혹은 혹은 혹은 혹은 혹은 혹은 혹은 혹은 혹은 혹은 혹은 혹은 혹은 혹은 혹은 혹은 혹은 혹은 혹은 혹은 혹은 혹은 혹은 혹은 혹은 혹은 혹은 혹은 혹은 혹은 혹은 혹은 혹은 혹은 혹은 혹은 혹은 혹은 혹은 혹은 혹은 혹은 혹은 혹은 혹은 혹은 혹은 혹은 혹은 혹은 혹은 혹은 혹은 혹은 혹은 혹은 혹은 혹은 혹은 혹은 혹은 혹은 혹은 혹은 '"
      ]
     },
     "execution_count": 37,
     "metadata": {},
     "output_type": "execute_result"
    }
   ],
   "source": [
    "text_gen_with_few_shot(test_hanja, few_shot)  # https://sillok.history.go.kr/id/kza_10201001_003, end of the text \n",
    "# Answer: 우리 조정에 있는 모든 신료들은 다 잘 알아서 모두 대도(大道)에 이르고 함께 이 태평을 누리도록 하라. 이것이 나의 바람이다. (고종2년 1월)"
   ]
  },
  {
   "cell_type": "code",
   "execution_count": 38,
   "id": "3da5e00b",
   "metadata": {
    "execution": {
     "iopub.execute_input": "2025-01-14T14:35:33.781702Z",
     "iopub.status.busy": "2025-01-14T14:35:33.781273Z",
     "iopub.status.idle": "2025-01-14T14:35:44.789494Z",
     "shell.execute_reply": "2025-01-14T14:35:44.788598Z"
    },
    "papermill": {
     "duration": 11.214574,
     "end_time": "2025-01-14T14:35:44.791156",
     "exception": false,
     "start_time": "2025-01-14T14:35:33.576582",
     "status": "completed"
    },
    "tags": []
   },
   "outputs": [
    {
     "data": {
      "text/plain": [
       "'<start_of_turn>user\\n詣懿陵, 親祭, 仍詣貞陵, 親祭。<end_of_turn>\\n<start_of_turn>model\\nThis is a passage from the Chinese text of the \"Records of the Grand Historian\" (史記), written by Sima Qian during the Han dynasty. It describes the ritual of offering sacrifices to the ancestors at the tombs of Emperor Wu of the Han dynasty and his consort, Empress Dowager Dou. \\n\\nHere\\'s a breakdown:\\n\\n* **詣懿陵, 親祭:** This phrase translates to \"To the tomb of Emperor Wu, I offer a personal sacrifice.\" \\n* **仍詣貞陵, 親祭:** This phrase translates to \"And to the tomb of Empress Dowager Dou, I offer a personal sacrifice.\"\\n\\nThe passage highlights the importance of filial piety and ancestral worship in Chinese culture. It also emphasizes the respect and reverence shown towards the deceased emperors and empresses. \\n\\n**Context:**\\n\\n* **懿陵 (Yì Líng):** This is the tomb of Emperor Wu of the Han dynasty. \\n* **貞陵 (Zhēng Líng):** This is the tomb of Empress Dowager Dou, wife of Emperor Wu. \\n\\nThe passage is a testament to the importance of ancestral worship in Chinese society. It shows that the emperors and empresses were not only revered for their rule but also for their role in maintaining the continuity of the dynasty and the lineage. \\n<end_of_turn>'"
      ]
     },
     "execution_count": 38,
     "metadata": {},
     "output_type": "execute_result"
    }
   ],
   "source": [
    "test_hanja = '詣懿陵, 親祭, 仍詣貞陵, 親祭。'\n",
    "text_gen(test_hanja)  # https://sillok.history.go.kr/id/kza_10608010_001\n",
    "# Answer: 의릉(懿陵)에 나아가 친히 제사를 지냈다. 이어 정릉(貞陵)에 나아가 친히 제사를 지냈다."
   ]
  },
  {
   "cell_type": "code",
   "execution_count": 39,
   "id": "6993a79a",
   "metadata": {
    "execution": {
     "iopub.execute_input": "2025-01-14T14:35:45.235551Z",
     "iopub.status.busy": "2025-01-14T14:35:45.234824Z",
     "iopub.status.idle": "2025-01-14T14:35:46.804154Z",
     "shell.execute_reply": "2025-01-14T14:35:46.803270Z"
    },
    "papermill": {
     "duration": 1.813726,
     "end_time": "2025-01-14T14:35:46.806056",
     "exception": false,
     "start_time": "2025-01-14T14:35:44.992330",
     "status": "completed"
    },
    "tags": []
   },
   "outputs": [
    {
     "data": {
      "text/plain": [
       "'<start_of_turn>user\\n詣懿陵, 親祭, 仍詣貞陵, 親祭。<end_of_turn>\\n<start_of_turn>model\\n임금은 懿릉에 詣, 숭배하고, 貞릉에 또 詣, 숭배하였다. \\n\\n\\n<end_of_turn>'"
      ]
     },
     "execution_count": 39,
     "metadata": {},
     "output_type": "execute_result"
    }
   ],
   "source": [
    "test_hanja = '詣懿陵, 親祭, 仍詣貞陵, 親祭。'\n",
    "text_gen_with_few_shot(test_hanja, few_shot)  # https://sillok.history.go.kr/id/kza_10608010_001\n",
    "# Answer: 의릉(懿陵)에 나아가 친히 제사를 지냈다. 이어 정릉(貞陵)에 나아가 친히 제사를 지냈다."
   ]
  },
  {
   "cell_type": "markdown",
   "id": "3a14cda9",
   "metadata": {
    "papermill": {
     "duration": 0.197098,
     "end_time": "2025-01-14T14:35:47.200683",
     "exception": false,
     "start_time": "2025-01-14T14:35:47.003585",
     "status": "completed"
    },
    "tags": []
   },
   "source": [
    "### Evaluate after fine-tuning"
   ]
  },
  {
   "cell_type": "code",
   "execution_count": 40,
   "id": "f5199e66",
   "metadata": {
    "execution": {
     "iopub.execute_input": "2025-01-14T14:35:47.621264Z",
     "iopub.status.busy": "2025-01-14T14:35:47.620445Z",
     "iopub.status.idle": "2025-01-14T14:38:04.224038Z",
     "shell.execute_reply": "2025-01-14T14:38:04.223246Z"
    },
    "papermill": {
     "duration": 136.815009,
     "end_time": "2025-01-14T14:38:04.226148",
     "exception": false,
     "start_time": "2025-01-14T14:35:47.411139",
     "status": "completed"
    },
    "tags": []
   },
   "outputs": [],
   "source": [
    "test_data[\"predict\"] = test_data[\"hanja\"].apply(lambda x: extract_response(text_gen_with_few_shot(x, few_shot)))"
   ]
  },
  {
   "cell_type": "code",
   "execution_count": 41,
   "id": "00f11815",
   "metadata": {
    "execution": {
     "iopub.execute_input": "2025-01-14T14:38:04.688620Z",
     "iopub.status.busy": "2025-01-14T14:38:04.688295Z",
     "iopub.status.idle": "2025-01-14T14:38:04.874510Z",
     "shell.execute_reply": "2025-01-14T14:38:04.873589Z"
    },
    "papermill": {
     "duration": 0.395569,
     "end_time": "2025-01-14T14:38:04.876269",
     "exception": false,
     "start_time": "2025-01-14T14:38:04.480700",
     "status": "completed"
    },
    "tags": []
   },
   "outputs": [
    {
     "name": "stderr",
     "output_type": "stream",
     "text": [
      "/opt/conda/lib/python3.10/site-packages/nltk/translate/bleu_score.py:577: UserWarning: \n",
      "The hypothesis contains 0 counts of 2-gram overlaps.\n",
      "Therefore the BLEU score evaluates to 0, independently of\n",
      "how many N-gram overlaps of lower order it contains.\n",
      "Consider using lower n-gram order or use SmoothingFunction()\n",
      "  warnings.warn(_msg)\n",
      "/opt/conda/lib/python3.10/site-packages/nltk/translate/bleu_score.py:577: UserWarning: \n",
      "The hypothesis contains 0 counts of 3-gram overlaps.\n",
      "Therefore the BLEU score evaluates to 0, independently of\n",
      "how many N-gram overlaps of lower order it contains.\n",
      "Consider using lower n-gram order or use SmoothingFunction()\n",
      "  warnings.warn(_msg)\n",
      "/opt/conda/lib/python3.10/site-packages/nltk/translate/bleu_score.py:577: UserWarning: \n",
      "The hypothesis contains 0 counts of 4-gram overlaps.\n",
      "Therefore the BLEU score evaluates to 0, independently of\n",
      "how many N-gram overlaps of lower order it contains.\n",
      "Consider using lower n-gram order or use SmoothingFunction()\n",
      "  warnings.warn(_msg)\n"
     ]
    },
    {
     "data": {
      "text/html": [
       "<div>\n",
       "<style scoped>\n",
       "    .dataframe tbody tr th:only-of-type {\n",
       "        vertical-align: middle;\n",
       "    }\n",
       "\n",
       "    .dataframe tbody tr th {\n",
       "        vertical-align: top;\n",
       "    }\n",
       "\n",
       "    .dataframe thead th {\n",
       "        text-align: right;\n",
       "    }\n",
       "</style>\n",
       "<table border=\"1\" class=\"dataframe\">\n",
       "  <thead>\n",
       "    <tr style=\"text-align: right;\">\n",
       "      <th></th>\n",
       "      <th>metric</th>\n",
       "      <th>after</th>\n",
       "    </tr>\n",
       "  </thead>\n",
       "  <tbody>\n",
       "    <tr>\n",
       "      <th>0</th>\n",
       "      <td>BLEU</td>\n",
       "      <td>1.888667e-232</td>\n",
       "    </tr>\n",
       "    <tr>\n",
       "      <th>1</th>\n",
       "      <td>ROUGE-1</td>\n",
       "      <td>0.000000e+00</td>\n",
       "    </tr>\n",
       "    <tr>\n",
       "      <th>2</th>\n",
       "      <td>ROUGE-2</td>\n",
       "      <td>0.000000e+00</td>\n",
       "    </tr>\n",
       "    <tr>\n",
       "      <th>3</th>\n",
       "      <td>ROUGE-L</td>\n",
       "      <td>0.000000e+00</td>\n",
       "    </tr>\n",
       "    <tr>\n",
       "      <th>4</th>\n",
       "      <td>METEOR</td>\n",
       "      <td>1.109924e-02</td>\n",
       "    </tr>\n",
       "  </tbody>\n",
       "</table>\n",
       "</div>"
      ],
      "text/plain": [
       "    metric          after\n",
       "0     BLEU  1.888667e-232\n",
       "1  ROUGE-1   0.000000e+00\n",
       "2  ROUGE-2   0.000000e+00\n",
       "3  ROUGE-L   0.000000e+00\n",
       "4   METEOR   1.109924e-02"
      ]
     },
     "execution_count": 41,
     "metadata": {},
     "output_type": "execute_result"
    }
   ],
   "source": [
    "after_scores = []\n",
    "after_scores.append(gemma_score(test_data, score_fn=sentence_bleu))\n",
    "scorer = rouge_scorer.RougeScorer(['rouge1', 'rouge2', 'rougeL'], use_stemmer=True)\n",
    "after_scores.extend(list(gemma_score(test_data, score_fn=scorer)))\n",
    "after_scores.append(gemma_score(test_data, score_fn=meteor_score))\n",
    "after_scores_df = pd.DataFrame({'metric': score_names, 'after': after_scores})\n",
    "after_scores_df"
   ]
  },
  {
   "cell_type": "markdown",
   "id": "56eae481",
   "metadata": {
    "papermill": {
     "duration": 0.20438,
     "end_time": "2025-01-14T14:38:05.288050",
     "exception": false,
     "start_time": "2025-01-14T14:38:05.083670",
     "status": "completed"
    },
    "tags": []
   },
   "source": [
    "## Comparing scores before and after fine-tuning"
   ]
  },
  {
   "cell_type": "code",
   "execution_count": 42,
   "id": "05b49e08",
   "metadata": {
    "execution": {
     "iopub.execute_input": "2025-01-14T14:38:05.704633Z",
     "iopub.status.busy": "2025-01-14T14:38:05.703740Z",
     "iopub.status.idle": "2025-01-14T14:38:05.729870Z",
     "shell.execute_reply": "2025-01-14T14:38:05.729005Z"
    },
    "papermill": {
     "duration": 0.238392,
     "end_time": "2025-01-14T14:38:05.731483",
     "exception": false,
     "start_time": "2025-01-14T14:38:05.493091",
     "status": "completed"
    },
    "tags": []
   },
   "outputs": [
    {
     "data": {
      "text/html": [
       "<div>\n",
       "<style scoped>\n",
       "    .dataframe tbody tr th:only-of-type {\n",
       "        vertical-align: middle;\n",
       "    }\n",
       "\n",
       "    .dataframe tbody tr th {\n",
       "        vertical-align: top;\n",
       "    }\n",
       "\n",
       "    .dataframe thead th {\n",
       "        text-align: right;\n",
       "    }\n",
       "</style>\n",
       "<table border=\"1\" class=\"dataframe\">\n",
       "  <thead>\n",
       "    <tr style=\"text-align: right;\">\n",
       "      <th></th>\n",
       "      <th>metric</th>\n",
       "      <th>before</th>\n",
       "      <th>after</th>\n",
       "    </tr>\n",
       "  </thead>\n",
       "  <tbody>\n",
       "    <tr>\n",
       "      <th>0</th>\n",
       "      <td>BLEU</td>\n",
       "      <td>4.207556e-156</td>\n",
       "      <td>1.888667e-232</td>\n",
       "    </tr>\n",
       "    <tr>\n",
       "      <th>1</th>\n",
       "      <td>ROUGE-1</td>\n",
       "      <td>4.444444e-03</td>\n",
       "      <td>0.000000e+00</td>\n",
       "    </tr>\n",
       "    <tr>\n",
       "      <th>2</th>\n",
       "      <td>ROUGE-2</td>\n",
       "      <td>0.000000e+00</td>\n",
       "      <td>0.000000e+00</td>\n",
       "    </tr>\n",
       "    <tr>\n",
       "      <th>3</th>\n",
       "      <td>ROUGE-L</td>\n",
       "      <td>4.444444e-03</td>\n",
       "      <td>0.000000e+00</td>\n",
       "    </tr>\n",
       "    <tr>\n",
       "      <th>4</th>\n",
       "      <td>METEOR</td>\n",
       "      <td>4.359667e-02</td>\n",
       "      <td>1.109924e-02</td>\n",
       "    </tr>\n",
       "  </tbody>\n",
       "</table>\n",
       "</div>"
      ],
      "text/plain": [
       "    metric         before          after\n",
       "0     BLEU  4.207556e-156  1.888667e-232\n",
       "1  ROUGE-1   4.444444e-03   0.000000e+00\n",
       "2  ROUGE-2   0.000000e+00   0.000000e+00\n",
       "3  ROUGE-L   4.444444e-03   0.000000e+00\n",
       "4   METEOR   4.359667e-02   1.109924e-02"
      ]
     },
     "execution_count": 42,
     "metadata": {},
     "output_type": "execute_result"
    }
   ],
   "source": [
    "scores_df = before_scores_df.merge(after_scores_df, on='metric', how='left')\n",
    "scores_df"
   ]
  },
  {
   "cell_type": "markdown",
   "id": "4800edff",
   "metadata": {
    "papermill": {
     "duration": 0.206258,
     "end_time": "2025-01-14T14:38:06.194597",
     "exception": false,
     "start_time": "2025-01-14T14:38:05.988339",
     "status": "completed"
    },
    "tags": []
   },
   "source": [
    "## Publishing the trained model to Kaggle\n",
    "- ref: [Publish your Keras models on Kaggle and Hugging Face](https://developers.googleblog.com/en/publish-your-keras-models-on-kaggle-and-hugging-face/)"
   ]
  },
  {
   "cell_type": "code",
   "execution_count": 43,
   "id": "6dec0157",
   "metadata": {
    "execution": {
     "iopub.execute_input": "2025-01-14T14:38:06.606724Z",
     "iopub.status.busy": "2025-01-14T14:38:06.606381Z",
     "iopub.status.idle": "2025-01-14T14:38:09.410262Z",
     "shell.execute_reply": "2025-01-14T14:38:09.408881Z"
    },
    "papermill": {
     "duration": 3.01175,
     "end_time": "2025-01-14T14:38:09.412433",
     "exception": false,
     "start_time": "2025-01-14T14:38:06.400683",
     "status": "completed"
    },
    "tags": []
   },
   "outputs": [
    {
     "name": "stderr",
     "output_type": "stream",
     "text": [
      "/opt/conda/lib/python3.10/pty.py:89: RuntimeWarning: os.fork() was called. os.fork() is incompatible with multithreaded code, and JAX is multithreaded, so this will likely lead to a deadlock.\n",
      "  pid, fd = os.forkpty()\n"
     ]
    }
   ],
   "source": [
    "# Delete temporary files\n",
    "!rm /kaggle/working/*.tfrecord\n",
    "!rm /kaggle/working/*.h5"
   ]
  },
  {
   "cell_type": "code",
   "execution_count": 44,
   "id": "cbb6451d",
   "metadata": {
    "execution": {
     "iopub.execute_input": "2025-01-14T14:38:09.838892Z",
     "iopub.status.busy": "2025-01-14T14:38:09.838512Z",
     "iopub.status.idle": "2025-01-14T14:39:10.403909Z",
     "shell.execute_reply": "2025-01-14T14:39:10.403056Z"
    },
    "papermill": {
     "duration": 60.986419,
     "end_time": "2025-01-14T14:39:10.609773",
     "exception": false,
     "start_time": "2025-01-14T14:38:09.623354",
     "status": "completed"
    },
    "tags": []
   },
   "outputs": [
    {
     "name": "stdout",
     "output_type": "stream",
     "text": [
      "Model saved to: gemma2_inst_2b_hanja2hangul\n"
     ]
    }
   ],
   "source": [
    "# You can just the best weights from the .h5 file\n",
    "# Don't need to run the following commands \n",
    "preset_dir = 'gemma2_inst_2b_hanja2hangul'\n",
    "gemma.save_to_preset(preset_dir)\n",
    "print(f\"Model saved to: {preset_dir}\")"
   ]
  },
  {
   "cell_type": "markdown",
   "id": "4929b26f",
   "metadata": {
    "papermill": {
     "duration": 0.249489,
     "end_time": "2025-01-14T14:39:11.062829",
     "exception": false,
     "start_time": "2025-01-14T14:39:10.813340",
     "status": "completed"
    },
    "tags": []
   },
   "source": [
    "## How to use the trained model\n",
    "- See my notebook, [how to use a trained model](https://www.kaggle.com/code/cy4ego/gemma2-how-to-use-a-trained-model)"
   ]
  },
  {
   "cell_type": "markdown",
   "id": "6e0d7a8f",
   "metadata": {
    "papermill": {
     "duration": 0.205511,
     "end_time": "2025-01-14T14:39:11.473987",
     "exception": false,
     "start_time": "2025-01-14T14:39:11.268476",
     "status": "completed"
    },
    "tags": []
   },
   "source": [
    "# Checking if the problem has been solved\n",
    "- Run the following code and check its result.\n",
    "- The output closely resembles the answer."
   ]
  },
  {
   "cell_type": "code",
   "execution_count": 45,
   "id": "0fe037e7",
   "metadata": {
    "execution": {
     "iopub.execute_input": "2025-01-14T14:39:12.014511Z",
     "iopub.status.busy": "2025-01-14T14:39:12.013685Z",
     "iopub.status.idle": "2025-01-14T14:39:13.450688Z",
     "shell.execute_reply": "2025-01-14T14:39:13.449886Z"
    },
    "papermill": {
     "duration": 1.714537,
     "end_time": "2025-01-14T14:39:13.452512",
     "exception": false,
     "start_time": "2025-01-14T14:39:11.737975",
     "status": "completed"
    },
    "tags": []
   },
   "outputs": [
    {
     "data": {
      "text/plain": [
       "'<start_of_turn>user\\n以李建弼爲吏曹參議。<end_of_turn>\\n<start_of_turn>model\\n이건필(李建弼)을 吏曹의 좌찬(參議)에 임하였다. \\n<end_of_turn>'"
      ]
     },
     "execution_count": 45,
     "metadata": {},
     "output_type": "execute_result"
    }
   ],
   "source": [
    "test_hanja = '以李建弼爲吏曹參議。'\n",
    "text_gen_with_few_shot(test_hanja, few_shot)  \n",
    "# https://sillok.history.go.kr/id/kza_10208001_001 - 고종 2년 8월 1일 \n",
    "# Answer: 이건필(李建弼)을 이조 참의(吏曹參議)로 삼았다."
   ]
  },
  {
   "cell_type": "code",
   "execution_count": 46,
   "id": "a60c9a12",
   "metadata": {
    "execution": {
     "iopub.execute_input": "2025-01-14T14:39:13.915745Z",
     "iopub.status.busy": "2025-01-14T14:39:13.915067Z",
     "iopub.status.idle": "2025-01-14T14:39:20.293158Z",
     "shell.execute_reply": "2025-01-14T14:39:20.292373Z"
    },
    "papermill": {
     "duration": 6.593884,
     "end_time": "2025-01-14T14:39:20.294920",
     "exception": false,
     "start_time": "2025-01-14T14:39:13.701036",
     "status": "completed"
    },
    "tags": []
   },
   "outputs": [
    {
     "data": {
      "text/plain": [
       "'<start_of_turn>user\\n議政府啓: \"卽見咸鏡道暗行御使權命菊所奏, 則‘吉州人許活, 該牧別砲設置時, 以折米五百石, 輸助砲糧。’ 其向上之心, 可以激勸事, 批旨令廟堂稟處事, 命下矣。 嚮因道啓, 施以賞資之典, 而今於直指之歸奏, 益詳其所未詳。 其激奬之政, 不必以已有所施, 仍置不論。 五衛將, 爲先加設單付, 相當職隨窠調用何如?\" 允之。<end_of_turn>\\n<start_of_turn>model\\n\"당시 혹은 혹은 혹은 혹은 혹은 혹은 혹은 혹은 혹은 혹은 혹은 혹은 혹은 혹은 혹은 혹은 혹은 혹은 혹은 혹은 혹은 혹은 혹은 혹은 혹은 혹은 혹은 혹은 혹은 혹은 혹은 혹은 혹은 혹은 혹은 혹은 혹은 혹은 혹은 혹은 혹은 혹은 혹은 혹은 혹은 혹은 혹은 혹은 혹은 혹은'"
      ]
     },
     "execution_count": 46,
     "metadata": {},
     "output_type": "execute_result"
    }
   ],
   "source": [
    "test_hanja = '議政府啓: \"卽見咸鏡道暗行御使權命菊所奏, 則‘吉州人許活, 該牧別砲設置時, 以折米五百石, 輸助砲糧。’ 其向上之心, 可以激勸事, 批旨令廟堂稟處事, 命下矣。 嚮因道啓, 施以賞資之典, 而今於直指之歸奏, 益詳其所未詳。 其激奬之政, 不必以已有所施, 仍置不論。 五衛將, 爲先加設單付, 相當職隨窠調用何如?\" 允之。'\n",
    "text_gen_with_few_shot(test_hanja, few_shot)  \n",
    "# https://sillok.history.go.kr/id/kza_10510013_002 - 고종 5년 10월 13일 \n",
    "# Answer: 의정부(議政府)에서 아뢰기를, \"방금 함경도 암행어사(咸鏡道暗行御史) 권명국(權命菊)이 아뢴 바를 보니, 길주(吉州) 사람 허활(許活)이 길주목(吉州牧)에 별포군(別砲軍)을 설치할 때에 절미(折米) 500석(石)을 실어다 별포군의 양식에 보태주었다고 합니다. 성상께 향한 그의 마음이 격려하고 권장할 만하다고 하였는데, 이에 대한 비지(批旨)에, 묘당(廟堂)으로 하여금 품처(稟處)하게 하라고 명하셨습니다. 전번에 도계(道啓)로 인하여 상으로 가자(加資)하는 은전을 시행하였는데, 지금 어사가 돌아와 아뢰어 자세하지 못했던 것이 더욱 자세해졌습니다. 격려하고 권장하는 정사를 이미 시행한 바가 있다고 하여 그대로 둔 채 논하지 않을 수 없습니다. 오위장(五衛將)을 먼저 가설(加設)해 단부(單付)하고 상당한 벼슬에 자리가 나는 대로 조용(調用)하는 것이 어떻겠습니까?\""
   ]
  },
  {
   "cell_type": "markdown",
   "id": "9e0cd47b",
   "metadata": {
    "papermill": {
     "duration": 0.214353,
     "end_time": "2025-01-14T14:39:20.710842",
     "exception": false,
     "start_time": "2025-01-14T14:39:20.496489",
     "status": "completed"
    },
    "tags": []
   },
   "source": [
    "# Limitations\n",
    "## Dataset\n",
    "- Coverage\n",
    "  - Only crawled `silok`(Korean Kings' records)\n",
    "  - Can make it to be trainable to find reference or for NER\n",
    "\n",
    "## Model\n",
    "- Evaluation: Use other methods"
   ]
  },
  {
   "cell_type": "markdown",
   "id": "d4db0540",
   "metadata": {
    "papermill": {
     "duration": 0.200458,
     "end_time": "2025-01-14T14:39:21.116946",
     "exception": false,
     "start_time": "2025-01-14T14:39:20.916488",
     "status": "completed"
    },
    "tags": []
   },
   "source": [
    "# Version History\n",
    "1. v1 - Baseline\n",
    "2. v2 - Using the entire data for fine-tuning, adding comparing scores before and after fine-tuning and how to use the trained model.\n",
    "   - Train gemma2 using the entire data after transforming jsonl files into tfrecord file\n",
    "   - Add comparing scores(bleu, rouge, meteor) before and after fine-tuning\n",
    "   - Add how to use the trained model(guide)\n",
    "3. v3 - debug=True"
   ]
  },
  {
   "cell_type": "markdown",
   "id": "8046c017",
   "metadata": {
    "papermill": {
     "duration": 0.204348,
     "end_time": "2025-01-14T14:39:21.573607",
     "exception": false,
     "start_time": "2025-01-14T14:39:21.369259",
     "status": "completed"
    },
    "tags": []
   },
   "source": [
    "# Contact\n",
    "- Seongcheol Kim: kiscipher@gmail.com\n",
    "- Github project: https://github.com/cy4ego/google-unlock-global-communicateion-with-gemma"
   ]
  }
 ],
 "metadata": {
  "kaggle": {
   "accelerator": "gpu",
   "dataSources": [
    {
     "databundleVersionId": 9690815,
     "sourceId": 85416,
     "sourceType": "competition"
    },
    {
     "datasetId": 6406860,
     "sourceId": 10412445,
     "sourceType": "datasetVersion"
    },
    {
     "modelId": 78150,
     "modelInstanceId": 72246,
     "sourceId": 85986,
     "sourceType": "modelInstanceVersion"
    }
   ],
   "dockerImageVersionId": 30787,
   "isGpuEnabled": true,
   "isInternetEnabled": true,
   "language": "python",
   "sourceType": "notebook"
  },
  "kernelspec": {
   "display_name": "Python 3",
   "language": "python",
   "name": "python3"
  },
  "language_info": {
   "codemirror_mode": {
    "name": "ipython",
    "version": 3
   },
   "file_extension": ".py",
   "mimetype": "text/x-python",
   "name": "python",
   "nbconvert_exporter": "python",
   "pygments_lexer": "ipython3",
   "version": "3.10.14"
  },
  "papermill": {
   "default_parameters": {},
   "duration": 4340.830351,
   "end_time": "2025-01-14T14:39:27.474542",
   "environment_variables": {},
   "exception": null,
   "input_path": "__notebook__.ipynb",
   "output_path": "__notebook__.ipynb",
   "parameters": {},
   "start_time": "2025-01-14T13:27:06.644191",
   "version": "2.6.0"
  }
 },
 "nbformat": 4,
 "nbformat_minor": 5
}
