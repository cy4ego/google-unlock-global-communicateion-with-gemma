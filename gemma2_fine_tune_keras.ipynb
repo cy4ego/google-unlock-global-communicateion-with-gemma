{
 "cells": [
  {
   "cell_type": "markdown",
   "metadata": {},
   "source": [
    "# Problem\n",
    "- Gemma2 cannot translate `hanja(Korean Chinese)` into `modern Korean` properly\n",
    "\n",
    "## Check the problem\n",
    "- The `input` data was extracted from `태조실록1권 태조1년 7월 17일 병신 2번째기사(Korean Dynasty First King's records)`. The answer should be `answer`, but the result(model's best output among 5 different tries) is `output`, showing the meanings of the answer and the output are very different(actually wrong).\n",
    "- `input`: `'上在潛邸, 夢有神人執金尺自天而降, 授之曰: \"慶侍中 復興, 淸矣而已老; 崔都統 瑩, 直矣而少戇。 持此正國, 非公而誰!\"'`\n",
    "- `answer`: `'임금이 잠저(潛邸)에 있을 때, 꿈에 신인(神人)이 금자[金尺]를 가지고 하늘에서 내려와 주면서 말하기를, \"시중(侍中) 경복흥(慶復興)은 청렴하기는 하나 이미 늙었으며, 도통(都統) 최영(崔瑩)은 강직하기는 하나 조금 고지식하니, 이것을 가지고 나라를 바룰 사람은 공(公)이 아니고 누구이겠는가?\" 하였다.'`\n",
    "- `output`(model's output): `상을 잠들고, 꿈에 신인이 돈을 잡아 천장에서 내려왔다. 그에게 말했다: \"정실 중, 복흥을 이루고, 깨끗해졌다. 崔都통 瑩, 곧 똑똑해졌지만, 멍청해졌다. 이 정권을 지키는 것은 공적인 일이 아니야!\"`"
   ]
  },
  {
   "cell_type": "markdown",
   "metadata": {},
   "source": [
    "## ChatGPT(4o)'s Output\n",
    "- prompt: `한국의 한자로 된 고어 문서를 현대 한국어로 번역해줘. 영어나 중국어를 쓰지 말고 한글로 답변해줘. '上在潛邸, 夢有神人執金尺自天而降, 授之曰: \"慶侍中 復興, 淸矣而已老; 崔都統 瑩, 直矣而少戇。 持此正國, 非公而誰!\"'`\n",
    "- output:\n",
    "다음은 고어로 된 문장을 현대 한국어로 번역한 내용입니다.\n",
    "\n",
    "`\"임금께서 잠시 머물던 곳에서 꿈을 꾸었는데, 신령스러운 사람이 금자(금으로 만든 자)를 들고 하늘에서 내려와 말하기를, '경 시중(慶侍中)은 나라를 다시 일으킬 만하나, 맑기는 하지만 나이가 많다. 최 도통(崔都統)은 정직하지만 조금 우둔하다. 이 자로 나라를 바로잡을 사람이 공(公)이 아니면 누가 있겠는가!'라고 하였다.\"`\n",
    "\n",
    "배경 설명:\n",
    "\n",
    "\"상재잠저(上在潛邸)\": 임금이 왕위에 오르기 전 거처하던 곳.\n",
    "\"시중(侍中)\": 고려나 조선시대의 고위 관직.\n",
    "\"도통(都統)\": 군사 직위나 관직.\n",
    "\"공(公)\": 존칭으로, 높은 관직이나 인물을 지칭.\n",
    "문맥에서 신령이 왕에게 꿈에서 금자를 주며 나라를 바로잡을 임무를 맡기는 장면으로 보입니다."
   ]
  },
  {
   "cell_type": "code",
   "execution_count": 2,
   "metadata": {},
   "outputs": [],
   "source": [
    "# Before run this script, you should create a token in Kaggle and save it in ~/.kaggle/kaggle.json\n",
    "# import kagglehub\n",
    "\n",
    "# # Download latest version\n",
    "# path = kagglehub.model_download(\"keras/gemma2/keras/gemma2_instruct_2b_en\")\n",
    "\n",
    "# print(\"Path to model files:\", path)\n",
    "# # ~/.cache/kagglehub/models/keras/gemma2/keras/gemma2_instruct_2b_en/2"
   ]
  },
  {
   "cell_type": "code",
   "execution_count": 3,
   "metadata": {},
   "outputs": [],
   "source": [
    "import os \n",
    "\n",
    "# # Set the backbend before importing Keras\n",
    "# os.environ[\"KERAS_BACKEND\"] = \"jax\"\n",
    "# # Avoid memory fragmentation on JAX backend.\n",
    "# os.environ[\"XLA_PYTHON_CLIENT_MEM_FRACTION\"] = \"1.00\"\n",
    "os.environ[\"TOKENIZERS_PARALLELISM\"] = \"false\""
   ]
  },
  {
   "cell_type": "code",
   "execution_count": 6,
   "metadata": {},
   "outputs": [
    {
     "name": "stderr",
     "output_type": "stream",
     "text": [
      "normalizer.cc(51) LOG(INFO) precompiled_charsmap is empty. use identity normalization.\n"
     ]
    },
    {
     "data": {
      "text/html": [
       "<pre style=\"white-space:pre;overflow-x:auto;line-height:normal;font-family:Menlo,'DejaVu Sans Mono',consolas,'Courier New',monospace\"><span style=\"font-weight: bold\">Preprocessor: \"gemma_causal_lm_preprocessor\"</span>\n",
       "</pre>\n"
      ],
      "text/plain": [
       "\u001b[1mPreprocessor: \"gemma_causal_lm_preprocessor\"\u001b[0m\n"
      ]
     },
     "metadata": {},
     "output_type": "display_data"
    },
    {
     "data": {
      "text/html": [
       "<pre style=\"white-space:pre;overflow-x:auto;line-height:normal;font-family:Menlo,'DejaVu Sans Mono',consolas,'Courier New',monospace\">┏━━━━━━━━━━━━━━━━━━━━━━━━━━━━━━━━━━━━━━━━━━━━━━━━━━━━━━━━━━━━━━━┳━━━━━━━━━━━━━━━━━━━━━━━━━━━━━━━━━━━━━━━━━━┓\n",
       "┃<span style=\"font-weight: bold\"> Layer (type)                                                  </span>┃<span style=\"font-weight: bold\">                                   Config </span>┃\n",
       "┡━━━━━━━━━━━━━━━━━━━━━━━━━━━━━━━━━━━━━━━━━━━━━━━━━━━━━━━━━━━━━━━╇━━━━━━━━━━━━━━━━━━━━━━━━━━━━━━━━━━━━━━━━━━┩\n",
       "│ gemma_tokenizer (<span style=\"color: #0087ff; text-decoration-color: #0087ff\">GemmaTokenizer</span>)                              │                      Vocab size: <span style=\"color: #00af00; text-decoration-color: #00af00\">256,000</span> │\n",
       "└───────────────────────────────────────────────────────────────┴──────────────────────────────────────────┘\n",
       "</pre>\n"
      ],
      "text/plain": [
       "┏━━━━━━━━━━━━━━━━━━━━━━━━━━━━━━━━━━━━━━━━━━━━━━━━━━━━━━━━━━━━━━━┳━━━━━━━━━━━━━━━━━━━━━━━━━━━━━━━━━━━━━━━━━━┓\n",
       "┃\u001b[1m \u001b[0m\u001b[1mLayer (type)                                                 \u001b[0m\u001b[1m \u001b[0m┃\u001b[1m \u001b[0m\u001b[1m                                  Config\u001b[0m\u001b[1m \u001b[0m┃\n",
       "┡━━━━━━━━━━━━━━━━━━━━━━━━━━━━━━━━━━━━━━━━━━━━━━━━━━━━━━━━━━━━━━━╇━━━━━━━━━━━━━━━━━━━━━━━━━━━━━━━━━━━━━━━━━━┩\n",
       "│ gemma_tokenizer (\u001b[38;5;33mGemmaTokenizer\u001b[0m)                              │                      Vocab size: \u001b[38;5;34m256,000\u001b[0m │\n",
       "└───────────────────────────────────────────────────────────────┴──────────────────────────────────────────┘\n"
      ]
     },
     "metadata": {},
     "output_type": "display_data"
    },
    {
     "data": {
      "text/html": [
       "<pre style=\"white-space:pre;overflow-x:auto;line-height:normal;font-family:Menlo,'DejaVu Sans Mono',consolas,'Courier New',monospace\"><span style=\"font-weight: bold\">Model: \"gemma_causal_lm\"</span>\n",
       "</pre>\n"
      ],
      "text/plain": [
       "\u001b[1mModel: \"gemma_causal_lm\"\u001b[0m\n"
      ]
     },
     "metadata": {},
     "output_type": "display_data"
    },
    {
     "data": {
      "text/html": [
       "<pre style=\"white-space:pre;overflow-x:auto;line-height:normal;font-family:Menlo,'DejaVu Sans Mono',consolas,'Courier New',monospace\">┏━━━━━━━━━━━━━━━━━━━━━━━━━━━━━━━┳━━━━━━━━━━━━━━━━━━━━━━━━━━━┳━━━━━━━━━━━━━━━━━┳━━━━━━━━━━━━━━━━━━━━━━━━━━━━┓\n",
       "┃<span style=\"font-weight: bold\"> Layer (type)                  </span>┃<span style=\"font-weight: bold\"> Output Shape              </span>┃<span style=\"font-weight: bold\">         Param # </span>┃<span style=\"font-weight: bold\"> Connected to               </span>┃\n",
       "┡━━━━━━━━━━━━━━━━━━━━━━━━━━━━━━━╇━━━━━━━━━━━━━━━━━━━━━━━━━━━╇━━━━━━━━━━━━━━━━━╇━━━━━━━━━━━━━━━━━━━━━━━━━━━━┩\n",
       "│ padding_mask (<span style=\"color: #0087ff; text-decoration-color: #0087ff\">InputLayer</span>)     │ (<span style=\"color: #00d7ff; text-decoration-color: #00d7ff\">None</span>, <span style=\"color: #00d7ff; text-decoration-color: #00d7ff\">None</span>)              │               <span style=\"color: #00af00; text-decoration-color: #00af00\">0</span> │ -                          │\n",
       "├───────────────────────────────┼───────────────────────────┼─────────────────┼────────────────────────────┤\n",
       "│ token_ids (<span style=\"color: #0087ff; text-decoration-color: #0087ff\">InputLayer</span>)        │ (<span style=\"color: #00d7ff; text-decoration-color: #00d7ff\">None</span>, <span style=\"color: #00d7ff; text-decoration-color: #00d7ff\">None</span>)              │               <span style=\"color: #00af00; text-decoration-color: #00af00\">0</span> │ -                          │\n",
       "├───────────────────────────────┼───────────────────────────┼─────────────────┼────────────────────────────┤\n",
       "│ gemma_backbone                │ (<span style=\"color: #00d7ff; text-decoration-color: #00d7ff\">None</span>, <span style=\"color: #00d7ff; text-decoration-color: #00d7ff\">None</span>, <span style=\"color: #00af00; text-decoration-color: #00af00\">2304</span>)        │   <span style=\"color: #00af00; text-decoration-color: #00af00\">2,614,341,888</span> │ padding_mask[<span style=\"color: #00af00; text-decoration-color: #00af00\">0</span>][<span style=\"color: #00af00; text-decoration-color: #00af00\">0</span>],        │\n",
       "│ (<span style=\"color: #0087ff; text-decoration-color: #0087ff\">GemmaBackbone</span>)               │                           │                 │ token_ids[<span style=\"color: #00af00; text-decoration-color: #00af00\">0</span>][<span style=\"color: #00af00; text-decoration-color: #00af00\">0</span>]            │\n",
       "├───────────────────────────────┼───────────────────────────┼─────────────────┼────────────────────────────┤\n",
       "│ token_embedding               │ (<span style=\"color: #00d7ff; text-decoration-color: #00d7ff\">None</span>, <span style=\"color: #00d7ff; text-decoration-color: #00d7ff\">None</span>, <span style=\"color: #00af00; text-decoration-color: #00af00\">256000</span>)      │     <span style=\"color: #00af00; text-decoration-color: #00af00\">589,824,000</span> │ gemma_backbone[<span style=\"color: #00af00; text-decoration-color: #00af00\">0</span>][<span style=\"color: #00af00; text-decoration-color: #00af00\">0</span>]       │\n",
       "│ (<span style=\"color: #0087ff; text-decoration-color: #0087ff\">ReversibleEmbedding</span>)         │                           │                 │                            │\n",
       "└───────────────────────────────┴───────────────────────────┴─────────────────┴────────────────────────────┘\n",
       "</pre>\n"
      ],
      "text/plain": [
       "┏━━━━━━━━━━━━━━━━━━━━━━━━━━━━━━━┳━━━━━━━━━━━━━━━━━━━━━━━━━━━┳━━━━━━━━━━━━━━━━━┳━━━━━━━━━━━━━━━━━━━━━━━━━━━━┓\n",
       "┃\u001b[1m \u001b[0m\u001b[1mLayer (type)                 \u001b[0m\u001b[1m \u001b[0m┃\u001b[1m \u001b[0m\u001b[1mOutput Shape             \u001b[0m\u001b[1m \u001b[0m┃\u001b[1m \u001b[0m\u001b[1m        Param #\u001b[0m\u001b[1m \u001b[0m┃\u001b[1m \u001b[0m\u001b[1mConnected to              \u001b[0m\u001b[1m \u001b[0m┃\n",
       "┡━━━━━━━━━━━━━━━━━━━━━━━━━━━━━━━╇━━━━━━━━━━━━━━━━━━━━━━━━━━━╇━━━━━━━━━━━━━━━━━╇━━━━━━━━━━━━━━━━━━━━━━━━━━━━┩\n",
       "│ padding_mask (\u001b[38;5;33mInputLayer\u001b[0m)     │ (\u001b[38;5;45mNone\u001b[0m, \u001b[38;5;45mNone\u001b[0m)              │               \u001b[38;5;34m0\u001b[0m │ -                          │\n",
       "├───────────────────────────────┼───────────────────────────┼─────────────────┼────────────────────────────┤\n",
       "│ token_ids (\u001b[38;5;33mInputLayer\u001b[0m)        │ (\u001b[38;5;45mNone\u001b[0m, \u001b[38;5;45mNone\u001b[0m)              │               \u001b[38;5;34m0\u001b[0m │ -                          │\n",
       "├───────────────────────────────┼───────────────────────────┼─────────────────┼────────────────────────────┤\n",
       "│ gemma_backbone                │ (\u001b[38;5;45mNone\u001b[0m, \u001b[38;5;45mNone\u001b[0m, \u001b[38;5;34m2304\u001b[0m)        │   \u001b[38;5;34m2,614,341,888\u001b[0m │ padding_mask[\u001b[38;5;34m0\u001b[0m][\u001b[38;5;34m0\u001b[0m],        │\n",
       "│ (\u001b[38;5;33mGemmaBackbone\u001b[0m)               │                           │                 │ token_ids[\u001b[38;5;34m0\u001b[0m][\u001b[38;5;34m0\u001b[0m]            │\n",
       "├───────────────────────────────┼───────────────────────────┼─────────────────┼────────────────────────────┤\n",
       "│ token_embedding               │ (\u001b[38;5;45mNone\u001b[0m, \u001b[38;5;45mNone\u001b[0m, \u001b[38;5;34m256000\u001b[0m)      │     \u001b[38;5;34m589,824,000\u001b[0m │ gemma_backbone[\u001b[38;5;34m0\u001b[0m][\u001b[38;5;34m0\u001b[0m]       │\n",
       "│ (\u001b[38;5;33mReversibleEmbedding\u001b[0m)         │                           │                 │                            │\n",
       "└───────────────────────────────┴───────────────────────────┴─────────────────┴────────────────────────────┘\n"
      ]
     },
     "metadata": {},
     "output_type": "display_data"
    },
    {
     "data": {
      "text/html": [
       "<pre style=\"white-space:pre;overflow-x:auto;line-height:normal;font-family:Menlo,'DejaVu Sans Mono',consolas,'Courier New',monospace\"><span style=\"font-weight: bold\"> Total params: </span><span style=\"color: #00af00; text-decoration-color: #00af00\">2,614,341,888</span> (9.74 GB)\n",
       "</pre>\n"
      ],
      "text/plain": [
       "\u001b[1m Total params: \u001b[0m\u001b[38;5;34m2,614,341,888\u001b[0m (9.74 GB)\n"
      ]
     },
     "metadata": {},
     "output_type": "display_data"
    },
    {
     "data": {
      "text/html": [
       "<pre style=\"white-space:pre;overflow-x:auto;line-height:normal;font-family:Menlo,'DejaVu Sans Mono',consolas,'Courier New',monospace\"><span style=\"font-weight: bold\"> Trainable params: </span><span style=\"color: #00af00; text-decoration-color: #00af00\">2,614,341,888</span> (9.74 GB)\n",
       "</pre>\n"
      ],
      "text/plain": [
       "\u001b[1m Trainable params: \u001b[0m\u001b[38;5;34m2,614,341,888\u001b[0m (9.74 GB)\n"
      ]
     },
     "metadata": {},
     "output_type": "display_data"
    },
    {
     "data": {
      "text/html": [
       "<pre style=\"white-space:pre;overflow-x:auto;line-height:normal;font-family:Menlo,'DejaVu Sans Mono',consolas,'Courier New',monospace\"><span style=\"font-weight: bold\"> Non-trainable params: </span><span style=\"color: #00af00; text-decoration-color: #00af00\">0</span> (0.00 B)\n",
       "</pre>\n"
      ],
      "text/plain": [
       "\u001b[1m Non-trainable params: \u001b[0m\u001b[38;5;34m0\u001b[0m (0.00 B)\n"
      ]
     },
     "metadata": {},
     "output_type": "display_data"
    }
   ],
   "source": [
    "import keras\n",
    "import keras_nlp\n",
    "import time\n",
    "\n",
    "# Change this to the path where you downloaded the model\n",
    "model_id = \"~/.cache/kagglehub/models/keras/gemma2/keras/gemma2_instruct_2b_en/2\"\n",
    "\n",
    "gemma = keras_nlp.models.GemmaCausalLM.from_preset(model_id)\n",
    "gemma.summary()"
   ]
  },
  {
   "cell_type": "code",
   "execution_count": 29,
   "metadata": {},
   "outputs": [],
   "source": [
    "tick_start = 0\n",
    "token_limit = 512 \n",
    "\n",
    "def tick():\n",
    "    global tick_start\n",
    "    tick_start = time.time()\n",
    "\n",
    "\n",
    "def tock():\n",
    "    print(f\"TOTAL TIME ELAPSED: {time.time() - tick_start:.2f}s\")\n",
    "\n",
    "\n",
    "def text_gen(prompt):\n",
    "    tick()\n",
    "    input = f\"<start_of_turn>user\\n{prompt}<end_of_turn>\\n<start_of_turn>model\\n\"\n",
    "    output = gemma.generate(input, max_length=token_limit)\n",
    "    print(\"\\nGemma output:\")\n",
    "    print(output)\n",
    "    tock()\n",
    "\n",
    "\n",
    "def text_gen_with_few_shot(prompt, few_shot):\n",
    "    few_shot_str = \"\"\n",
    "    for x, y in few_shot:\n",
    "        few_shot_str += f\"<start_of_turn>user\\n{x}<end_of_turn>\\n<start_of_turn>model\\n{y}<end_of_turn>\\n\"\n",
    "        \n",
    "    tick()\n",
    "    input = f\"{few_shot_str}<start_of_turn>user\\n{prompt}<end_of_turn>\\n<start_of_turn>model\\n\"\n",
    "    output = gemma.generate(input, max_length=token_limit)\n",
    "    # Get the last response from the model\n",
    "    last_index = output.rfind(\"<start_of_turn>user\")\n",
    "    output = output[last_index:]\n",
    "    print(\"\\nGemma output:\")\n",
    "    print(output)\n",
    "    tock()"
   ]
  },
  {
   "cell_type": "code",
   "execution_count": 31,
   "metadata": {},
   "outputs": [
    {
     "data": {
      "text/plain": [
       "'임금이 잠저(潛邸)에 있을 때, 꿈에 신인(神人)이 금자[金尺]를 가지고 하늘에서 내려와 주면서 말하기를, \"시중(侍中) 경복흥(慶復興)은 청렴하기는 하나 이미 늙었으며, 도통(都統) 최영(崔瑩)은 강직하기는 하나 조금 고지식하니, 이것을 가지고 나라를 바룰 사람은 공(公)이 아니고 누구이겠는가?\" 하였다.'"
      ]
     },
     "execution_count": 31,
     "metadata": {},
     "output_type": "execute_result"
    }
   ],
   "source": [
    "test_hanja = '上在潛邸, 夢有神人執金尺自天而降, 授之曰: \"慶侍中 復興, 淸矣而已老; 崔都統 瑩, 直矣而少戇。 持此正國, 非公而誰!\"'\n",
    "test_answer = '임금이 잠저(潛邸)에 있을 때, 꿈에 신인(神人)이 금자[金尺]를 가지고 하늘에서 내려와 주면서 말하기를, \"시중(侍中) 경복흥(慶復興)은 청렴하기는 하나 이미 늙었으며, 도통(都統) 최영(崔瑩)은 강직하기는 하나 조금 고지식하니, 이것을 가지고 나라를 바룰 사람은 공(公)이 아니고 누구이겠는가?\" 하였다.'\n",
    "test_answer"
   ]
  },
  {
   "cell_type": "code",
   "execution_count": 9,
   "metadata": {},
   "outputs": [
    {
     "name": "stderr",
     "output_type": "stream",
     "text": [
      "WARNING: All log messages before absl::InitializeLog() is called are written to STDERR\n",
      "I0000 00:00:1735914249.629648   11284 service.cc:148] XLA service 0x7efca94656f0 initialized for platform Host (this does not guarantee that XLA will be used). Devices:\n",
      "I0000 00:00:1735914249.630081   11284 service.cc:156]   StreamExecutor device (0): Host, Default Version\n",
      "I0000 00:00:1735914249.653450   11284 device_compiler.h:188] Compiled cluster using XLA!  This line is logged at most once for the lifetime of the process.\n"
     ]
    },
    {
     "name": "stdout",
     "output_type": "stream",
     "text": [
      "\n",
      "Gemma output:\n",
      "<start_of_turn>user\n",
      "上在潛邸, 夢有神人執金尺自天而降, 授之曰: \"慶侍中 復興, 淸矣而已老; 崔都統 瑩, 直矣而少戇。 持此正國, 非公而誰!\"<end_of_turn>\n",
      "<start_of_turn>model\n",
      "This is a classic Chinese poem, likely from the Tang Dynasty, known for its poetic imagery and philosophical depth. Let's break down its meaning:\n",
      "\n",
      "**The Context:**\n",
      "\n",
      "* **\"上在潛邸\"**:  This means the speaker is in a secluded, hidden place, possibly a mountaintop or a cave. This setting suggests a contemplative and introspective mood.\n",
      "* **\"夢有神人執金尺自天而降\"**:  This is a dream. A divine person, possibly a god or a wise sage, descends from the sky with a golden ruler. \n",
      "* **\"授之曰: '慶侍中 復興, 淸矣而已老; 崔都統 瑩, 直矣而少戇。 持此正國, 非公而誰!'\"**:  The divine person gives the speaker a golden ruler. The message is delivered in a series of pronouncements:\n",
      "\n",
      "    * **\"慶侍中 復興, 淸矣而已老\"**:  \"The Prime Minister, who is now in decline, can be revived. It is only a matter of time.\" This suggests a call for revitalization and renewal.\n",
      "    * **\"崔都統 瑩, 直矣而少戇\"**: \"The Prime Minister, who is now in decline, can be revived. It is only a matter of time.\" This suggests a call for revitalization and renewal.\n",
      "    * **\"持此正國, 非公而誰!\"**: \"Holding this ruler, it is not for the common man, but for the one who is truly worthy.\" This is the core message, emphasizing the need for a ruler who is not motivated by personal gain but by the well-being of the people.\n",
      "\n",
      "**Interpretation:**\n",
      "\n",
      "The poem is a powerful allegory about leadership and the pursuit of justice. \n",
      "\n",
      "* **The Dream:** The dream symbolizes a vision of a better future, a time of prosperity and peace.\n",
      "* **The Ruler:** The golden ruler represents a symbol of power and authority. It is given to the speaker, who is likely a leader or someone in a position of influence.\n",
      "* **The Message:**\n",
      "TOTAL TIME ELAPSED: 205.37s\n"
     ]
    }
   ],
   "source": [
    "text_gen(test_hanja)"
   ]
  },
  {
   "cell_type": "code",
   "execution_count": 10,
   "metadata": {},
   "outputs": [
    {
     "name": "stdout",
     "output_type": "stream",
     "text": [
      "\n",
      "Gemma output:\n",
      "<start_of_turn>user\n",
      "한국의 한자로 된 고어 문서를 현대 한국어로 번역해줘. 上在潛邸, 夢有神人執金尺自天而降, 授之曰: \"慶侍中 復興, 淸矣而已老; 崔都統 瑩, 直矣而少戇。 持此正國, 非公而誰!\"<end_of_turn>\n",
      "<start_of_turn>model\n",
      "## Translation of the Korean Hanja Text:\n",
      "\n",
      "**\"Above the subterranean dwelling, there was a dream of a divine man holding a golden ruler that descended from heaven. He said, 'This is the way to restore the country, to revive it. It is only old; the Prime Minister of the Imperial Court, Choi, is wise and intelligent. Holding this, one can restore the country, not for the sake of the public, but for whom?'\"**\n",
      "\n",
      "\n",
      "**Explanation:**\n",
      "\n",
      "This text is a fragment of a historical document, likely a conversation between a powerful figure and a subordinate. \n",
      "\n",
      "* **\"Above the subterranean dwelling\"**: This likely refers to a hidden or secret location, possibly a palace or a place of power.\n",
      "* **\"there was a dream of a divine man holding a golden ruler that descended from heaven\"**: This suggests a vision or prophecy, possibly about a future leader or a divine intervention.\n",
      "* **\"He said, 'This is the way to restore the country, to revive it. It is only old; the Prime Minister of the Imperial Court, Choi, is wise and intelligent. Holding this, one can restore the country, not for the sake of the public, but for whom?'\"**: This is a complex statement with multiple layers of meaning. \n",
      "    * **\"This is the way to restore the country, to revive it\"**: This suggests a plan or strategy for restoring the country to its former glory.\n",
      "    * **\"It is only old\"**: This could refer to the current state of the country, which is considered outdated or stagnant.\n",
      "    * **\"The Prime Minister of the Imperial Court, Choi, is wise and intelligent\"**: This praises the Prime Minister's wisdom and intelligence.\n",
      "    * **\"Holding this, one can restore the country, not for the sake of the public, but for whom?\"**: This is a rhetorical question, implying that the restoration of the country is not for the benefit of the public, but for a specific individual or group.\n",
      "\n",
      "\n",
      "**Note:** \n",
      "\n",
      "This text\n",
      "TOTAL TIME ELAPSED: 192.62s\n"
     ]
    }
   ],
   "source": [
    "text_gen(f'한국의 한자로 된 고어 문서를 현대 한국어로 번역해줘. {test_hanja}')"
   ]
  },
  {
   "cell_type": "code",
   "execution_count": 12,
   "metadata": {},
   "outputs": [
    {
     "name": "stdout",
     "output_type": "stream",
     "text": [
      "\n",
      "Gemma output:\n",
      "<start_of_turn>user\n",
      "한국의 한자로 된 고어 문서를 현대 한국어로 번역해줘. 영어나 중국어를 쓰지 말고 한글로 답변해줘. 上在潛邸, 夢有神人執金尺自天而降, 授之曰: \"慶侍中 復興, 淸矣而已老; 崔都統 瑩, 直矣而少戇。 持此正國, 非公而誰!\"<end_of_turn>\n",
      "<start_of_turn>model\n",
      "**상을 잠들고, 꿈에 신인이 돈을 잡아 천장에서 내려왔다. 그에게 말했다: \"정실 중, 복흥을 이루고, 깨끗해졌다. 崔都통 瑩, 곧 똑똑해졌지만, 멍청해졌다. 이 정권을 지키는 것은 공적인 일이 아니야!\"** \n",
      "<end_of_turn>\n",
      "TOTAL TIME ELAPSED: 46.15s\n"
     ]
    }
   ],
   "source": [
    "text_gen(f'한국의 한자로 된 고어 문서를 현대 한국어로 번역해줘. 영어나 중국어를 쓰지 말고 한글로 답변해줘. {test_hanja}')"
   ]
  },
  {
   "cell_type": "markdown",
   "metadata": {},
   "source": [
    "## Few-shot prompting"
   ]
  },
  {
   "cell_type": "code",
   "execution_count": 30,
   "metadata": {},
   "outputs": [
    {
     "name": "stdout",
     "output_type": "stream",
     "text": [
      "\n",
      "Gemma output:\n",
      "<start_of_turn>user\n",
      "上在潛邸, 夢有神人執金尺自天而降, 授之曰: \"慶侍中 復興, 淸矣而已老; 崔都統 瑩, 直矣而少戇。 持此正國, 非公而誰!\"<end_of_turn>\n",
      "<start_of_turn>model\n",
      "임금은 잠자리에 있었는데, 꿈에서 신성한 인물이 금 척을 땅에서 떨어뜨렸고, 그에게 말했다: \"정신을 갖추고, 옛날의 힘을 되찾아, 깨끗하게 만들어야 한다. 옛날의 힘을 되찾아, 깨끗하게 만들어야 한다. 옛날의 힘을 되찾아, 깨끗하게 만들어야 한다. 옛날의 힘을 되찾아, 깨끗하게 만들어야 한다. 옛날의 힘을 되찾아, 깨끗하게 만들어야 한다. 옛날의 힘을 되찾아, 깨끗하게 만들어야 한다. 옛날의 힘을 되찾아, 깨끗하게 만들어야 한다. 옛날의 힘을 되찾아, 깨끗하게 만들어야 한다. 옛날의 힘을 되찾아, 깨끗하게 만들어야 한다. 옛날의 힘을 되찾아, \n",
      "TOTAL TIME ELAPSED: 134.56s\n"
     ]
    }
   ],
   "source": [
    "few_shot = [\n",
    "    ('庚午朔/隕霜。', '경오삭(庚午朔)에 서리가 내리었다.'),\n",
    "    ('壬申/上坐東涼廳, 召閱擲石軍, 命中樞趙琦領之。', '임금이 동량청(東涼廳)에 앉아 척석군(擲石軍)을 불러 사열하고, 중추(中樞) 조기(趙琦)에게 명하여 이들을 거느리게 하였다.'),\n",
    "    ('都評議使司具戶曹給田司田制, 狀申, 上允之。', '도평의사사에서 호조 급전사(戶曹給田司)의 전제(田制)를 갖추어 장계(狀啓)로 아뢰니, 임금이 그대로 윤허하였다.')\n",
    "]\n",
    "\n",
    "text_gen_with_few_shot(test_hanja, few_shot)"
   ]
  },
  {
   "cell_type": "markdown",
   "metadata": {},
   "source": [
    "# Dataset\n",
    "## Load data"
   ]
  },
  {
   "cell_type": "code",
   "execution_count": 13,
   "metadata": {},
   "outputs": [
    {
     "name": "stdout",
     "output_type": "stream",
     "text": [
      "total number of train data: 2251\n",
      "total number of valid data: 208\n",
      "total number of test data: 416\n"
     ]
    }
   ],
   "source": [
    "import json\n",
    "import glob \n",
    "\n",
    "def load_jsonl(filepath):\n",
    "    with open(filepath, 'r') as f:\n",
    "        for line in f:\n",
    "            yield json.loads(line)\n",
    "\n",
    "# It's not possible to train gemma2 using the whole data due to time-limitation\n",
    "# See my github project to train the model in a local environment\n",
    "# filepaths = glob.glob('/kaggle/input/joseon-dynasty-silok/*.jsonl')\n",
    "train_filepaths = ['~/data/hdd01/datasets/kaggle/nlp/google-ugc/silok/kaa.jsonl']\n",
    "test_filepaths = ['~/data/hdd01/datasets/kaggle/nlp/google-ugc/silok/kba.jsonl']\n",
    "\n",
    "def get_data(filepaths):\n",
    "    data = []\n",
    "    for filepath in filepaths:\n",
    "        data.extend(list(load_jsonl(filepath)))\n",
    "    return data \n",
    "\n",
    "train_data = get_data(train_filepaths)\n",
    "test_data = get_data(test_filepaths)\n",
    "valid_data = test_data[-(len(test_data)//3):]\n",
    "test_data = test_data[:-len(valid_data)]\n",
    "\n",
    "print(f\"total number of train data: {len(train_data)}\\ntotal number of valid data: {len(valid_data)}\\ntotal number of test data: {len(test_data)}\")"
   ]
  },
  {
   "cell_type": "code",
   "execution_count": 14,
   "metadata": {},
   "outputs": [
    {
     "data": {
      "text/plain": [
       "{'title': '자료열람 태조실록 태조 1년 태조 1년 7월 태조 1년 7월 17일',\n",
       " 'hangul': '임금이 잠저(潛邸)에 있을 때, 꿈에 신인(神人)이 금자[金尺]를 가지고 하늘에서 내려와 주면서 말하기를,\"시중(侍中) 경복흥(慶復興)은 청렴하기는 하나 이미 늙었으며, 도통(都統) 최영(崔瑩)은 강직하기는 하나 조금 고지식하니, 이것을 가지고 나라를 바룰 사람은 공(公)이 아니고 누구이겠는가?\"하였다. 그 뒤에 어떤 사람이 문밖에 이르러 이상한 글을 바치면서 말하기를,\"이것을 지리산(智異山) 바위 속에서 얻었습니다.\"하는데, 그 글에,\"목자(木子)005) 가 돼지를 타고 내려와서 다시 삼한(三韓)의 강토를 바로잡을 것이다.\"하고, 또,\"비의(非衣)006) ·주초(走肖)007) ·삼전 삼읍(三奠三邑)008) \"등의 말이 있었다. 사람을 시켜 맞이해 들어오게 하니 이미 가버렸으므로, 이를 찾아도 찾아내지 못하였다. 고려의 서운관(書雲觀)에 간직한 비기(秘記)에 ‘건목득자(建木得子)’의 설(說)이 있고, 또 ‘왕씨(王氏)가 멸망하고 이씨(李氏)가 일어난다.’는 말이 있는데, 고려의 말년에 이르기까지 숨겨지고 발포(發布)되지 않았더니, 이때에 이르러 세상에 나타나게 되었다. 또 조명(早明)이란 말이 있는데 사람들이 그 뜻을 깨닫지 못했더니, 뒤에 국호(國號)를 조선이라 한 뒤에야 조명(早明)이 곧 조선(朝鮮)을 이른 것인 줄을 알게 되었다. 의주(宜州)에 큰 나무가 있는데 말라 썩은 지 여러 해가 되었으나, 개국(開國)하기 전 1년에 다시 가지가 나고 무성하니, 그때 사람들이 개국의 징조라고 말하였다. 또 태조가 잠저(潛邸)에 있을 때 일찍이 시중(侍中) 경복흥(慶復興)의 사제(私第)에 갔더니, 복흥(復興)이 영접해 들이고 그 아내로 하여금 나와 보게 하면서 존경하는 뜻이 매우 지극했으며, 또 그 자손을 부탁하면서 말하기를,\"나의 어리석은 자손을 공(公)께서 장차 비호(庇護)해야 될 것이오니, 공은 행여 잊지 마시기를 바랍니다.\"하며, 매양 태조를 대접하면서 반드시 특별히 높이었다. 태조가 혹시 정토(征討)로 인하여 밖에 나가면, 복흥(復興)은 매양 고하기를,\"동한(東韓)의 사직(社稷)이 장차 손안[掌握]에 돌아갈 것이니 전쟁의 괴로움을 꺼리지 말고 능히 나라를 지키는 공을 이루게 하시오.\"하였다. 일찍이 상명사(相命師)009) 혜징(惠澄)이 사사로이 그 친한 사람에게 이르기를,\"내가 사람들의 운명(運命)을 관찰한 것이 많았으나 이성계(李成桂)와 같은 사람은 없었다.\"하였다. 친한 사람이 묻기를,\"타고난 운명이 비록 좋더라도 벼슬이 총재(冢宰)에 그칠 뿐이다.\"하니, 혜징이 말하기를,\"총재(冢宰)라면 어찌 말할 것이 있겠는가? 내가 관찰한 것은 군장(君長)의 운명이니, 그가 왕씨(王氏)를 대신하여 반드시 일어나겠지!\"하였다. 또 삼군(三軍)이 신경(新京)010) 땅에서 사냥하는데, 전하(殿下)011) 가 잠저(潛邸)에 있을 때 또한 갔었다. 노루 한 마리가 나오므로, 전하가 달려가서 쏘아 화살 한 개에 죽이니, 여러 왕씨(王氏) 10여 인이 높은 언덕에 모여 서서 이를 보고는 몹시 놀라서 서로 돌아보면서 말하기를,\"사람들이 이씨(李氏)가 장차 일어날 것이라고 많이 말하고 있는데, 이 사람이 아닌가?\"하고, 또 상왕(上王)012) 이 잠저(潛邸)에 있을 때에 시중(侍中) 이인임(李仁任)을 그 사제(私第)에 가서 보았는데, 이미 나가고 난 뒤에 인임(仁任)이 다른 사람에게 일렀다.\"국가가 장차는 반드시 이씨(李氏)에게 돌아갈 것이다.\"',\n",
       " 'hanja': '○上在潛邸, 夢有神人執金尺自天而降, 授之曰: \"慶侍中 復興, 淸矣而已老; 崔都統 瑩, 直矣而少戇。 持此正國, 非公而誰!\" 其後有人踵門獻異書云: \"得之智異山巖石中。\" 書有 \"木子乘猪下, 復正三韓境。\" 又有\"非衣走肖三奠三邑\" 等語。 使人迎入則已去, 尋之不得。 高麗書雲觀所藏秘記, 有建木得子之說, 又有王氏滅李氏興之語, 終高麗之季, 秘而不發, 至是乃見。 又有早明之語, 人莫諭其意, 及國號朝鮮, 然後乃知早明卽朝鮮之謂也。 宜州有大樹, 枯朽累年, 先開國一年, 復條達敷榮, 時人以爲開國之兆。 又太祖在潛邸, 嘗至侍中慶復興之第, 復興迎入, 使其妻出見, 禮意甚至。 且屬其子孫曰: \"吾之豚犬, 惟公將庇之, 煩公幸勿忘。\" 每待之必尊異。 太祖或因征討出外, 則復興每告曰: \"東韓社稷, 將歸掌握, 毋憚汗馬之勞, 克成鎭國之功。\" 嘗有相命師惠澄私謂其所親曰: \"吾相人之命, 多矣, 無如李 【太祖舊諱。】 者。\" 所親問: \"賦命雖善, 位極於冢宰耳。\" 澄曰: \"若冢宰, 何足道哉? 吾之所相者, 君長之命也。 其代王氏而必興乎!\" 又三軍蒐于新京之地, 殿下潛邸時, 亦往焉。 有一獐出, 殿下馳射, 一矢而斃。 諸王十餘人, 方聚立高丘見之, 驚駭相顧曰: \"人多言李氏將興, 得非斯乎?\" 又上王潛邸時, 往見侍中李仁任于其第。 旣出, 仁任謂人曰: \"國家將必歸於李氏矣。\"',\n",
       " 'url': 'https://sillok.history.go.kr/id/kaa_10107017_002'}"
      ]
     },
     "execution_count": 14,
     "metadata": {},
     "output_type": "execute_result"
    }
   ],
   "source": [
    "train_data[1]"
   ]
  },
  {
   "cell_type": "code",
   "execution_count": 15,
   "metadata": {},
   "outputs": [
    {
     "data": {
      "text/plain": [
       "{'title': '자료열람 태조실록 태조 1년 태조 1년 7월 태조 1년 7월 18일',\n",
       " 'hangul': '비가 내리었다. 이보다 앞서 오랫동안 가물었는데, 임금이 왕위에 오르자 억수같이 비가 내리니, 백성의 마음이 크게 기뻐하였다.',\n",
       " 'hanja': '○丁酉/雨。 前此久旱, 及上卽位, 霈然下雨, 人心大悅。',\n",
       " 'url': 'https://sillok.history.go.kr/id/kaa_10107018_001'}"
      ]
     },
     "execution_count": 15,
     "metadata": {},
     "output_type": "execute_result"
    }
   ],
   "source": [
    "train_data[2]"
   ]
  },
  {
   "cell_type": "markdown",
   "metadata": {},
   "source": [
    "## Tokeninzation to train model"
   ]
  },
  {
   "cell_type": "code",
   "execution_count": 16,
   "metadata": {},
   "outputs": [
    {
     "name": "stdout",
     "output_type": "stream",
     "text": [
      "number of train samples: 1979\n",
      "number of valid samples: 208\n",
      "number of test samples: 416\n"
     ]
    }
   ],
   "source": [
    "# https://www.kaggle.com/code/bebechien/translator-of-old-korean-literature\n",
    "token_limit = 512 # max: 8192, 1024: OOM\n",
    "tokenizer = keras_nlp.models.GemmaTokenizer.from_preset(model_id)\n",
    "\n",
    "def get_data_to_train_gemma2(data, token_limit=token_limit):\n",
    "    samples = []\n",
    "    for x in data:\n",
    "        item = f\"<start_of_turn>user\\n{x['hanja']}<end_of_turn>\\n<start_of_turn>model\\n{x['hangul']}<end_of_turn>\"\n",
    "        length = len(tokenizer(item))\n",
    "        # skip data if the token length is longer than our limit\n",
    "        if length < token_limit:\n",
    "            samples.append(item)\n",
    "    return samples \n",
    "\n",
    "train_samples = get_data_to_train_gemma2(train_data)\n",
    "valid_samples = [(d['hanja'], d['hangul']) for d in valid_data]\n",
    "test_samples = [(d['hanja'], d['hangul']) for d in test_data]\n",
    "\n",
    "print(f\"number of train samples: {len(train_samples)}\\nnumber of valid samples: {len(valid_samples)}\\nnumber of test samples: {len(test_samples)}\")"
   ]
  },
  {
   "cell_type": "code",
   "execution_count": 17,
   "metadata": {},
   "outputs": [
    {
     "data": {
      "text/plain": [
       "'<start_of_turn>user\\n○丁酉/雨。 前此久旱, 及上卽位, 霈然下雨, 人心大悅。<end_of_turn>\\n<start_of_turn>model\\n비가 내리었다. 이보다 앞서 오랫동안 가물었는데, 임금이 왕위에 오르자 억수같이 비가 내리니, 백성의 마음이 크게 기뻐하였다.<end_of_turn>'"
      ]
     },
     "execution_count": 17,
     "metadata": {},
     "output_type": "execute_result"
    }
   ],
   "source": [
    "train_samples[0]"
   ]
  },
  {
   "cell_type": "markdown",
   "metadata": {},
   "source": [
    "# Model\n",
    "## Train"
   ]
  },
  {
   "cell_type": "code",
   "execution_count": 18,
   "metadata": {},
   "outputs": [],
   "source": [
    "# Training Configurations\n",
    "debug = True\n",
    "lora_name = \"hanja2hangul\"\n",
    "lora_rank = 4\n",
    "lr_value = 1e-4\n",
    "train_epoch = 3 if debug else 10"
   ]
  },
  {
   "cell_type": "code",
   "execution_count": 22,
   "metadata": {},
   "outputs": [],
   "source": [
    "import numpy as np \n",
    "val_x, val_y = zip(*valid_samples)\n",
    "val_x = np.array(val_x)\n",
    "val_y = np.array(val_y)\n",
    "\n",
    "test_x, test_y = zip(*test_samples)\n",
    "test_x = np.array(test_x)\n",
    "test_y = np.array(test_y)\n",
    "\n",
    "if debug:\n",
    "    train_samples = train_samples[:10]\n",
    "    val_x = val_x[:10]\n",
    "    val_y = val_y[:10]\n",
    "    test_x = test_x[:10]\n",
    "    test_y = test_y[:10]"
   ]
  },
  {
   "cell_type": "code",
   "execution_count": 20,
   "metadata": {},
   "outputs": [
    {
     "data": {
      "text/html": [
       "<pre style=\"white-space:pre;overflow-x:auto;line-height:normal;font-family:Menlo,'DejaVu Sans Mono',consolas,'Courier New',monospace\"><span style=\"font-weight: bold\">Preprocessor: \"gemma_causal_lm_preprocessor\"</span>\n",
       "</pre>\n"
      ],
      "text/plain": [
       "\u001b[1mPreprocessor: \"gemma_causal_lm_preprocessor\"\u001b[0m\n"
      ]
     },
     "metadata": {},
     "output_type": "display_data"
    },
    {
     "data": {
      "text/html": [
       "<pre style=\"white-space:pre;overflow-x:auto;line-height:normal;font-family:Menlo,'DejaVu Sans Mono',consolas,'Courier New',monospace\">┏━━━━━━━━━━━━━━━━━━━━━━━━━━━━━━━━━━━━━━━━━━━━━━━━━━━━━━━━━━━━━━━┳━━━━━━━━━━━━━━━━━━━━━━━━━━━━━━━━━━━━━━━━━━┓\n",
       "┃<span style=\"font-weight: bold\"> Layer (type)                                                  </span>┃<span style=\"font-weight: bold\">                                   Config </span>┃\n",
       "┡━━━━━━━━━━━━━━━━━━━━━━━━━━━━━━━━━━━━━━━━━━━━━━━━━━━━━━━━━━━━━━━╇━━━━━━━━━━━━━━━━━━━━━━━━━━━━━━━━━━━━━━━━━━┩\n",
       "│ gemma_tokenizer (<span style=\"color: #0087ff; text-decoration-color: #0087ff\">GemmaTokenizer</span>)                              │                      Vocab size: <span style=\"color: #00af00; text-decoration-color: #00af00\">256,000</span> │\n",
       "└───────────────────────────────────────────────────────────────┴──────────────────────────────────────────┘\n",
       "</pre>\n"
      ],
      "text/plain": [
       "┏━━━━━━━━━━━━━━━━━━━━━━━━━━━━━━━━━━━━━━━━━━━━━━━━━━━━━━━━━━━━━━━┳━━━━━━━━━━━━━━━━━━━━━━━━━━━━━━━━━━━━━━━━━━┓\n",
       "┃\u001b[1m \u001b[0m\u001b[1mLayer (type)                                                 \u001b[0m\u001b[1m \u001b[0m┃\u001b[1m \u001b[0m\u001b[1m                                  Config\u001b[0m\u001b[1m \u001b[0m┃\n",
       "┡━━━━━━━━━━━━━━━━━━━━━━━━━━━━━━━━━━━━━━━━━━━━━━━━━━━━━━━━━━━━━━━╇━━━━━━━━━━━━━━━━━━━━━━━━━━━━━━━━━━━━━━━━━━┩\n",
       "│ gemma_tokenizer (\u001b[38;5;33mGemmaTokenizer\u001b[0m)                              │                      Vocab size: \u001b[38;5;34m256,000\u001b[0m │\n",
       "└───────────────────────────────────────────────────────────────┴──────────────────────────────────────────┘\n"
      ]
     },
     "metadata": {},
     "output_type": "display_data"
    },
    {
     "data": {
      "text/html": [
       "<pre style=\"white-space:pre;overflow-x:auto;line-height:normal;font-family:Menlo,'DejaVu Sans Mono',consolas,'Courier New',monospace\"><span style=\"font-weight: bold\">Model: \"gemma_causal_lm\"</span>\n",
       "</pre>\n"
      ],
      "text/plain": [
       "\u001b[1mModel: \"gemma_causal_lm\"\u001b[0m\n"
      ]
     },
     "metadata": {},
     "output_type": "display_data"
    },
    {
     "data": {
      "text/html": [
       "<pre style=\"white-space:pre;overflow-x:auto;line-height:normal;font-family:Menlo,'DejaVu Sans Mono',consolas,'Courier New',monospace\">┏━━━━━━━━━━━━━━━━━━━━━━━━━━━━━━━┳━━━━━━━━━━━━━━━━━━━━━━━━━━━┳━━━━━━━━━━━━━━━━━┳━━━━━━━━━━━━━━━━━━━━━━━━━━━━┓\n",
       "┃<span style=\"font-weight: bold\"> Layer (type)                  </span>┃<span style=\"font-weight: bold\"> Output Shape              </span>┃<span style=\"font-weight: bold\">         Param # </span>┃<span style=\"font-weight: bold\"> Connected to               </span>┃\n",
       "┡━━━━━━━━━━━━━━━━━━━━━━━━━━━━━━━╇━━━━━━━━━━━━━━━━━━━━━━━━━━━╇━━━━━━━━━━━━━━━━━╇━━━━━━━━━━━━━━━━━━━━━━━━━━━━┩\n",
       "│ padding_mask (<span style=\"color: #0087ff; text-decoration-color: #0087ff\">InputLayer</span>)     │ (<span style=\"color: #00d7ff; text-decoration-color: #00d7ff\">None</span>, <span style=\"color: #00d7ff; text-decoration-color: #00d7ff\">None</span>)              │               <span style=\"color: #00af00; text-decoration-color: #00af00\">0</span> │ -                          │\n",
       "├───────────────────────────────┼───────────────────────────┼─────────────────┼────────────────────────────┤\n",
       "│ token_ids (<span style=\"color: #0087ff; text-decoration-color: #0087ff\">InputLayer</span>)        │ (<span style=\"color: #00d7ff; text-decoration-color: #00d7ff\">None</span>, <span style=\"color: #00d7ff; text-decoration-color: #00d7ff\">None</span>)              │               <span style=\"color: #00af00; text-decoration-color: #00af00\">0</span> │ -                          │\n",
       "├───────────────────────────────┼───────────────────────────┼─────────────────┼────────────────────────────┤\n",
       "│ gemma_backbone                │ (<span style=\"color: #00d7ff; text-decoration-color: #00d7ff\">None</span>, <span style=\"color: #00d7ff; text-decoration-color: #00d7ff\">None</span>, <span style=\"color: #00af00; text-decoration-color: #00af00\">2304</span>)        │   <span style=\"color: #00af00; text-decoration-color: #00af00\">2,617,270,528</span> │ padding_mask[<span style=\"color: #00af00; text-decoration-color: #00af00\">0</span>][<span style=\"color: #00af00; text-decoration-color: #00af00\">0</span>],        │\n",
       "│ (<span style=\"color: #0087ff; text-decoration-color: #0087ff\">GemmaBackbone</span>)               │                           │                 │ token_ids[<span style=\"color: #00af00; text-decoration-color: #00af00\">0</span>][<span style=\"color: #00af00; text-decoration-color: #00af00\">0</span>]            │\n",
       "├───────────────────────────────┼───────────────────────────┼─────────────────┼────────────────────────────┤\n",
       "│ token_embedding               │ (<span style=\"color: #00d7ff; text-decoration-color: #00d7ff\">None</span>, <span style=\"color: #00d7ff; text-decoration-color: #00d7ff\">None</span>, <span style=\"color: #00af00; text-decoration-color: #00af00\">256000</span>)      │     <span style=\"color: #00af00; text-decoration-color: #00af00\">589,824,000</span> │ gemma_backbone[<span style=\"color: #00af00; text-decoration-color: #00af00\">0</span>][<span style=\"color: #00af00; text-decoration-color: #00af00\">0</span>]       │\n",
       "│ (<span style=\"color: #0087ff; text-decoration-color: #0087ff\">ReversibleEmbedding</span>)         │                           │                 │                            │\n",
       "└───────────────────────────────┴───────────────────────────┴─────────────────┴────────────────────────────┘\n",
       "</pre>\n"
      ],
      "text/plain": [
       "┏━━━━━━━━━━━━━━━━━━━━━━━━━━━━━━━┳━━━━━━━━━━━━━━━━━━━━━━━━━━━┳━━━━━━━━━━━━━━━━━┳━━━━━━━━━━━━━━━━━━━━━━━━━━━━┓\n",
       "┃\u001b[1m \u001b[0m\u001b[1mLayer (type)                 \u001b[0m\u001b[1m \u001b[0m┃\u001b[1m \u001b[0m\u001b[1mOutput Shape             \u001b[0m\u001b[1m \u001b[0m┃\u001b[1m \u001b[0m\u001b[1m        Param #\u001b[0m\u001b[1m \u001b[0m┃\u001b[1m \u001b[0m\u001b[1mConnected to              \u001b[0m\u001b[1m \u001b[0m┃\n",
       "┡━━━━━━━━━━━━━━━━━━━━━━━━━━━━━━━╇━━━━━━━━━━━━━━━━━━━━━━━━━━━╇━━━━━━━━━━━━━━━━━╇━━━━━━━━━━━━━━━━━━━━━━━━━━━━┩\n",
       "│ padding_mask (\u001b[38;5;33mInputLayer\u001b[0m)     │ (\u001b[38;5;45mNone\u001b[0m, \u001b[38;5;45mNone\u001b[0m)              │               \u001b[38;5;34m0\u001b[0m │ -                          │\n",
       "├───────────────────────────────┼───────────────────────────┼─────────────────┼────────────────────────────┤\n",
       "│ token_ids (\u001b[38;5;33mInputLayer\u001b[0m)        │ (\u001b[38;5;45mNone\u001b[0m, \u001b[38;5;45mNone\u001b[0m)              │               \u001b[38;5;34m0\u001b[0m │ -                          │\n",
       "├───────────────────────────────┼───────────────────────────┼─────────────────┼────────────────────────────┤\n",
       "│ gemma_backbone                │ (\u001b[38;5;45mNone\u001b[0m, \u001b[38;5;45mNone\u001b[0m, \u001b[38;5;34m2304\u001b[0m)        │   \u001b[38;5;34m2,617,270,528\u001b[0m │ padding_mask[\u001b[38;5;34m0\u001b[0m][\u001b[38;5;34m0\u001b[0m],        │\n",
       "│ (\u001b[38;5;33mGemmaBackbone\u001b[0m)               │                           │                 │ token_ids[\u001b[38;5;34m0\u001b[0m][\u001b[38;5;34m0\u001b[0m]            │\n",
       "├───────────────────────────────┼───────────────────────────┼─────────────────┼────────────────────────────┤\n",
       "│ token_embedding               │ (\u001b[38;5;45mNone\u001b[0m, \u001b[38;5;45mNone\u001b[0m, \u001b[38;5;34m256000\u001b[0m)      │     \u001b[38;5;34m589,824,000\u001b[0m │ gemma_backbone[\u001b[38;5;34m0\u001b[0m][\u001b[38;5;34m0\u001b[0m]       │\n",
       "│ (\u001b[38;5;33mReversibleEmbedding\u001b[0m)         │                           │                 │                            │\n",
       "└───────────────────────────────┴───────────────────────────┴─────────────────┴────────────────────────────┘\n"
      ]
     },
     "metadata": {},
     "output_type": "display_data"
    },
    {
     "data": {
      "text/html": [
       "<pre style=\"white-space:pre;overflow-x:auto;line-height:normal;font-family:Menlo,'DejaVu Sans Mono',consolas,'Courier New',monospace\"><span style=\"font-weight: bold\"> Total params: </span><span style=\"color: #00af00; text-decoration-color: #00af00\">2,617,270,528</span> (9.75 GB)\n",
       "</pre>\n"
      ],
      "text/plain": [
       "\u001b[1m Total params: \u001b[0m\u001b[38;5;34m2,617,270,528\u001b[0m (9.75 GB)\n"
      ]
     },
     "metadata": {},
     "output_type": "display_data"
    },
    {
     "data": {
      "text/html": [
       "<pre style=\"white-space:pre;overflow-x:auto;line-height:normal;font-family:Menlo,'DejaVu Sans Mono',consolas,'Courier New',monospace\"><span style=\"font-weight: bold\"> Trainable params: </span><span style=\"color: #00af00; text-decoration-color: #00af00\">2,928,640</span> (11.17 MB)\n",
       "</pre>\n"
      ],
      "text/plain": [
       "\u001b[1m Trainable params: \u001b[0m\u001b[38;5;34m2,928,640\u001b[0m (11.17 MB)\n"
      ]
     },
     "metadata": {},
     "output_type": "display_data"
    },
    {
     "data": {
      "text/html": [
       "<pre style=\"white-space:pre;overflow-x:auto;line-height:normal;font-family:Menlo,'DejaVu Sans Mono',consolas,'Courier New',monospace\"><span style=\"font-weight: bold\"> Non-trainable params: </span><span style=\"color: #00af00; text-decoration-color: #00af00\">2,614,341,888</span> (9.74 GB)\n",
       "</pre>\n"
      ],
      "text/plain": [
       "\u001b[1m Non-trainable params: \u001b[0m\u001b[38;5;34m2,614,341,888\u001b[0m (9.74 GB)\n"
      ]
     },
     "metadata": {},
     "output_type": "display_data"
    }
   ],
   "source": [
    "# # Enable LoRA for the model and set the LoRA rank (4, 8 or 16).\n",
    "gemma.backbone.enable_lora(rank=lora_rank)\n",
    "gemma.summary()\n",
    "\n",
    "# Limit the input sequence length (to control memory usage).\n",
    "gemma.preprocessor.sequence_length = token_limit\n",
    "# Use AdamW (a common optimizer for transformer models).\n",
    "optimizer = keras.optimizers.AdamW(\n",
    "    learning_rate=lr_value,\n",
    "    weight_decay=0.01,\n",
    ")\n",
    "# Exclude layernorm and bias terms from decay.\n",
    "optimizer.exclude_from_weight_decay(var_names=[\"bias\", \"scale\"])\n",
    "\n",
    "gemma.compile(\n",
    "    loss=keras.losses.SparseCategoricalCrossentropy(from_logits=True),\n",
    "    optimizer=optimizer,\n",
    "    weighted_metrics=[keras.metrics.SparseCategoricalAccuracy()],\n",
    ")"
   ]
  },
  {
   "cell_type": "code",
   "execution_count": 21,
   "metadata": {},
   "outputs": [],
   "source": [
    "class CustomCallback(keras.callbacks.Callback):\n",
    "    def on_epoch_end(self, epoch, logs=None):\n",
    "        model_name = f\"~/data/hdd01/datasets/kaggle/nlp/google-ugc/weights/{lora_name}_{lora_rank}_epoch{epoch+1}.lora.h5\"\n",
    "        gemma.backbone.save_lora_weights(model_name)"
   ]
  },
  {
   "cell_type": "code",
   "execution_count": 23,
   "metadata": {},
   "outputs": [
    {
     "name": "stdout",
     "output_type": "stream",
     "text": [
      "Epoch 1/2\n",
      "\u001b[1m10/10\u001b[0m \u001b[32m━━━━━━━━━━━━━━━━━━━━\u001b[0m\u001b[37m\u001b[0m \u001b[1m148s\u001b[0m 13s/step - loss: 1.0353 - sparse_categorical_accuracy: 0.3636 - val_loss: 1.2493 - val_sparse_categorical_accuracy: 0.2117\n",
      "Epoch 2/2\n",
      "\u001b[1m10/10\u001b[0m \u001b[32m━━━━━━━━━━━━━━━━━━━━\u001b[0m\u001b[37m\u001b[0m \u001b[1m121s\u001b[0m 12s/step - loss: 1.0105 - sparse_categorical_accuracy: 0.3689 - val_loss: 1.2297 - val_sparse_categorical_accuracy: 0.2117\n"
     ]
    }
   ],
   "source": [
    "history = gemma.fit(train_samples, validation_data=(val_x, val_y), epochs=train_epoch, batch_size=1, callbacks=[CustomCallback()])\n",
    "\n"
   ]
  },
  {
   "cell_type": "code",
   "execution_count": 24,
   "metadata": {},
   "outputs": [
    {
     "data": {
      "image/png": "[encoded data removed]",
      "text/plain": [
       "<Figure size 1000x500 with 1 Axes>"
      ]
     },
     "metadata": {},
     "output_type": "display_data"
    }
   ],
   "source": [
    "import matplotlib.pyplot as plt\n",
    "\n",
    "plt.figure(figsize=(10, 5))\n",
    "plt.plot(history.history['loss'], label='Training Loss')\n",
    "plt.plot(history.history['val_loss'], label='Validation Loss')\n",
    "plt.xlabel('Epochs')\n",
    "plt.ylabel('Loss')\n",
    "plt.title('Training & Validation Loss Over Time')\n",
    "plt.legend()\n",
    "plt.show()"
   ]
  },
  {
   "cell_type": "code",
   "execution_count": 25,
   "metadata": {},
   "outputs": [
    {
     "name": "stdout",
     "output_type": "stream",
     "text": [
      "\n",
      "Gemma output:\n",
      "<start_of_turn>user\n",
      "詣眞殿, 行茶禮。<end_of_turn>\n",
      "<start_of_turn>model\n",
      "This is a beautiful and poetic phrase in Chinese! \n",
      "\n",
      "**Translation:**\n",
      "\n",
      "* **詣眞殿:**  To pay respects to the main hall.\n",
      "* **行茶禮:** To perform the tea ceremony.\n",
      "\n",
      "**Meaning:**\n",
      "\n",
      "The phrase literally translates to \"To go to the main hall and perform the tea ceremony.\"  However, it carries a deeper meaning. It's a way of expressing respect and hospitality, often used in formal settings like a temple or a tea ceremony. \n",
      "\n",
      "**Context:**\n",
      "\n",
      "This phrase is often used in situations where someone is being invited to a special event or ceremony. It signifies a sense of honor and respect for the host and the occasion.\n",
      "\n",
      "\n",
      "Let me know if you'd like to know more about the tea ceremony or Chinese culture! \n",
      "<end_of_turn>\n",
      "TOTAL TIME ELAPSED: 100.38s\n"
     ]
    }
   ],
   "source": [
    "text_gen('詣眞殿, 行茶禮。')  # https://sillok.history.go.kr/id/kza_10201001_001\n",
    "# 진전(眞殿)에 가서 다례(茶禮)를 지냈다. (고종2년 1월)"
   ]
  },
  {
   "cell_type": "code",
   "execution_count": null,
   "metadata": {},
   "outputs": [],
   "source": [
    "text_gen('凡我在廷, 咸須知悉, 諧底大道, 同此太平。 是予之望也。')  # https://sillok.history.go.kr/id/kza_10201001_003, end of the text \n",
    "# 우리 조정에 있는 모든 신료들은 다 잘 알아서 모두 대도(大道)에 이르고 함께 이 태평을 누리도록 하라. 이것이 나의 바람이다. (고종2년 1월)"
   ]
  },
  {
   "cell_type": "code",
   "execution_count": null,
   "metadata": {},
   "outputs": [],
   "source": [
    "text_gen('詣懿陵, 親祭, 仍詣貞陵, 親祭。')  # https://sillok.history.go.kr/id/kza_10608010_001\n",
    "# 의릉(懿陵)에 나아가 친히 제사를 지냈다. 이어 정릉(貞陵)에 나아가 친히 제사를 지냈다."
   ]
  }
 ],
 "metadata": {
  "kernelspec": {
   "display_name": "gemma2",
   "language": "python",
   "name": "python3"
  },
  "language_info": {
   "codemirror_mode": {
    "name": "ipython",
    "version": 3
   },
   "file_extension": ".py",
   "mimetype": "text/x-python",
   "name": "python",
   "nbconvert_exporter": "python",
   "pygments_lexer": "ipython3",
   "version": "3.10.16"
  }
 },
 "nbformat": 4,
 "nbformat_minor": 2
}
